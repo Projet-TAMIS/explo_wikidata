{
 "cells": [
  {
   "cell_type": "markdown",
   "metadata": {},
   "source": [
    "# Ville de Québec, Wikidata et livres: une exploration"
   ]
  },
  {
   "cell_type": "markdown",
   "metadata": {},
   "source": [
    "## À propos\n",
    "\n",
    "Ce carnet de note s'inscrit dans les recherches du projet [TAMIS](https://tamis.ca/) pour explorer la présence littéraire de la ville de Québec dans Wikidata. Plus de détails au sujet de cette démarche seront publiées sur le carnet de TAMIS."
   ]
  },
  {
   "cell_type": "markdown",
   "metadata": {},
   "source": [
    "## Notes techniques\n",
    "\n",
    "### Qu'est-ce que c'est?\n",
    "\n",
    "Ce document est un carnet Jupyter Notebook configuré pour faire des requêtes SPARQL en s'inspirant directement des [explications de Bob DuCharme](http://www.bobdc.com/blog/jupytersparql/). Les requêtes sont réalisées directement sur le «endpoint» SPAQL de Wikidata:"
   ]
  },
  {
   "cell_type": "code",
   "execution_count": 2,
   "metadata": {},
   "outputs": [
    {
     "data": {
      "text/html": [
       "<div class=\"krn-spql\"><div class=\"magic\">Endpoint set to: https://query.wikidata.org/bigdata/namespace/wdq/sparql</div><div class=\"magic\">Request format: ANY</div><div class=\"magic\">Display: table</div></div>"
      ],
      "text/plain": [
       "Endpoint set to: https://query.wikidata.org/bigdata/namespace/wdq/sparql\n",
       "Request format: ANY\n",
       "Display: table\n"
      ]
     },
     "metadata": {},
     "output_type": "display_data"
    }
   ],
   "source": [
    "%endpoint https://query.wikidata.org/bigdata/namespace/wdq/sparql\n",
    "%format any\n",
    "%display table"
   ]
  },
  {
   "cell_type": "markdown",
   "metadata": {},
   "source": [
    "### Références\n",
    "\n",
    "On s'attend à ce que les livres en général soient présents dans Wikidata en respectant les recommandations du projet livres ([anglais](https://www.wikidata.org/wiki/Wikidata:WikiProject_Books), [français](https://www.wikidata.org/wiki/Wikidata:WikiProject_Books/fr)).\n",
    "\n",
    "Je note au passage quelques numéros d'entités qui seront utilisées fréquemment dans les requêtes qui suivront."
   ]
  },
  {
   "cell_type": "markdown",
   "metadata": {},
   "source": [
    "* Livre: Q571\n",
    "* Version, édition ou traduction: Q3331189\n",
    "* Maison d'éditon: Q2085381\n",
    "* Oeuvre écrite (Q47461344) [note: selon le projet Wikidata Livres, les oeuvres devraient être de ce type, ou d'une de ses sous-classes, comme oeuvre littéraire Q7725634]\n",
    "* Écrivain: Q36180\n",
    "* Auteur: Q482980\n",
    "* Poète: Q49757\n",
    "* Ville de Québec: Q2145\n",
    "* Quelques villes références: Montréal Q340; Paris Q90; New-York City Q60\n",
    "* Quelques villes créatives de l'UNESCO en littérature: Angoulème Q134346, Barcelone Q1492, Dublin Q1761, Milan Q490, Seattle Q5083"
   ]
  },
  {
   "cell_type": "markdown",
   "metadata": {},
   "source": [
    "Je note également quelques propriétés utiles."
   ]
  },
  {
   "cell_type": "markdown",
   "metadata": {},
   "source": [
    "* lieu (P276) (endroit où se situe l'objet, la structure ou l'événement. Dans le cas d'une entité administrative utiliser P131. Dans le cas d'une entité géographique utiliser P706.)\n",
    "* localisation administrative (P131)\n",
    "* localisation géographique (P706)\n",
    "* sous-classe de (P279)\n",
    "* nature de l'élément (P31)\n",
    "* siège (P159)\n",
    "* éditeur (P123)\n",
    "* scolarité (P69)\n",
    "* lieu de naissance (P19)"
   ]
  },
  {
   "cell_type": "markdown",
   "metadata": {},
   "source": [
    "## Exploration sur les maisons d'édition\n",
    "\n",
    "### De Québec\n",
    "\n",
    "On veut avoir la liste des maisons d'édition de Québec présentes sur Wikidata (à noter l'utilisation de P159 et de P131... P159 devrait suffire, mais on trouve plus de résultats en utilisant aussi P131)."
   ]
  },
  {
   "cell_type": "code",
   "execution_count": 2,
   "metadata": {},
   "outputs": [
    {
     "data": {
      "text/html": [
       "<div class=\"krn-spql\"><table><tr class=hdr><th>publisher</th>\n",
       "<th>publisherLabel</th></tr><tr class=odd><td class=val><a href=\"http://www.wikidata.org/entity/Q2338135\" target=\"_other\">http://www.wikidata.org/entity/Q2338135</a></td>\n",
       "<td class=val>Musée national des beaux-arts du Québec</td></tr><tr class=even><td class=val><a href=\"http://www.wikidata.org/entity/Q1705530\" target=\"_other\">http://www.wikidata.org/entity/Q1705530</a></td>\n",
       "<td class=val>Musée de la civilisation</td></tr><tr class=odd><td class=val><a href=\"http://www.wikidata.org/entity/Q3402572\" target=\"_other\">http://www.wikidata.org/entity/Q3402572</a></td>\n",
       "<td class=val>Presses de l'Université Laval</td></tr><tr class=even><td class=val><a href=\"http://www.wikidata.org/entity/Q16506987\" target=\"_other\">http://www.wikidata.org/entity/Q16506987</a></td>\n",
       "<td class=val>Bibliothèque de l'Université Laval</td></tr><tr class=odd><td class=val><a href=\"http://www.wikidata.org/entity/Q1067935\" target=\"_other\">http://www.wikidata.org/entity/Q1067935</a></td>\n",
       "<td class=val>Université Laval</td></tr><tr class=even><td class=val><a href=\"http://www.wikidata.org/entity/Q3402573\" target=\"_other\">http://www.wikidata.org/entity/Q3402573</a></td>\n",
       "<td class=val>Presses de l'Université du Québec</td></tr><tr class=odd><td class=val><a href=\"http://www.wikidata.org/entity/Q95623497\" target=\"_other\">http://www.wikidata.org/entity/Q95623497</a></td>\n",
       "<td class=val>Librairie Garneau</td></tr><tr class=even><td class=val><a href=\"http://www.wikidata.org/entity/Q2986483\" target=\"_other\">http://www.wikidata.org/entity/Q2986483</a></td>\n",
       "<td class=val>Commission de la capitale nationale du Québec</td></tr><tr class=odd><td class=val><a href=\"http://www.wikidata.org/entity/Q95690756\" target=\"_other\">http://www.wikidata.org/entity/Q95690756</a></td>\n",
       "<td class=val>L’Œil de Poisson</td></tr><tr class=even><td class=val><a href=\"http://www.wikidata.org/entity/Q16684371\" target=\"_other\">http://www.wikidata.org/entity/Q16684371</a></td>\n",
       "<td class=val>Éditions Alto</td></tr><tr class=odd><td class=val><a href=\"http://www.wikidata.org/entity/Q3579664\" target=\"_other\">http://www.wikidata.org/entity/Q3579664</a></td>\n",
       "<td class=val>Éditions du Septentrion</td></tr><tr class=even><td class=val><a href=\"http://www.wikidata.org/entity/Q3579394\" target=\"_other\">http://www.wikidata.org/entity/Q3579394</a></td>\n",
       "<td class=val>Éditions Le Dauphin Blanc</td></tr><tr class=odd><td class=val><a href=\"http://www.wikidata.org/entity/Q326282\" target=\"_other\">http://www.wikidata.org/entity/Q326282</a></td>\n",
       "<td class=val>Université du Québec</td></tr><tr class=even><td class=val><a href=\"http://www.wikidata.org/entity/Q40882270\" target=\"_other\">http://www.wikidata.org/entity/Q40882270</a></td>\n",
       "<td class=val>Dussault &amp; Proulx</td></tr><tr class=odd><td class=val><a href=\"http://www.wikidata.org/entity/Q3479007\" target=\"_other\">http://www.wikidata.org/entity/Q3479007</a></td>\n",
       "<td class=val>Septembre éditeur</td></tr><tr class=even><td class=val><a href=\"http://www.wikidata.org/entity/Q95690827\" target=\"_other\">http://www.wikidata.org/entity/Q95690827</a></td>\n",
       "<td class=val>Le Lieu</td></tr><tr class=odd><td class=val><a href=\"http://www.wikidata.org/entity/Q95690585\" target=\"_other\">http://www.wikidata.org/entity/Q95690585</a></td>\n",
       "<td class=val>La Chambre blanche</td></tr><tr class=even><td class=val><a href=\"http://www.wikidata.org/entity/Q97044787\" target=\"_other\">http://www.wikidata.org/entity/Q97044787</a></td>\n",
       "<td class=val>The Chronicle-Telegraph Pub. Co.</td></tr></table><div class=\"tinfo\">Total: 18, Shown: 18</div></div>"
      ]
     },
     "metadata": {},
     "output_type": "display_data"
    }
   ],
   "source": [
    "SELECT distinct ?publisher ?publisherLabel\n",
    "WHERE\n",
    "{\n",
    "    ?publisher wdt:P31/wdt:P279* wd:Q2085381 .\n",
    "    ?publisher (wdt:P159|wdt:P131)/wdt:P131* wd:Q2145 .\n",
    "    SERVICE wikibase:label { bd:serviceParam wikibase:language \"[AUTO_LANGUAGE],fr,en\". }\n",
    "}"
   ]
  },
  {
   "cell_type": "markdown",
   "metadata": {},
   "source": [
    "Je note la présence d'organisations disparues (Dussault & Proulx), d'organisations qu'on n'aurait pas identifiées comme maisons d'éditions _a priori_ (le Musée de la civilisation, la CCNQ ou des centres d'artistes). On voit que la fiche des Éditions Alto a été complétée depuis les observations précédentes.\n",
    "\n",
    "Si on s'intéresse aux éditions publiées par des entités de Québec (ici, on ne spécifie pas qu'on cherche des maisons d'édition, parce qu'on part des éditions, donc on assume qu'elles sont publiées par des maisons):"
   ]
  },
  {
   "cell_type": "code",
   "execution_count": 3,
   "metadata": {},
   "outputs": [
    {
     "data": {
      "text/html": [
       "<div class=\"krn-spql\"><table><tr class=hdr><th>edition</th>\n",
       "<th>editionLabel</th>\n",
       "<th>publisher</th>\n",
       "<th>publisherLabel</th></tr><tr class=odd><td class=val><a href=\"http://www.wikidata.org/entity/Q52182553\" target=\"_other\">http://www.wikidata.org/entity/Q52182553</a></td>\n",
       "<td class=val>Le Journalisme à l'heure du Net</td>\n",
       "<td class=val><a href=\"http://www.wikidata.org/entity/Q3402572\" target=\"_other\">http://www.wikidata.org/entity/Q3402572</a></td>\n",
       "<td class=val>Presses de l'Université Laval</td></tr><tr class=even><td class=val><a href=\"http://www.wikidata.org/entity/Q58341258\" target=\"_other\">http://www.wikidata.org/entity/Q58341258</a></td>\n",
       "<td class=val>Statistiques sociales</td>\n",
       "<td class=val><a href=\"http://www.wikidata.org/entity/Q3402572\" target=\"_other\">http://www.wikidata.org/entity/Q3402572</a></td>\n",
       "<td class=val>Presses de l'Université Laval</td></tr><tr class=odd><td class=val><a href=\"http://www.wikidata.org/entity/Q63373321\" target=\"_other\">http://www.wikidata.org/entity/Q63373321</a></td>\n",
       "<td class=val>Bibliothèque de l'Université Laval : 165 ans d'histoire : 1852-2017</td>\n",
       "<td class=val><a href=\"http://www.wikidata.org/entity/Q3402572\" target=\"_other\">http://www.wikidata.org/entity/Q3402572</a></td>\n",
       "<td class=val>Presses de l'Université Laval</td></tr><tr class=even><td class=val><a href=\"http://www.wikidata.org/entity/Q63615887\" target=\"_other\">http://www.wikidata.org/entity/Q63615887</a></td>\n",
       "<td class=val>Dialogue avec l'histoire : les collections de la Bibliothèque de l'Université Laval</td>\n",
       "<td class=val><a href=\"http://www.wikidata.org/entity/Q3402572\" target=\"_other\">http://www.wikidata.org/entity/Q3402572</a></td>\n",
       "<td class=val>Presses de l'Université Laval</td></tr><tr class=odd><td class=val><a href=\"http://www.wikidata.org/entity/Q77009625\" target=\"_other\">http://www.wikidata.org/entity/Q77009625</a></td>\n",
       "<td class=val>Dictionnaire des artistes de langue française en Amérique du Nord</td>\n",
       "<td class=val><a href=\"http://www.wikidata.org/entity/Q3402572\" target=\"_other\">http://www.wikidata.org/entity/Q3402572</a></td>\n",
       "<td class=val>Presses de l'Université Laval</td></tr><tr class=even><td class=val><a href=\"http://www.wikidata.org/entity/Q77009625\" target=\"_other\">http://www.wikidata.org/entity/Q77009625</a></td>\n",
       "<td class=val>Dictionnaire des artistes de langue française en Amérique du Nord</td>\n",
       "<td class=val><a href=\"http://www.wikidata.org/entity/Q2338135\" target=\"_other\">http://www.wikidata.org/entity/Q2338135</a></td>\n",
       "<td class=val>Musée national des beaux-arts du Québec</td></tr></table><div class=\"tinfo\">Total: 6, Shown: 6</div></div>"
      ]
     },
     "metadata": {},
     "output_type": "display_data"
    }
   ],
   "source": [
    "SELECT distinct ?edition ?editionLabel ?publisher ?publisherLabel\n",
    "WHERE\n",
    "{\n",
    "    ?edition wdt:P31/wdt:P279* wd:Q3331189 .\n",
    "    ?edition wdt:P123 ?publisher .\n",
    "    ?publisher (wdt:P159|wdt:P131)/wdt:P131 wd:Q2145 .\n",
    "    SERVICE wikibase:label { bd:serviceParam wikibase:language \"[AUTO_LANGUAGE],fr,en\". }\n",
    "}"
   ]
  },
  {
   "cell_type": "markdown",
   "metadata": {},
   "source": [
    "Et si on regarde les oeuvres qui sont publiées à Québec (ce qui ne serait pas une forme correcte selon le Wikiprojet Livres, mais on peut imaginer qu'il y a des entrées qui ne s'y conforment pas):"
   ]
  },
  {
   "cell_type": "code",
   "execution_count": 14,
   "metadata": {},
   "outputs": [
    {
     "data": {
      "text/html": [
       "<div class=\"krn-spql\"><div class=\"krn-error\"><span class=\"title\">Error:</span> SPARQL error: EndPointInternalError: endpoint returned code 500 and response. <br/><br/>Response:<br/>b'SPARQL-QUERY: queryStr=SELECT ?work ?workLabel\\nWHERE\\n{\\n    ?work wdt:P31/wdt:P279 wd:Q47461344 .\\n    ?publisher (wdt:P159|wdt:P131)/wdt:P131* wd:Q2145 .\\n    ?work wdt:P123 ?publisher .\\n    SERVICE wikibase:label { bd:serviceParam wikibase:language &quot;[AUTO_LANGUAGE],fr,en&quot;. }\\n}\\n\\njava.util.concurrent.TimeoutException\\n\\tat java.util.concurrent.FutureTask.get(FutureTask.java:205)\\n\\tat com.bigdata.rdf.sail.webapp.BigdataServlet.submitApiTask(BigdataServlet.java:292)\\n\\tat com.bigdata.rdf.sail.webapp.QueryServlet.doSparqlQuery(QueryServlet.java:678)\\n\\tat com.bigdata.rdf.sail.webapp.QueryServlet.doGet(QueryServlet.java:290)\\n\\tat com.bigdata.rdf.sail.webapp.RESTServlet.doGet(RESTServlet.java:240)\\n\\tat com.bigdata.rdf.sail.webapp.MultiTenancyServlet.doGet(MultiTenancyServlet.java:273)\\n\\tat javax.servlet.http.HttpServlet.service(HttpServlet.java:687)\\n\\tat javax.servlet.http.HttpServlet.service(HttpServlet.java:790)\\n\\tat org.eclipse.jetty.servlet.ServletHolder.handle(ServletHolder.java:865)\\n\\tat org.eclipse.jetty.servlet.ServletHandler$CachedChain.doFilter(ServletHandler.java:1655)\\n\\tat org.wikidata.query.rdf.blazegraph.throttling.ThrottlingFilter.doFilter(ThrottlingFilter.java:320)\\n\\tat org.eclipse.jetty.servlet.ServletHandler$CachedChain.doFilter(ServletHandler.java:1642)\\n\\tat org.wikidata.query.rdf.blazegraph.throttling.SystemOverloadFilter.doFilter(SystemOverloadFilter.java:82)\\n\\tat org.eclipse.jetty.servlet.ServletHandler$CachedChain.doFilter(ServletHandler.java:1642)\\n\\tat ch.qos.logback.classic.helpers.MDCInsertingServletFilter.doFilter(MDCInsertingServletFilter.java:49)\\n\\tat org.eclipse.jetty.servlet.ServletHandler$CachedChain.doFilter(ServletHandler.java:1642)\\n\\tat org.wikidata.query.rdf.blazegraph.filters.QueryEventSenderFilter.doFilter(QueryEventSenderFilter.java:117)\\n\\tat org.eclipse.jetty.servlet.ServletHandler$CachedChain.doFilter(ServletHandler.java:1642)\\n\\tat org.wikidata.query.rdf.blazegraph.filters.ClientIPFilter.doFilter(ClientIPFilter.java:43)\\n\\tat org.eclipse.jetty.servlet.ServletHandler$CachedChain.doFilter(ServletHandler.java:1642)\\n\\tat org.wikidata.query.rdf.blazegraph.filters.RealAgentFilter.doFilter(RealAgentFilter.java:33)\\n\\tat org.eclipse.jetty.servlet.ServletHandler$CachedChain.doFilter(ServletHandler.java:1634)\\n\\tat org.eclipse.jetty.servlet.ServletHandler.doHandle(ServletHandler.java:533)\\n\\tat org.eclipse.jetty.server.handler.ScopedHandler.handle(ScopedHandler.java:146)\\n\\tat org.eclipse.jetty.security.SecurityHandler.handle(SecurityHandler.java:548)\\n\\tat org.eclipse.jetty.server.handler.HandlerWrapper.handle(HandlerWrapper.java:132)\\n\\tat org.eclipse.jetty.server.handler.ScopedHandler.nextHandle(ScopedHandler.java:257)\\n\\tat org.eclipse.jetty.server.session.SessionHandler.doHandle(SessionHandler.java:1595)\\n\\tat org.eclipse.jetty.server.handler.ScopedHandler.nextHandle(ScopedHandler.java:255)\\n\\tat org.eclipse.jetty.server.handler.ContextHandler.doHandle(ContextHandler.java:1340)\\n\\tat org.eclipse.jetty.server.handler.ScopedHandler.nextScope(ScopedHandler.java:203)\\n\\tat org.eclipse.jetty.servlet.ServletHandler.doScope(ServletHandler.java:473)\\n\\tat org.eclipse.jetty.server.session.SessionHandler.doScope(SessionHandler.java:1564)\\n\\tat org.eclipse.jetty.server.handler.ScopedHandler.nextScope(ScopedHandler.java:201)\\n\\tat org.eclipse.jetty.server.handler.ContextHandler.doScope(ContextHandler.java:1242)\\n\\tat org.eclipse.jetty.server.handler.ScopedHandler.handle(ScopedHandler.java:144)\\n\\tat org.eclipse.jetty.server.handler.ContextHandlerCollection.handle(ContextHandlerCollection.java:220)\\n\\tat org.eclipse.jetty.server.handler.HandlerCollection.handle(HandlerCollection.java:126)\\n\\tat org.eclipse.jetty.server.handler.HandlerWrapper.handle(HandlerWrapper.java:132)\\n\\tat org.eclipse.jetty.server.Server.handle(Server.java:503)\\n\\tat org.eclipse.jetty.server.HttpChannel.handle(HttpChannel.java:364)\\n\\tat org.eclipse.jetty.server.HttpConnection.onFillable(HttpConnection.java:260)\\n\\tat org.eclipse.jetty.io.AbstractConnection$ReadCallback.succeeded(AbstractConnection.java:305)\\n\\tat org.eclipse.jetty.io.FillInterest.fillable(FillInterest.java:103)\\n\\tat org.eclipse.jetty.io.ChannelEndPoint$2.run(ChannelEndPoint.java:118)\\n\\tat org.eclipse.jetty.util.thread.strategy.EatWhatYouKill.runTask(EatWhatYouKill.java:333)\\n\\tat org.eclipse.jetty.util.thread.strategy.EatWhatYouKill.doProduce(EatWhatYouKill.java:310)\\n\\tat org.eclipse.jetty.util.thread.strategy.EatWhatYouKill.tryProduce(EatWhatYouKill.java:168)\\n\\tat org.eclipse.jetty.util.thread.strategy.EatWhatYouKill.run(EatWhatYouKill.java:126)\\n\\tat org.eclipse.jetty.util.thread.ReservedThreadExecutor$ReservedThread.run(ReservedThreadExecutor.java:366)\\n\\tat org.eclipse.jetty.util.thread.QueuedThreadPool.runJob(QueuedThreadPool.java:765)\\n\\tat org.eclipse.jetty.util.thread.QueuedThreadPool$2.run(QueuedThreadPool.java:683)\\n\\tat java.lang.Thread.run(Thread.java:748)\\n'</div></div>"
      ],
      "text/plain": [
       "Error: SPARQL error: EndPointInternalError: endpoint returned code 500 and response. \n",
       "\n",
       "Response:\n",
       "b'SPARQL-QUERY: queryStr=SELECT ?work ?workLabel\\nWHERE\\n{\\n    ?work wdt:P31/wdt:P279 wd:Q47461344 .\\n    ?publisher (wdt:P159|wdt:P131)/wdt:P131* wd:Q2145 .\\n    ?work wdt:P123 ?publisher .\\n    SERVICE wikibase:label { bd:serviceParam wikibase:language \"[AUTO_LANGUAGE],fr,en\". }\\n}\\n\\njava.util.concurrent.TimeoutException\\n\\tat java.util.concurrent.FutureTask.get(FutureTask.java:205)\\n\\tat com.bigdata.rdf.sail.webapp.BigdataServlet.submitApiTask(BigdataServlet.java:292)\\n\\tat com.bigdata.rdf.sail.webapp.QueryServlet.doSparqlQuery(QueryServlet.java:678)\\n\\tat com.bigdata.rdf.sail.webapp.QueryServlet.doGet(QueryServlet.java:290)\\n\\tat com.bigdata.rdf.sail.webapp.RESTServlet.doGet(RESTServlet.java:240)\\n\\tat com.bigdata.rdf.sail.webapp.MultiTenancyServlet.doGet(MultiTenancyServlet.java:273)\\n\\tat javax.servlet.http.HttpServlet.service(HttpServlet.java:687)\\n\\tat javax.servlet.http.HttpServlet.service(HttpServlet.java:790)\\n\\tat org.eclipse.jetty.servlet.ServletHolder.handle(ServletHolder.java:865)\\n\\tat org.eclipse.jetty.servlet.ServletHandler$CachedChain.doFilter(ServletHandler.java:1655)\\n\\tat org.wikidata.query.rdf.blazegraph.throttling.ThrottlingFilter.doFilter(ThrottlingFilter.java:320)\\n\\tat org.eclipse.jetty.servlet.ServletHandler$CachedChain.doFilter(ServletHandler.java:1642)\\n\\tat org.wikidata.query.rdf.blazegraph.throttling.SystemOverloadFilter.doFilter(SystemOverloadFilter.java:82)\\n\\tat org.eclipse.jetty.servlet.ServletHandler$CachedChain.doFilter(ServletHandler.java:1642)\\n\\tat ch.qos.logback.classic.helpers.MDCInsertingServletFilter.doFilter(MDCInsertingServletFilter.java:49)\\n\\tat org.eclipse.jetty.servlet.ServletHandler$CachedChain.doFilter(ServletHandler.java:1642)\\n\\tat org.wikidata.query.rdf.blazegraph.filters.QueryEventSenderFilter.doFilter(QueryEventSenderFilter.java:117)\\n\\tat org.eclipse.jetty.servlet.ServletHandler$CachedChain.doFilter(ServletHandler.java:1642)\\n\\tat org.wikidata.query.rdf.blazegraph.filters.ClientIPFilter.doFilter(ClientIPFilter.java:43)\\n\\tat org.eclipse.jetty.servlet.ServletHandler$CachedChain.doFilter(ServletHandler.java:1642)\\n\\tat org.wikidata.query.rdf.blazegraph.filters.RealAgentFilter.doFilter(RealAgentFilter.java:33)\\n\\tat org.eclipse.jetty.servlet.ServletHandler$CachedChain.doFilter(ServletHandler.java:1634)\\n\\tat org.eclipse.jetty.servlet.ServletHandler.doHandle(ServletHandler.java:533)\\n\\tat org.eclipse.jetty.server.handler.ScopedHandler.handle(ScopedHandler.java:146)\\n\\tat org.eclipse.jetty.security.SecurityHandler.handle(SecurityHandler.java:548)\\n\\tat org.eclipse.jetty.server.handler.HandlerWrapper.handle(HandlerWrapper.java:132)\\n\\tat org.eclipse.jetty.server.handler.ScopedHandler.nextHandle(ScopedHandler.java:257)\\n\\tat org.eclipse.jetty.server.session.SessionHandler.doHandle(SessionHandler.java:1595)\\n\\tat org.eclipse.jetty.server.handler.ScopedHandler.nextHandle(ScopedHandler.java:255)\\n\\tat org.eclipse.jetty.server.handler.ContextHandler.doHandle(ContextHandler.java:1340)\\n\\tat org.eclipse.jetty.server.handler.ScopedHandler.nextScope(ScopedHandler.java:203)\\n\\tat org.eclipse.jetty.servlet.ServletHandler.doScope(ServletHandler.java:473)\\n\\tat org.eclipse.jetty.server.session.SessionHandler.doScope(SessionHandler.java:1564)\\n\\tat org.eclipse.jetty.server.handler.ScopedHandler.nextScope(ScopedHandler.java:201)\\n\\tat org.eclipse.jetty.server.handler.ContextHandler.doScope(ContextHandler.java:1242)\\n\\tat org.eclipse.jetty.server.handler.ScopedHandler.handle(ScopedHandler.java:144)\\n\\tat org.eclipse.jetty.server.handler.ContextHandlerCollection.handle(ContextHandlerCollection.java:220)\\n\\tat org.eclipse.jetty.server.handler.HandlerCollection.handle(HandlerCollection.java:126)\\n\\tat org.eclipse.jetty.server.handler.HandlerWrapper.handle(HandlerWrapper.java:132)\\n\\tat org.eclipse.jetty.server.Server.handle(Server.java:503)\\n\\tat org.eclipse.jetty.server.HttpChannel.handle(HttpChannel.java:364)\\n\\tat org.eclipse.jetty.server.HttpConnection.onFillable(HttpConnection.java:260)\\n\\tat org.eclipse.jetty.io.AbstractConnection$ReadCallback.succeeded(AbstractConnection.java:305)\\n\\tat org.eclipse.jetty.io.FillInterest.fillable(FillInterest.java:103)\\n\\tat org.eclipse.jetty.io.ChannelEndPoint$2.run(ChannelEndPoint.java:118)\\n\\tat org.eclipse.jetty.util.thread.strategy.EatWhatYouKill.runTask(EatWhatYouKill.java:333)\\n\\tat org.eclipse.jetty.util.thread.strategy.EatWhatYouKill.doProduce(EatWhatYouKill.java:310)\\n\\tat org.eclipse.jetty.util.thread.strategy.EatWhatYouKill.tryProduce(EatWhatYouKill.java:168)\\n\\tat org.eclipse.jetty.util.thread.strategy.EatWhatYouKill.run(EatWhatYouKill.java:126)\\n\\tat org.eclipse.jetty.util.thread.ReservedThreadExecutor$ReservedThread.run(ReservedThreadExecutor.java:366)\\n\\tat org.eclipse.jetty.util.thread.QueuedThreadPool.runJob(QueuedThreadPool.java:765)\\n\\tat org.eclipse.jetty.util.thread.QueuedThreadPool$2.run(QueuedThreadPool.java:683)\\n\\tat java.lang.Thread.run(Thread.java:748)\\n'"
      ]
     },
     "metadata": {},
     "output_type": "display_data"
    }
   ],
   "source": [
    "SELECT ?work ?workLabel\n",
    "WHERE\n",
    "{\n",
    "    ?work wdt:P31/wdt:P279 wd:Q47461344 .\n",
    "    ?publisher (wdt:P159|wdt:P131)/wdt:P131* wd:Q2145 .\n",
    "    ?work wdt:P123 ?publisher .\n",
    "    SERVICE wikibase:label { bd:serviceParam wikibase:language \"[AUTO_LANGUAGE],fr,en\". }\n",
    "}\n"
   ]
  },
  {
   "cell_type": "markdown",
   "metadata": {},
   "source": [
    "Il faut noter que la requête n'est pas parfaite: on aurait dû mettre P279\\* dans la première ligne de la clause WHERE pour identifier tous les sous-types d'oeuvre littéraire, mais ce n'était pas possible parce que ça fait en sorte que la requête n'est pas exécutée («time out»). C'est d'ailleurs le cas si on l'exécute dans ce notebook Jupyter. Dans le query service de Wikidata, on a 94 résultats.\n",
    "\n",
    "### D'autres villes\n",
    "\n",
    "Pour se donner des points de repère, on veut comparer avec les autres villes créatives l'UNESCO en littérature, et nos villes de référence."
   ]
  },
  {
   "cell_type": "code",
   "execution_count": 6,
   "metadata": {},
   "outputs": [
    {
     "data": {
      "text/html": [
       "<div class=\"krn-spql\"><table><tr class=hdr><th>publisher</th>\n",
       "<th>publisherLabel</th>\n",
       "<th>city</th>\n",
       "<th>cityLabel</th></tr><tr class=odd><td class=val><a href=\"http://www.wikidata.org/entity/Q3976712\" target=\"_other\">http://www.wikidata.org/entity/Q3976712</a></td>\n",
       "<td class=val>Sugar Music</td>\n",
       "<td class=val><a href=\"http://www.wikidata.org/entity/Q490\" target=\"_other\">http://www.wikidata.org/entity/Q490</a></td>\n",
       "<td class=val>Milan</td></tr><tr class=even><td class=val><a href=\"http://www.wikidata.org/entity/Q19752886\" target=\"_other\">http://www.wikidata.org/entity/Q19752886</a></td>\n",
       "<td class=val>Q19752886</td>\n",
       "<td class=val><a href=\"http://www.wikidata.org/entity/Q490\" target=\"_other\">http://www.wikidata.org/entity/Q490</a></td>\n",
       "<td class=val>Milan</td></tr><tr class=odd><td class=val><a href=\"http://www.wikidata.org/entity/Q19752958\" target=\"_other\">http://www.wikidata.org/entity/Q19752958</a></td>\n",
       "<td class=val>Q19752958</td>\n",
       "<td class=val><a href=\"http://www.wikidata.org/entity/Q490\" target=\"_other\">http://www.wikidata.org/entity/Q490</a></td>\n",
       "<td class=val>Milan</td></tr><tr class=even><td class=val><a href=\"http://www.wikidata.org/entity/Q19753302\" target=\"_other\">http://www.wikidata.org/entity/Q19753302</a></td>\n",
       "<td class=val>Q19753302</td>\n",
       "<td class=val><a href=\"http://www.wikidata.org/entity/Q490\" target=\"_other\">http://www.wikidata.org/entity/Q490</a></td>\n",
       "<td class=val>Milan</td></tr><tr class=odd><td class=val><a href=\"http://www.wikidata.org/entity/Q19753311\" target=\"_other\">http://www.wikidata.org/entity/Q19753311</a></td>\n",
       "<td class=val>Q19753311</td>\n",
       "<td class=val><a href=\"http://www.wikidata.org/entity/Q490\" target=\"_other\">http://www.wikidata.org/entity/Q490</a></td>\n",
       "<td class=val>Milan</td></tr><tr class=even><td class=val><a href=\"http://www.wikidata.org/entity/Q19753313\" target=\"_other\">http://www.wikidata.org/entity/Q19753313</a></td>\n",
       "<td class=val>Q19753313</td>\n",
       "<td class=val><a href=\"http://www.wikidata.org/entity/Q490\" target=\"_other\">http://www.wikidata.org/entity/Q490</a></td>\n",
       "<td class=val>Milan</td></tr><tr class=odd><td class=val><a href=\"http://www.wikidata.org/entity/Q19753320\" target=\"_other\">http://www.wikidata.org/entity/Q19753320</a></td>\n",
       "<td class=val>Q19753320</td>\n",
       "<td class=val><a href=\"http://www.wikidata.org/entity/Q490\" target=\"_other\">http://www.wikidata.org/entity/Q490</a></td>\n",
       "<td class=val>Milan</td></tr><tr class=even><td class=val><a href=\"http://www.wikidata.org/entity/Q19753419\" target=\"_other\">http://www.wikidata.org/entity/Q19753419</a></td>\n",
       "<td class=val>Q19753419</td>\n",
       "<td class=val><a href=\"http://www.wikidata.org/entity/Q490\" target=\"_other\">http://www.wikidata.org/entity/Q490</a></td>\n",
       "<td class=val>Milan</td></tr><tr class=odd><td class=val><a href=\"http://www.wikidata.org/entity/Q19753417\" target=\"_other\">http://www.wikidata.org/entity/Q19753417</a></td>\n",
       "<td class=val>Q19753417</td>\n",
       "<td class=val><a href=\"http://www.wikidata.org/entity/Q490\" target=\"_other\">http://www.wikidata.org/entity/Q490</a></td>\n",
       "<td class=val>Milan</td></tr><tr class=even><td class=val><a href=\"http://www.wikidata.org/entity/Q19753423\" target=\"_other\">http://www.wikidata.org/entity/Q19753423</a></td>\n",
       "<td class=val>Q19753423</td>\n",
       "<td class=val><a href=\"http://www.wikidata.org/entity/Q490\" target=\"_other\">http://www.wikidata.org/entity/Q490</a></td>\n",
       "<td class=val>Milan</td></tr><tr class=odd><td class=val><a href=\"http://www.wikidata.org/entity/Q19753437\" target=\"_other\">http://www.wikidata.org/entity/Q19753437</a></td>\n",
       "<td class=val>Q19753437</td>\n",
       "<td class=val><a href=\"http://www.wikidata.org/entity/Q490\" target=\"_other\">http://www.wikidata.org/entity/Q490</a></td>\n",
       "<td class=val>Milan</td></tr><tr class=even><td class=val><a href=\"http://www.wikidata.org/entity/Q19753458\" target=\"_other\">http://www.wikidata.org/entity/Q19753458</a></td>\n",
       "<td class=val>Q19753458</td>\n",
       "<td class=val><a href=\"http://www.wikidata.org/entity/Q490\" target=\"_other\">http://www.wikidata.org/entity/Q490</a></td>\n",
       "<td class=val>Milan</td></tr><tr class=odd><td class=val><a href=\"http://www.wikidata.org/entity/Q19753468\" target=\"_other\">http://www.wikidata.org/entity/Q19753468</a></td>\n",
       "<td class=val>Q19753468</td>\n",
       "<td class=val><a href=\"http://www.wikidata.org/entity/Q490\" target=\"_other\">http://www.wikidata.org/entity/Q490</a></td>\n",
       "<td class=val>Milan</td></tr><tr class=even><td class=val><a href=\"http://www.wikidata.org/entity/Q19753474\" target=\"_other\">http://www.wikidata.org/entity/Q19753474</a></td>\n",
       "<td class=val>Q19753474</td>\n",
       "<td class=val><a href=\"http://www.wikidata.org/entity/Q490\" target=\"_other\">http://www.wikidata.org/entity/Q490</a></td>\n",
       "<td class=val>Milan</td></tr><tr class=odd><td class=val><a href=\"http://www.wikidata.org/entity/Q19753472\" target=\"_other\">http://www.wikidata.org/entity/Q19753472</a></td>\n",
       "<td class=val>Q19753472</td>\n",
       "<td class=val><a href=\"http://www.wikidata.org/entity/Q490\" target=\"_other\">http://www.wikidata.org/entity/Q490</a></td>\n",
       "<td class=val>Milan</td></tr><tr class=even><td class=val><a href=\"http://www.wikidata.org/entity/Q19753484\" target=\"_other\">http://www.wikidata.org/entity/Q19753484</a></td>\n",
       "<td class=val>Q19753484</td>\n",
       "<td class=val><a href=\"http://www.wikidata.org/entity/Q490\" target=\"_other\">http://www.wikidata.org/entity/Q490</a></td>\n",
       "<td class=val>Milan</td></tr><tr class=odd><td class=val><a href=\"http://www.wikidata.org/entity/Q19753492\" target=\"_other\">http://www.wikidata.org/entity/Q19753492</a></td>\n",
       "<td class=val>Q19753492</td>\n",
       "<td class=val><a href=\"http://www.wikidata.org/entity/Q490\" target=\"_other\">http://www.wikidata.org/entity/Q490</a></td>\n",
       "<td class=val>Milan</td></tr><tr class=even><td class=val><a href=\"http://www.wikidata.org/entity/Q19753498\" target=\"_other\">http://www.wikidata.org/entity/Q19753498</a></td>\n",
       "<td class=val>Q19753498</td>\n",
       "<td class=val><a href=\"http://www.wikidata.org/entity/Q490\" target=\"_other\">http://www.wikidata.org/entity/Q490</a></td>\n",
       "<td class=val>Milan</td></tr><tr class=odd><td class=val><a href=\"http://www.wikidata.org/entity/Q19753503\" target=\"_other\">http://www.wikidata.org/entity/Q19753503</a></td>\n",
       "<td class=val>Q19753503</td>\n",
       "<td class=val><a href=\"http://www.wikidata.org/entity/Q490\" target=\"_other\">http://www.wikidata.org/entity/Q490</a></td>\n",
       "<td class=val>Milan</td></tr><tr class=even><td class=val><a href=\"http://www.wikidata.org/entity/Q19753509\" target=\"_other\">http://www.wikidata.org/entity/Q19753509</a></td>\n",
       "<td class=val>Q19753509</td>\n",
       "<td class=val><a href=\"http://www.wikidata.org/entity/Q490\" target=\"_other\">http://www.wikidata.org/entity/Q490</a></td>\n",
       "<td class=val>Milan</td></tr></table><div class=\"tinfo\">Total: 1191, Shown: 20</div></div>"
      ]
     },
     "metadata": {},
     "output_type": "display_data"
    }
   ],
   "source": [
    "SELECT distinct ?publisher ?publisherLabel ?city ?cityLabel\n",
    "WHERE\n",
    "{\n",
    "    VALUES ?city { wd:Q2145 wd:Q134346 wd:Q1492 wd:Q1761 wd:Q490 wd:Q5083 wd:Q340 wd:Q90 wd:Q60 }\n",
    "    ?publisher wdt:P31/wdt:P279* wd:Q2085381 .\n",
    "    ?publisher (wdt:P159|wdt:P131)/wdt:P131* ?city .\n",
    "    SERVICE wikibase:label { bd:serviceParam wikibase:language \"[AUTO_LANGUAGE],fr,en\". }\n",
    "}"
   ]
  },
  {
   "cell_type": "markdown",
   "metadata": {},
   "source": [
    "Avec 1191 maisons d'édition dans les 9 villes échantillonnées, on a une moyenne de 132 maisons par ville (7 fois plus qu'à Québec). Si on veut faire le décompte par ville:"
   ]
  },
  {
   "cell_type": "code",
   "execution_count": 7,
   "metadata": {},
   "outputs": [
    {
     "data": {
      "text/html": [
       "<div class=\"krn-spql\"><table><tr class=hdr><th>cityLabel</th>\n",
       "<th>pubCount</th></tr><tr class=odd><td class=val>Montréal</td>\n",
       "<td class=val>61</td></tr><tr class=even><td class=val>Milan</td>\n",
       "<td class=val>165</td></tr><tr class=odd><td class=val>Barcelone</td>\n",
       "<td class=val>153</td></tr><tr class=even><td class=val>Paris</td>\n",
       "<td class=val>421</td></tr><tr class=odd><td class=val>New York</td>\n",
       "<td class=val>324</td></tr><tr class=even><td class=val>Québec</td>\n",
       "<td class=val>18</td></tr><tr class=odd><td class=val>Dublin</td>\n",
       "<td class=val>19</td></tr><tr class=even><td class=val>Seattle</td>\n",
       "<td class=val>28</td></tr><tr class=odd><td class=val>Angoulême</td>\n",
       "<td class=val>2</td></tr></table><div class=\"tinfo\">Total: 9, Shown: 9</div></div>"
      ]
     },
     "metadata": {},
     "output_type": "display_data"
    }
   ],
   "source": [
    "SELECT ?cityLabel (count(distinct ?publisher) as ?pubCount)\n",
    "WHERE\n",
    "{\n",
    "    VALUES ?city { wd:Q2145 wd:Q134346 wd:Q1492 wd:Q1761 wd:Q490 wd:Q5083 wd:Q340 wd:Q90 wd:Q60 }\n",
    "    ?publisher wdt:P31/wdt:P279* wd:Q2085381 .\n",
    "    ?publisher (wdt:P159|wdt:P131)/wdt:P131* ?city .\n",
    "    SERVICE wikibase:label { bd:serviceParam wikibase:language \"[AUTO_LANGUAGE],fr,en\". }\n",
    "}\n",
    "GROUP BY ?cityLabel"
   ]
  },
  {
   "cell_type": "markdown",
   "metadata": {},
   "source": [
    "Évidemment, ces données reflètent _les maisons d'édition dont la fiche Wikidata mentionne la ville_, dans la propriété P159 ou P131."
   ]
  },
  {
   "cell_type": "markdown",
   "metadata": {},
   "source": [
    "## Exploration sur les auteurs\n",
    "\n",
    "### De Québec\n",
    "\n",
    "Les exemples de Wikidata suggèrent de chercher des instances d'écrivain, d'auteurs ou de poètes pour trouver des auteurs de façon générale. Je tente d'abord de trouver des auteurs qui ont une relation _directe_ (sans passer par d'autres entités), peu importe le type, avec Québec:"
   ]
  },
  {
   "cell_type": "code",
   "execution_count": 11,
   "metadata": {},
   "outputs": [
    {
     "data": {
      "text/html": [
       "<div class=\"krn-spql\"><table><tr class=hdr><th>writer</th>\n",
       "<th>writerLabel</th>\n",
       "<th>relation</th>\n",
       "<th>relationLabel</th></tr><tr class=odd><td class=val><a href=\"http://www.wikidata.org/entity/Q3059521\" target=\"_other\">http://www.wikidata.org/entity/Q3059521</a></td>\n",
       "<td class=val>Eudore Évanturel</td>\n",
       "<td class=val><a href=\"http://www.wikidata.org/entity/P19\" target=\"_other\">http://www.wikidata.org/entity/P19</a></td>\n",
       "<td class=val>lieu de naissance</td></tr><tr class=even><td class=val><a href=\"http://www.wikidata.org/entity/Q3056973\" target=\"_other\">http://www.wikidata.org/entity/Q3056973</a></td>\n",
       "<td class=val>Ernest Gagnon</td>\n",
       "<td class=val><a href=\"http://www.wikidata.org/entity/P20\" target=\"_other\">http://www.wikidata.org/entity/P20</a></td>\n",
       "<td class=val>lieu de mort</td></tr><tr class=odd><td class=val><a href=\"http://www.wikidata.org/entity/Q3455481\" target=\"_other\">http://www.wikidata.org/entity/Q3455481</a></td>\n",
       "<td class=val>Réginald Martel</td>\n",
       "<td class=val><a href=\"http://www.wikidata.org/entity/P20\" target=\"_other\">http://www.wikidata.org/entity/P20</a></td>\n",
       "<td class=val>lieu de mort</td></tr><tr class=even><td class=val><a href=\"http://www.wikidata.org/entity/Q3383315\" target=\"_other\">http://www.wikidata.org/entity/Q3383315</a></td>\n",
       "<td class=val>Pierre-Luc Lafrance</td>\n",
       "<td class=val><a href=\"http://www.wikidata.org/entity/P19\" target=\"_other\">http://www.wikidata.org/entity/P19</a></td>\n",
       "<td class=val>lieu de naissance</td></tr><tr class=odd><td class=val><a href=\"http://www.wikidata.org/entity/Q281608\" target=\"_other\">http://www.wikidata.org/entity/Q281608</a></td>\n",
       "<td class=val>Jean de Quen</td>\n",
       "<td class=val><a href=\"http://www.wikidata.org/entity/P937\" target=\"_other\">http://www.wikidata.org/entity/P937</a></td>\n",
       "<td class=val>lieu de travail</td></tr><tr class=even><td class=val><a href=\"http://www.wikidata.org/entity/Q3336057\" target=\"_other\">http://www.wikidata.org/entity/Q3336057</a></td>\n",
       "<td class=val>Narcisse-Henri-Édouard Faucher de Saint-Maurice</td>\n",
       "<td class=val><a href=\"http://www.wikidata.org/entity/P20\" target=\"_other\">http://www.wikidata.org/entity/P20</a></td>\n",
       "<td class=val>lieu de mort</td></tr><tr class=odd><td class=val><a href=\"http://www.wikidata.org/entity/Q2958277\" target=\"_other\">http://www.wikidata.org/entity/Q2958277</a></td>\n",
       "<td class=val>Charles Baillairgé</td>\n",
       "<td class=val><a href=\"http://www.wikidata.org/entity/P20\" target=\"_other\">http://www.wikidata.org/entity/P20</a></td>\n",
       "<td class=val>lieu de mort</td></tr><tr class=even><td class=val><a href=\"http://www.wikidata.org/entity/Q3083652\" target=\"_other\">http://www.wikidata.org/entity/Q3083652</a></td>\n",
       "<td class=val>François-Réal Angers</td>\n",
       "<td class=val><a href=\"http://www.wikidata.org/entity/P20\" target=\"_other\">http://www.wikidata.org/entity/P20</a></td>\n",
       "<td class=val>lieu de mort</td></tr><tr class=odd><td class=val><a href=\"http://www.wikidata.org/entity/Q3387193\" target=\"_other\">http://www.wikidata.org/entity/Q3387193</a></td>\n",
       "<td class=val>Pierre Turgeon</td>\n",
       "<td class=val><a href=\"http://www.wikidata.org/entity/P19\" target=\"_other\">http://www.wikidata.org/entity/P19</a></td>\n",
       "<td class=val>lieu de naissance</td></tr><tr class=even><td class=val><a href=\"http://www.wikidata.org/entity/Q4714622\" target=\"_other\">http://www.wikidata.org/entity/Q4714622</a></td>\n",
       "<td class=val>Alejandro Núñez Alonso</td>\n",
       "<td class=val><a href=\"http://www.wikidata.org/entity/P20\" target=\"_other\">http://www.wikidata.org/entity/P20</a></td>\n",
       "<td class=val>lieu de mort</td></tr><tr class=odd><td class=val><a href=\"http://www.wikidata.org/entity/Q3320920\" target=\"_other\">http://www.wikidata.org/entity/Q3320920</a></td>\n",
       "<td class=val>Monique Proulx</td>\n",
       "<td class=val><a href=\"http://www.wikidata.org/entity/P551\" target=\"_other\">http://www.wikidata.org/entity/P551</a></td>\n",
       "<td class=val>résidence</td></tr><tr class=even><td class=val><a href=\"http://www.wikidata.org/entity/Q939745\" target=\"_other\">http://www.wikidata.org/entity/Q939745</a></td>\n",
       "<td class=val>Norah McClintock</td>\n",
       "<td class=val><a href=\"http://www.wikidata.org/entity/P19\" target=\"_other\">http://www.wikidata.org/entity/P19</a></td>\n",
       "<td class=val>lieu de naissance</td></tr><tr class=odd><td class=val><a href=\"http://www.wikidata.org/entity/Q2836600\" target=\"_other\">http://www.wikidata.org/entity/Q2836600</a></td>\n",
       "<td class=val>Alice Lemieux-Lévesque</td>\n",
       "<td class=val><a href=\"http://www.wikidata.org/entity/P20\" target=\"_other\">http://www.wikidata.org/entity/P20</a></td>\n",
       "<td class=val>lieu de mort</td></tr><tr class=even><td class=val><a href=\"http://www.wikidata.org/entity/Q2977221\" target=\"_other\">http://www.wikidata.org/entity/Q2977221</a></td>\n",
       "<td class=val>Claude Cossette</td>\n",
       "<td class=val><a href=\"http://www.wikidata.org/entity/P19\" target=\"_other\">http://www.wikidata.org/entity/P19</a></td>\n",
       "<td class=val>lieu de naissance</td></tr><tr class=odd><td class=val><a href=\"http://www.wikidata.org/entity/Q3438751\" target=\"_other\">http://www.wikidata.org/entity/Q3438751</a></td>\n",
       "<td class=val>Roger Brien</td>\n",
       "<td class=val><a href=\"http://www.wikidata.org/entity/P20\" target=\"_other\">http://www.wikidata.org/entity/P20</a></td>\n",
       "<td class=val>lieu de mort</td></tr><tr class=even><td class=val><a href=\"http://www.wikidata.org/entity/Q3506020\" target=\"_other\">http://www.wikidata.org/entity/Q3506020</a></td>\n",
       "<td class=val>Suzanne Paradis</td>\n",
       "<td class=val><a href=\"http://www.wikidata.org/entity/P19\" target=\"_other\">http://www.wikidata.org/entity/P19</a></td>\n",
       "<td class=val>lieu de naissance</td></tr><tr class=odd><td class=val><a href=\"http://www.wikidata.org/entity/Q3439200\" target=\"_other\">http://www.wikidata.org/entity/Q3439200</a></td>\n",
       "<td class=val>Roger Lemelin</td>\n",
       "<td class=val><a href=\"http://www.wikidata.org/entity/P20\" target=\"_other\">http://www.wikidata.org/entity/P20</a></td>\n",
       "<td class=val>lieu de mort</td></tr><tr class=even><td class=val><a href=\"http://www.wikidata.org/entity/Q3439937\" target=\"_other\">http://www.wikidata.org/entity/Q3439937</a></td>\n",
       "<td class=val>Roland Arpin</td>\n",
       "<td class=val><a href=\"http://www.wikidata.org/entity/P20\" target=\"_other\">http://www.wikidata.org/entity/P20</a></td>\n",
       "<td class=val>lieu de mort</td></tr><tr class=odd><td class=val><a href=\"http://www.wikidata.org/entity/Q3009741\" target=\"_other\">http://www.wikidata.org/entity/Q3009741</a></td>\n",
       "<td class=val>Cécile Gagnon</td>\n",
       "<td class=val><a href=\"http://www.wikidata.org/entity/P19\" target=\"_other\">http://www.wikidata.org/entity/P19</a></td>\n",
       "<td class=val>lieu de naissance</td></tr><tr class=even><td class=val><a href=\"http://www.wikidata.org/entity/Q2956264\" target=\"_other\">http://www.wikidata.org/entity/Q2956264</a></td>\n",
       "<td class=val>Chantal Cadieux</td>\n",
       "<td class=val><a href=\"http://www.wikidata.org/entity/P19\" target=\"_other\">http://www.wikidata.org/entity/P19</a></td>\n",
       "<td class=val>lieu de naissance</td></tr></table><div class=\"tinfo\">Total: 230, Shown: 20</div></div>"
      ]
     },
     "metadata": {},
     "output_type": "display_data"
    }
   ],
   "source": [
    "SELECT distinct ?writer ?writerLabel ?relation ?relationLabel\n",
    "WHERE\n",
    "{\n",
    "  VALUES ?occupation { wd:Q36180 wd:Q482980 wd:Q49757 }\n",
    "  ?writer ?rel wd:Q2145 .\n",
    "  ?writer wdt:P106 ?occupation .\n",
    "  SERVICE wikibase:label { bd:serviceParam wikibase:language \"[AUTO_LANGUAGE],fr,en\". }\n",
    "  ?relation wikibase:directClaim ?rel .\n",
    "}"
   ]
  },
  {
   "cell_type": "markdown",
   "metadata": {},
   "source": [
    "On trouve 230 références.\n",
    "\n",
    "### D'autres villes\n",
    "\n",
    "Refaisons l'exercice avec nos villes exemples pour comparer:"
   ]
  },
  {
   "cell_type": "code",
   "execution_count": 15,
   "metadata": {},
   "outputs": [
    {
     "data": {
      "text/html": [
       "<div class=\"krn-spql\"><table><tr class=hdr><th>writer</th>\n",
       "<th>writerLabel</th>\n",
       "<th>relation</th>\n",
       "<th>relationLabel</th>\n",
       "<th>city</th>\n",
       "<th>cityLabel</th></tr><tr class=odd><td class=val><a href=\"http://www.wikidata.org/entity/Q231815\" target=\"_other\">http://www.wikidata.org/entity/Q231815</a></td>\n",
       "<td class=val>Pauley Perrette</td>\n",
       "<td class=val><a href=\"http://www.wikidata.org/entity/P19\" target=\"_other\">http://www.wikidata.org/entity/P19</a></td>\n",
       "<td class=val>lieu de naissance</td>\n",
       "<td class=val><a href=\"http://www.wikidata.org/entity/Q60\" target=\"_other\">http://www.wikidata.org/entity/Q60</a></td>\n",
       "<td class=val>New York</td></tr><tr class=even><td class=val><a href=\"http://www.wikidata.org/entity/Q298025\" target=\"_other\">http://www.wikidata.org/entity/Q298025</a></td>\n",
       "<td class=val>Joss Whedon</td>\n",
       "<td class=val><a href=\"http://www.wikidata.org/entity/P19\" target=\"_other\">http://www.wikidata.org/entity/P19</a></td>\n",
       "<td class=val>lieu de naissance</td>\n",
       "<td class=val><a href=\"http://www.wikidata.org/entity/Q60\" target=\"_other\">http://www.wikidata.org/entity/Q60</a></td>\n",
       "<td class=val>New York</td></tr><tr class=odd><td class=val><a href=\"http://www.wikidata.org/entity/Q299194\" target=\"_other\">http://www.wikidata.org/entity/Q299194</a></td>\n",
       "<td class=val>Aaron Sorkin</td>\n",
       "<td class=val><a href=\"http://www.wikidata.org/entity/P19\" target=\"_other\">http://www.wikidata.org/entity/P19</a></td>\n",
       "<td class=val>lieu de naissance</td>\n",
       "<td class=val><a href=\"http://www.wikidata.org/entity/Q60\" target=\"_other\">http://www.wikidata.org/entity/Q60</a></td>\n",
       "<td class=val>New York</td></tr><tr class=even><td class=val><a href=\"http://www.wikidata.org/entity/Q310367\" target=\"_other\">http://www.wikidata.org/entity/Q310367</a></td>\n",
       "<td class=val>Jon Cryer</td>\n",
       "<td class=val><a href=\"http://www.wikidata.org/entity/P19\" target=\"_other\">http://www.wikidata.org/entity/P19</a></td>\n",
       "<td class=val>lieu de naissance</td>\n",
       "<td class=val><a href=\"http://www.wikidata.org/entity/Q60\" target=\"_other\">http://www.wikidata.org/entity/Q60</a></td>\n",
       "<td class=val>New York</td></tr><tr class=odd><td class=val><a href=\"http://www.wikidata.org/entity/Q131240\" target=\"_other\">http://www.wikidata.org/entity/Q131240</a></td>\n",
       "<td class=val>Anna Politkovskaïa</td>\n",
       "<td class=val><a href=\"http://www.wikidata.org/entity/P19\" target=\"_other\">http://www.wikidata.org/entity/P19</a></td>\n",
       "<td class=val>lieu de naissance</td>\n",
       "<td class=val><a href=\"http://www.wikidata.org/entity/Q60\" target=\"_other\">http://www.wikidata.org/entity/Q60</a></td>\n",
       "<td class=val>New York</td></tr><tr class=even><td class=val><a href=\"http://www.wikidata.org/entity/Q179282\" target=\"_other\">http://www.wikidata.org/entity/Q179282</a></td>\n",
       "<td class=val>Steven Weinberg</td>\n",
       "<td class=val><a href=\"http://www.wikidata.org/entity/P19\" target=\"_other\">http://www.wikidata.org/entity/P19</a></td>\n",
       "<td class=val>lieu de naissance</td>\n",
       "<td class=val><a href=\"http://www.wikidata.org/entity/Q60\" target=\"_other\">http://www.wikidata.org/entity/Q60</a></td>\n",
       "<td class=val>New York</td></tr><tr class=odd><td class=val><a href=\"http://www.wikidata.org/entity/Q240370\" target=\"_other\">http://www.wikidata.org/entity/Q240370</a></td>\n",
       "<td class=val>Robert Riskin</td>\n",
       "<td class=val><a href=\"http://www.wikidata.org/entity/P19\" target=\"_other\">http://www.wikidata.org/entity/P19</a></td>\n",
       "<td class=val>lieu de naissance</td>\n",
       "<td class=val><a href=\"http://www.wikidata.org/entity/Q60\" target=\"_other\">http://www.wikidata.org/entity/Q60</a></td>\n",
       "<td class=val>New York</td></tr><tr class=even><td class=val><a href=\"http://www.wikidata.org/entity/Q282517\" target=\"_other\">http://www.wikidata.org/entity/Q282517</a></td>\n",
       "<td class=val>Jean Liedloff</td>\n",
       "<td class=val><a href=\"http://www.wikidata.org/entity/P19\" target=\"_other\">http://www.wikidata.org/entity/P19</a></td>\n",
       "<td class=val>lieu de naissance</td>\n",
       "<td class=val><a href=\"http://www.wikidata.org/entity/Q60\" target=\"_other\">http://www.wikidata.org/entity/Q60</a></td>\n",
       "<td class=val>New York</td></tr><tr class=odd><td class=val><a href=\"http://www.wikidata.org/entity/Q182870\" target=\"_other\">http://www.wikidata.org/entity/Q182870</a></td>\n",
       "<td class=val>Mario Puzo</td>\n",
       "<td class=val><a href=\"http://www.wikidata.org/entity/P19\" target=\"_other\">http://www.wikidata.org/entity/P19</a></td>\n",
       "<td class=val>lieu de naissance</td>\n",
       "<td class=val><a href=\"http://www.wikidata.org/entity/Q60\" target=\"_other\">http://www.wikidata.org/entity/Q60</a></td>\n",
       "<td class=val>New York</td></tr><tr class=even><td class=val><a href=\"http://www.wikidata.org/entity/Q139850\" target=\"_other\">http://www.wikidata.org/entity/Q139850</a></td>\n",
       "<td class=val>Zack O'Malley Greenburg</td>\n",
       "<td class=val><a href=\"http://www.wikidata.org/entity/P19\" target=\"_other\">http://www.wikidata.org/entity/P19</a></td>\n",
       "<td class=val>lieu de naissance</td>\n",
       "<td class=val><a href=\"http://www.wikidata.org/entity/Q60\" target=\"_other\">http://www.wikidata.org/entity/Q60</a></td>\n",
       "<td class=val>New York</td></tr><tr class=odd><td class=val><a href=\"http://www.wikidata.org/entity/Q150651\" target=\"_other\">http://www.wikidata.org/entity/Q150651</a></td>\n",
       "<td class=val>George Carlin</td>\n",
       "<td class=val><a href=\"http://www.wikidata.org/entity/P19\" target=\"_other\">http://www.wikidata.org/entity/P19</a></td>\n",
       "<td class=val>lieu de naissance</td>\n",
       "<td class=val><a href=\"http://www.wikidata.org/entity/Q60\" target=\"_other\">http://www.wikidata.org/entity/Q60</a></td>\n",
       "<td class=val>New York</td></tr><tr class=even><td class=val><a href=\"http://www.wikidata.org/entity/Q284025\" target=\"_other\">http://www.wikidata.org/entity/Q284025</a></td>\n",
       "<td class=val>Carol Gilligan</td>\n",
       "<td class=val><a href=\"http://www.wikidata.org/entity/P19\" target=\"_other\">http://www.wikidata.org/entity/P19</a></td>\n",
       "<td class=val>lieu de naissance</td>\n",
       "<td class=val><a href=\"http://www.wikidata.org/entity/Q60\" target=\"_other\">http://www.wikidata.org/entity/Q60</a></td>\n",
       "<td class=val>New York</td></tr><tr class=odd><td class=val><a href=\"http://www.wikidata.org/entity/Q165578\" target=\"_other\">http://www.wikidata.org/entity/Q165578</a></td>\n",
       "<td class=val>Jack Zipes</td>\n",
       "<td class=val><a href=\"http://www.wikidata.org/entity/P19\" target=\"_other\">http://www.wikidata.org/entity/P19</a></td>\n",
       "<td class=val>lieu de naissance</td>\n",
       "<td class=val><a href=\"http://www.wikidata.org/entity/Q60\" target=\"_other\">http://www.wikidata.org/entity/Q60</a></td>\n",
       "<td class=val>New York</td></tr><tr class=even><td class=val><a href=\"http://www.wikidata.org/entity/Q201418\" target=\"_other\">http://www.wikidata.org/entity/Q201418</a></td>\n",
       "<td class=val>Abigail Breslin</td>\n",
       "<td class=val><a href=\"http://www.wikidata.org/entity/P19\" target=\"_other\">http://www.wikidata.org/entity/P19</a></td>\n",
       "<td class=val>lieu de naissance</td>\n",
       "<td class=val><a href=\"http://www.wikidata.org/entity/Q60\" target=\"_other\">http://www.wikidata.org/entity/Q60</a></td>\n",
       "<td class=val>New York</td></tr><tr class=odd><td class=val><a href=\"http://www.wikidata.org/entity/Q236950\" target=\"_other\">http://www.wikidata.org/entity/Q236950</a></td>\n",
       "<td class=val>Erica Jong</td>\n",
       "<td class=val><a href=\"http://www.wikidata.org/entity/P19\" target=\"_other\">http://www.wikidata.org/entity/P19</a></td>\n",
       "<td class=val>lieu de naissance</td>\n",
       "<td class=val><a href=\"http://www.wikidata.org/entity/Q60\" target=\"_other\">http://www.wikidata.org/entity/Q60</a></td>\n",
       "<td class=val>New York</td></tr><tr class=even><td class=val><a href=\"http://www.wikidata.org/entity/Q242643\" target=\"_other\">http://www.wikidata.org/entity/Q242643</a></td>\n",
       "<td class=val>Naomi Novik</td>\n",
       "<td class=val><a href=\"http://www.wikidata.org/entity/P19\" target=\"_other\">http://www.wikidata.org/entity/P19</a></td>\n",
       "<td class=val>lieu de naissance</td>\n",
       "<td class=val><a href=\"http://www.wikidata.org/entity/Q60\" target=\"_other\">http://www.wikidata.org/entity/Q60</a></td>\n",
       "<td class=val>New York</td></tr><tr class=odd><td class=val><a href=\"http://www.wikidata.org/entity/Q208101\" target=\"_other\">http://www.wikidata.org/entity/Q208101</a></td>\n",
       "<td class=val>Joseph Heller</td>\n",
       "<td class=val><a href=\"http://www.wikidata.org/entity/P19\" target=\"_other\">http://www.wikidata.org/entity/P19</a></td>\n",
       "<td class=val>lieu de naissance</td>\n",
       "<td class=val><a href=\"http://www.wikidata.org/entity/Q60\" target=\"_other\">http://www.wikidata.org/entity/Q60</a></td>\n",
       "<td class=val>New York</td></tr><tr class=even><td class=val><a href=\"http://www.wikidata.org/entity/Q241299\" target=\"_other\">http://www.wikidata.org/entity/Q241299</a></td>\n",
       "<td class=val>Julia Ward Howe</td>\n",
       "<td class=val><a href=\"http://www.wikidata.org/entity/P19\" target=\"_other\">http://www.wikidata.org/entity/P19</a></td>\n",
       "<td class=val>lieu de naissance</td>\n",
       "<td class=val><a href=\"http://www.wikidata.org/entity/Q60\" target=\"_other\">http://www.wikidata.org/entity/Q60</a></td>\n",
       "<td class=val>New York</td></tr><tr class=odd><td class=val><a href=\"http://www.wikidata.org/entity/Q287713\" target=\"_other\">http://www.wikidata.org/entity/Q287713</a></td>\n",
       "<td class=val>Ruth Chatterton</td>\n",
       "<td class=val><a href=\"http://www.wikidata.org/entity/P19\" target=\"_other\">http://www.wikidata.org/entity/P19</a></td>\n",
       "<td class=val>lieu de naissance</td>\n",
       "<td class=val><a href=\"http://www.wikidata.org/entity/Q60\" target=\"_other\">http://www.wikidata.org/entity/Q60</a></td>\n",
       "<td class=val>New York</td></tr><tr class=even><td class=val><a href=\"http://www.wikidata.org/entity/Q187765\" target=\"_other\">http://www.wikidata.org/entity/Q187765</a></td>\n",
       "<td class=val>Henry Miller</td>\n",
       "<td class=val><a href=\"http://www.wikidata.org/entity/P19\" target=\"_other\">http://www.wikidata.org/entity/P19</a></td>\n",
       "<td class=val>lieu de naissance</td>\n",
       "<td class=val><a href=\"http://www.wikidata.org/entity/Q60\" target=\"_other\">http://www.wikidata.org/entity/Q60</a></td>\n",
       "<td class=val>New York</td></tr></table><div class=\"tinfo\">Total: 16566, Shown: 20</div></div>"
      ]
     },
     "metadata": {},
     "output_type": "display_data"
    }
   ],
   "source": [
    "SELECT distinct ?writer ?writerLabel ?relation ?relationLabel ?city ?cityLabel\n",
    "WHERE\n",
    "{\n",
    "  VALUES ?city { wd:Q2145 wd:Q134346 wd:Q1492 wd:Q1761 wd:Q490 wd:Q5083 wd:Q340 wd:Q90 wd:Q60 }\n",
    "  {?writer wdt:P106 wd:Q36180 .} UNION { ?writer wdt:P106 wd:Q482980 . } UNION { ?writer wdt:P106 wd:Q49757 . }\n",
    "  ?writer ?rel ?city .\n",
    "  SERVICE wikibase:label { bd:serviceParam wikibase:language \"[AUTO_LANGUAGE],fr,en\". }\n",
    "  ?relation wikibase:directClaim ?rel .\n",
    "}"
   ]
  },
  {
   "cell_type": "markdown",
   "metadata": {},
   "source": [
    "_(on doit utiliser une UNION plutôt qu'une énumération VALUES dans la requête précédente pour éviter un \"time out\" de la requête...)_\n",
    "\n",
    "Et si on veut un décompte du nombre d'auteurs ayant des relations avec les villes en question, par ville:\n",
    "\n",
    "_(cette requête prend trop de temps à l'exécuter pour toutes les villes, on sépare en deux lots...)_"
   ]
  },
  {
   "cell_type": "code",
   "execution_count": 17,
   "metadata": {},
   "outputs": [
    {
     "data": {
      "text/html": [
       "<div class=\"krn-spql\"><table><tr class=hdr><th>cityLabel</th>\n",
       "<th>writerCount</th></tr><tr class=odd><td class=val>Barcelone</td>\n",
       "<td class=val>2000</td></tr><tr class=even><td class=val>Angoulême</td>\n",
       "<td class=val>31</td></tr><tr class=odd><td class=val>Dublin</td>\n",
       "<td class=val>519</td></tr><tr class=even><td class=val>Québec</td>\n",
       "<td class=val>204</td></tr></table><div class=\"tinfo\">Total: 4, Shown: 4</div></div>"
      ]
     },
     "metadata": {},
     "output_type": "display_data"
    }
   ],
   "source": [
    "SELECT ?cityLabel (count(distinct ?writer) as ?writerCount)\n",
    "WHERE\n",
    "{\n",
    "  VALUES ?city { wd:Q2145 wd:Q134346 wd:Q1492 wd:Q1761 }\n",
    "  {?writer wdt:P106 wd:Q36180 .} UNION { ?writer wdt:P106 wd:Q482980 . } UNION { ?writer wdt:P106 wd:Q49757 . }\n",
    "  ?writer ?rel ?city\n",
    "  SERVICE wikibase:label { bd:serviceParam wikibase:language \"[AUTO_LANGUAGE],fr,en\". }\n",
    "  ?relation wikibase:directClaim ?rel .\n",
    "}\n",
    "GROUP BY ?cityLabel"
   ]
  },
  {
   "cell_type": "code",
   "execution_count": 25,
   "metadata": {},
   "outputs": [
    {
     "data": {
      "text/html": [
       "<div class=\"krn-spql\"><table><tr class=hdr><th>cityLabel</th>\n",
       "<th>writerCount</th></tr><tr class=odd><td class=val>Milan</td>\n",
       "<td class=val>1098</td></tr><tr class=even><td class=val>Seattle</td>\n",
       "<td class=val>238</td></tr></table><div class=\"tinfo\">Total: 2, Shown: 2</div></div>"
      ]
     },
     "metadata": {},
     "output_type": "display_data"
    }
   ],
   "source": [
    "SELECT ?cityLabel (count(distinct ?writer) as ?writerCount)\n",
    "WHERE\n",
    "{\n",
    "  VALUES ?city { wd:Q490 wd:Q5083 }\n",
    "  {?writer wdt:P106 wd:Q36180 .} UNION { ?writer wdt:P106 wd:Q482980 . } UNION { ?writer wdt:P106 wd:Q49757 . }\n",
    "  ?writer ?rel ?city\n",
    "  SERVICE wikibase:label { bd:serviceParam wikibase:language \"[AUTO_LANGUAGE],fr,en\". }\n",
    "  ?relation wikibase:directClaim ?rel .\n",
    "}\n",
    "GROUP BY ?cityLabel"
   ]
  },
  {
   "cell_type": "code",
   "execution_count": 26,
   "metadata": {},
   "outputs": [
    {
     "data": {
      "text/html": [
       "<div class=\"krn-spql\"><table><tr class=hdr><th>cityLabel</th>\n",
       "<th>writerCount</th></tr><tr class=odd><td class=val>New York</td>\n",
       "<td class=val>3514</td></tr><tr class=even><td class=val>Paris</td>\n",
       "<td class=val>5855</td></tr><tr class=odd><td class=val>Montréal</td>\n",
       "<td class=val>842</td></tr></table><div class=\"tinfo\">Total: 3, Shown: 3</div></div>"
      ]
     },
     "metadata": {},
     "output_type": "display_data"
    }
   ],
   "source": [
    "SELECT ?cityLabel (count(distinct ?writer) as ?writerCount)\n",
    "WHERE\n",
    "{\n",
    "  VALUES ?city { wd:Q340 wd:Q90 wd:Q60 }\n",
    "  {?writer wdt:P106 wd:Q36180 .} UNION { ?writer wdt:P106 wd:Q482980 . } UNION { ?writer wdt:P106 wd:Q49757 . }\n",
    "  ?writer ?rel ?city\n",
    "  SERVICE wikibase:label { bd:serviceParam wikibase:language \"[AUTO_LANGUAGE],fr,en\". }\n",
    "  ?relation wikibase:directClaim ?rel .\n",
    "}\n",
    "GROUP BY ?cityLabel"
   ]
  },
  {
   "cell_type": "markdown",
   "metadata": {},
   "source": [
    "### Types de relations (toutes villes)\n",
    "\n",
    "Si on veut connaître les types de relations les plus fréquents entre les auteurs et les villes (autant pour Québec que pour les autres villes de notre échantillon)."
   ]
  },
  {
   "cell_type": "code",
   "execution_count": 16,
   "metadata": {},
   "outputs": [
    {
     "data": {
      "text/html": [
       "<div class=\"krn-spql\"><table><tr class=hdr><th>relation</th>\n",
       "<th>writerCount</th></tr><tr class=odd><td class=val><a href=\"http://www.wikidata.org/entity/P108\" target=\"_other\">http://www.wikidata.org/entity/P108</a></td>\n",
       "<td class=val>2</td></tr><tr class=even><td class=val><a href=\"http://www.wikidata.org/entity/P101\" target=\"_other\">http://www.wikidata.org/entity/P101</a></td>\n",
       "<td class=val>1</td></tr><tr class=odd><td class=val><a href=\"http://www.wikidata.org/entity/P19\" target=\"_other\">http://www.wikidata.org/entity/P19</a></td>\n",
       "<td class=val>7601</td></tr><tr class=even><td class=val><a href=\"http://www.wikidata.org/entity/P69\" target=\"_other\">http://www.wikidata.org/entity/P69</a></td>\n",
       "<td class=val>1</td></tr><tr class=odd><td class=val><a href=\"http://www.wikidata.org/entity/P119\" target=\"_other\">http://www.wikidata.org/entity/P119</a></td>\n",
       "<td class=val>16</td></tr><tr class=even><td class=val><a href=\"http://www.wikidata.org/entity/P551\" target=\"_other\">http://www.wikidata.org/entity/P551</a></td>\n",
       "<td class=val>931</td></tr><tr class=odd><td class=val><a href=\"http://www.wikidata.org/entity/P276\" target=\"_other\">http://www.wikidata.org/entity/P276</a></td>\n",
       "<td class=val>5</td></tr><tr class=even><td class=val><a href=\"http://www.wikidata.org/entity/P740\" target=\"_other\">http://www.wikidata.org/entity/P740</a></td>\n",
       "<td class=val>7</td></tr><tr class=odd><td class=val><a href=\"http://www.wikidata.org/entity/P937\" target=\"_other\">http://www.wikidata.org/entity/P937</a></td>\n",
       "<td class=val>1271</td></tr><tr class=even><td class=val><a href=\"http://www.wikidata.org/entity/P291\" target=\"_other\">http://www.wikidata.org/entity/P291</a></td>\n",
       "<td class=val>1</td></tr><tr class=odd><td class=val><a href=\"http://www.wikidata.org/entity/P840\" target=\"_other\">http://www.wikidata.org/entity/P840</a></td>\n",
       "<td class=val>1</td></tr><tr class=even><td class=val><a href=\"http://www.wikidata.org/entity/P159\" target=\"_other\">http://www.wikidata.org/entity/P159</a></td>\n",
       "<td class=val>1</td></tr><tr class=odd><td class=val><a href=\"http://www.wikidata.org/entity/P20\" target=\"_other\">http://www.wikidata.org/entity/P20</a></td>\n",
       "<td class=val>6647</td></tr></table><div class=\"tinfo\">Total: 13, Shown: 13</div></div>"
      ]
     },
     "metadata": {},
     "output_type": "display_data"
    }
   ],
   "source": [
    "SELECT ?relation (count(distinct ?writer) as ?writerCount)\n",
    "WHERE\n",
    "{\n",
    "  VALUES ?city { wd:Q2145 wd:Q134346 wd:Q1492 wd:Q1761 wd:Q490 wd:Q5083 wd:Q340 wd:Q90 wd:Q60 }\n",
    "  {?writer wdt:P106 wd:Q36180 .} UNION { ?writer wdt:P106 wd:Q482980 . } UNION { ?writer wdt:P106 wd:Q49757 . }\n",
    "  ?writer ?rel ?city\n",
    "  SERVICE wikibase:label { bd:serviceParam wikibase:language \"[AUTO_LANGUAGE],fr,en\". }\n",
    "  ?relation wikibase:directClaim ?rel .\n",
    "}\n",
    "GROUP BY ?relation\n"
   ]
  },
  {
   "cell_type": "markdown",
   "metadata": {},
   "source": [
    "Les relations les plus fréquentes sont donc le lieu de naissance (P19), de décès (P20), de résidence (P551) et de travail (P937)."
   ]
  },
  {
   "cell_type": "markdown",
   "metadata": {},
   "source": [
    "La ville de scolarité semble très peu documentée, mais on peut émettre l'hypothèse que si on passe par l'institution d'enseignement, on aura plus de résultats. Par exemple, pour Québec:\n"
   ]
  },
  {
   "cell_type": "code",
   "execution_count": 19,
   "metadata": {},
   "outputs": [
    {
     "data": {
      "text/html": [
       "<div class=\"krn-spql\"><table><tr class=hdr><th>writer</th>\n",
       "<th>writerLabel</th>\n",
       "<th>school</th>\n",
       "<th>schoolLabel</th></tr><tr class=odd><td class=val><a href=\"http://www.wikidata.org/entity/Q3506003\" target=\"_other\">http://www.wikidata.org/entity/Q3506003</a></td>\n",
       "<td class=val>Suzanne Martel</td>\n",
       "<td class=val><a href=\"http://www.wikidata.org/entity/Q8077976\" target=\"_other\">http://www.wikidata.org/entity/Q8077976</a></td>\n",
       "<td class=val>École des Ursulines, Quebec</td></tr><tr class=even><td class=val><a href=\"http://www.wikidata.org/entity/Q3165792\" target=\"_other\">http://www.wikidata.org/entity/Q3165792</a></td>\n",
       "<td class=val>Jean-François Nadeau</td>\n",
       "<td class=val><a href=\"http://www.wikidata.org/entity/Q1067935\" target=\"_other\">http://www.wikidata.org/entity/Q1067935</a></td>\n",
       "<td class=val>Université Laval</td></tr><tr class=odd><td class=val><a href=\"http://www.wikidata.org/entity/Q3292181\" target=\"_other\">http://www.wikidata.org/entity/Q3292181</a></td>\n",
       "<td class=val>Marie-Paul Ross</td>\n",
       "<td class=val><a href=\"http://www.wikidata.org/entity/Q1067935\" target=\"_other\">http://www.wikidata.org/entity/Q1067935</a></td>\n",
       "<td class=val>Université Laval</td></tr><tr class=even><td class=val><a href=\"http://www.wikidata.org/entity/Q19957875\" target=\"_other\">http://www.wikidata.org/entity/Q19957875</a></td>\n",
       "<td class=val>Gilles Julien</td>\n",
       "<td class=val><a href=\"http://www.wikidata.org/entity/Q1067935\" target=\"_other\">http://www.wikidata.org/entity/Q1067935</a></td>\n",
       "<td class=val>Université Laval</td></tr><tr class=odd><td class=val><a href=\"http://www.wikidata.org/entity/Q3171046\" target=\"_other\">http://www.wikidata.org/entity/Q3171046</a></td>\n",
       "<td class=val>Jean Bédard</td>\n",
       "<td class=val><a href=\"http://www.wikidata.org/entity/Q1067935\" target=\"_other\">http://www.wikidata.org/entity/Q1067935</a></td>\n",
       "<td class=val>Université Laval</td></tr><tr class=even><td class=val><a href=\"http://www.wikidata.org/entity/Q16663531\" target=\"_other\">http://www.wikidata.org/entity/Q16663531</a></td>\n",
       "<td class=val>Martin Blais</td>\n",
       "<td class=val><a href=\"http://www.wikidata.org/entity/Q1067935\" target=\"_other\">http://www.wikidata.org/entity/Q1067935</a></td>\n",
       "<td class=val>Université Laval</td></tr><tr class=odd><td class=val><a href=\"http://www.wikidata.org/entity/Q3507296\" target=\"_other\">http://www.wikidata.org/entity/Q3507296</a></td>\n",
       "<td class=val>Sylvie Bérard</td>\n",
       "<td class=val><a href=\"http://www.wikidata.org/entity/Q326282\" target=\"_other\">http://www.wikidata.org/entity/Q326282</a></td>\n",
       "<td class=val>Université du Québec</td></tr><tr class=even><td class=val><a href=\"http://www.wikidata.org/entity/Q15406975\" target=\"_other\">http://www.wikidata.org/entity/Q15406975</a></td>\n",
       "<td class=val>Élizabeth Turgeon</td>\n",
       "<td class=val><a href=\"http://www.wikidata.org/entity/Q1067935\" target=\"_other\">http://www.wikidata.org/entity/Q1067935</a></td>\n",
       "<td class=val>Université Laval</td></tr><tr class=odd><td class=val><a href=\"http://www.wikidata.org/entity/Q1150878\" target=\"_other\">http://www.wikidata.org/entity/Q1150878</a></td>\n",
       "<td class=val>Noël Simard</td>\n",
       "<td class=val><a href=\"http://www.wikidata.org/entity/Q1067935\" target=\"_other\">http://www.wikidata.org/entity/Q1067935</a></td>\n",
       "<td class=val>Université Laval</td></tr><tr class=even><td class=val><a href=\"http://www.wikidata.org/entity/Q3264759\" target=\"_other\">http://www.wikidata.org/entity/Q3264759</a></td>\n",
       "<td class=val>Luc Bureau</td>\n",
       "<td class=val><a href=\"http://www.wikidata.org/entity/Q1067935\" target=\"_other\">http://www.wikidata.org/entity/Q1067935</a></td>\n",
       "<td class=val>Université Laval</td></tr><tr class=odd><td class=val><a href=\"http://www.wikidata.org/entity/Q55723035\" target=\"_other\">http://www.wikidata.org/entity/Q55723035</a></td>\n",
       "<td class=val>Jean-Claude Castex</td>\n",
       "<td class=val><a href=\"http://www.wikidata.org/entity/Q1067935\" target=\"_other\">http://www.wikidata.org/entity/Q1067935</a></td>\n",
       "<td class=val>Université Laval</td></tr><tr class=even><td class=val><a href=\"http://www.wikidata.org/entity/Q3179881\" target=\"_other\">http://www.wikidata.org/entity/Q3179881</a></td>\n",
       "<td class=val>Jocelyne Saucier</td>\n",
       "<td class=val><a href=\"http://www.wikidata.org/entity/Q1067935\" target=\"_other\">http://www.wikidata.org/entity/Q1067935</a></td>\n",
       "<td class=val>Université Laval</td></tr><tr class=odd><td class=val><a href=\"http://www.wikidata.org/entity/Q3310716\" target=\"_other\">http://www.wikidata.org/entity/Q3310716</a></td>\n",
       "<td class=val>Michel Roberge</td>\n",
       "<td class=val><a href=\"http://www.wikidata.org/entity/Q1067935\" target=\"_other\">http://www.wikidata.org/entity/Q1067935</a></td>\n",
       "<td class=val>Université Laval</td></tr><tr class=even><td class=val><a href=\"http://www.wikidata.org/entity/Q29919287\" target=\"_other\">http://www.wikidata.org/entity/Q29919287</a></td>\n",
       "<td class=val>Sylvain Rivière</td>\n",
       "<td class=val><a href=\"http://www.wikidata.org/entity/Q1067935\" target=\"_other\">http://www.wikidata.org/entity/Q1067935</a></td>\n",
       "<td class=val>Université Laval</td></tr><tr class=odd><td class=val><a href=\"http://www.wikidata.org/entity/Q55670280\" target=\"_other\">http://www.wikidata.org/entity/Q55670280</a></td>\n",
       "<td class=val>Maurice Hébert</td>\n",
       "<td class=val><a href=\"http://www.wikidata.org/entity/Q1067935\" target=\"_other\">http://www.wikidata.org/entity/Q1067935</a></td>\n",
       "<td class=val>Université Laval</td></tr><tr class=even><td class=val><a href=\"http://www.wikidata.org/entity/Q580971\" target=\"_other\">http://www.wikidata.org/entity/Q580971</a></td>\n",
       "<td class=val>Louis-Honoré Fréchette</td>\n",
       "<td class=val><a href=\"http://www.wikidata.org/entity/Q1067935\" target=\"_other\">http://www.wikidata.org/entity/Q1067935</a></td>\n",
       "<td class=val>Université Laval</td></tr><tr class=odd><td class=val><a href=\"http://www.wikidata.org/entity/Q2371603\" target=\"_other\">http://www.wikidata.org/entity/Q2371603</a></td>\n",
       "<td class=val>François Létourneau</td>\n",
       "<td class=val><a href=\"http://www.wikidata.org/entity/Q1067935\" target=\"_other\">http://www.wikidata.org/entity/Q1067935</a></td>\n",
       "<td class=val>Université Laval</td></tr><tr class=even><td class=val><a href=\"http://www.wikidata.org/entity/Q2748972\" target=\"_other\">http://www.wikidata.org/entity/Q2748972</a></td>\n",
       "<td class=val>Ferdinand Nahimana</td>\n",
       "<td class=val><a href=\"http://www.wikidata.org/entity/Q1067935\" target=\"_other\">http://www.wikidata.org/entity/Q1067935</a></td>\n",
       "<td class=val>Université Laval</td></tr><tr class=odd><td class=val><a href=\"http://www.wikidata.org/entity/Q16021010\" target=\"_other\">http://www.wikidata.org/entity/Q16021010</a></td>\n",
       "<td class=val>André Jacques</td>\n",
       "<td class=val><a href=\"http://www.wikidata.org/entity/Q1067935\" target=\"_other\">http://www.wikidata.org/entity/Q1067935</a></td>\n",
       "<td class=val>Université Laval</td></tr><tr class=even><td class=val><a href=\"http://www.wikidata.org/entity/Q2851659\" target=\"_other\">http://www.wikidata.org/entity/Q2851659</a></td>\n",
       "<td class=val>Annie Groovie</td>\n",
       "<td class=val><a href=\"http://www.wikidata.org/entity/Q1067935\" target=\"_other\">http://www.wikidata.org/entity/Q1067935</a></td>\n",
       "<td class=val>Université Laval</td></tr></table><div class=\"tinfo\">Total: 195, Shown: 20</div></div>"
      ]
     },
     "metadata": {},
     "output_type": "display_data"
    }
   ],
   "source": [
    "SELECT distinct ?writer ?writerLabel ?school ?schoolLabel\n",
    "WHERE\n",
    "{\n",
    "  {?writer wdt:P106 wd:Q36180 .} UNION { ?writer wdt:P106 wd:Q482980 . } UNION { ?writer wdt:P106 wd:Q49757 . }\n",
    "  ?writer wdt:P69 ?school .\n",
    "  ?school (wdt:P159*/wdt:P131*) wd:Q2145\n",
    "  SERVICE wikibase:label { bd:serviceParam wikibase:language \"[AUTO_LANGUAGE],fr,en\". }\n",
    "}\n"
   ]
  },
  {
   "cell_type": "markdown",
   "metadata": {},
   "source": [
    "## Exploration sur les livres\n",
    "\n",
    "### De Québec\n",
    "\n",
    "On veut voir les oeuvres écrites et les éditions (en utilisant donc le modèle à deux niveaux proposé par le projet Wikidata Livres) qui ont des liens avec Québec. D'abord pour les oeuvres:"
   ]
  },
  {
   "cell_type": "code",
   "execution_count": 20,
   "metadata": {},
   "outputs": [
    {
     "data": {
      "text/html": [
       "<div class=\"krn-spql\"><div class=\"krn-error\"><span class=\"title\">Error:</span> SPARQL error: EndPointInternalError: endpoint returned code 500 and response. <br/><br/>Response:<br/>b'SPARQL-QUERY: queryStr=SELECT distinct ?work ?workLabel\\nWHERE\\n{\\n    ?work wdt:P31/wdt:P279* wd:Q47461344 .\\n    ?work ?relation wd:Q2145 .\\n    SERVICE wikibase:label { bd:serviceParam wikibase:language &quot;[AUTO_LANGUAGE],fr,en&quot;. }\\n}\\njava.util.concurrent.TimeoutException\\n\\tat java.util.concurrent.FutureTask.get(FutureTask.java:205)\\n\\tat com.bigdata.rdf.sail.webapp.BigdataServlet.submitApiTask(BigdataServlet.java:292)\\n\\tat com.bigdata.rdf.sail.webapp.QueryServlet.doSparqlQuery(QueryServlet.java:678)\\n\\tat com.bigdata.rdf.sail.webapp.QueryServlet.doGet(QueryServlet.java:290)\\n\\tat com.bigdata.rdf.sail.webapp.RESTServlet.doGet(RESTServlet.java:240)\\n\\tat com.bigdata.rdf.sail.webapp.MultiTenancyServlet.doGet(MultiTenancyServlet.java:273)\\n\\tat javax.servlet.http.HttpServlet.service(HttpServlet.java:687)\\n\\tat javax.servlet.http.HttpServlet.service(HttpServlet.java:790)\\n\\tat org.eclipse.jetty.servlet.ServletHolder.handle(ServletHolder.java:865)\\n\\tat org.eclipse.jetty.servlet.ServletHandler$CachedChain.doFilter(ServletHandler.java:1655)\\n\\tat org.wikidata.query.rdf.blazegraph.throttling.ThrottlingFilter.doFilter(ThrottlingFilter.java:320)\\n\\tat org.eclipse.jetty.servlet.ServletHandler$CachedChain.doFilter(ServletHandler.java:1642)\\n\\tat org.wikidata.query.rdf.blazegraph.throttling.SystemOverloadFilter.doFilter(SystemOverloadFilter.java:82)\\n\\tat org.eclipse.jetty.servlet.ServletHandler$CachedChain.doFilter(ServletHandler.java:1642)\\n\\tat ch.qos.logback.classic.helpers.MDCInsertingServletFilter.doFilter(MDCInsertingServletFilter.java:49)\\n\\tat org.eclipse.jetty.servlet.ServletHandler$CachedChain.doFilter(ServletHandler.java:1642)\\n\\tat org.wikidata.query.rdf.blazegraph.filters.QueryEventSenderFilter.doFilter(QueryEventSenderFilter.java:117)\\n\\tat org.eclipse.jetty.servlet.ServletHandler$CachedChain.doFilter(ServletHandler.java:1642)\\n\\tat org.wikidata.query.rdf.blazegraph.filters.ClientIPFilter.doFilter(ClientIPFilter.java:43)\\n\\tat org.eclipse.jetty.servlet.ServletHandler$CachedChain.doFilter(ServletHandler.java:1642)\\n\\tat org.wikidata.query.rdf.blazegraph.filters.RealAgentFilter.doFilter(RealAgentFilter.java:33)\\n\\tat org.eclipse.jetty.servlet.ServletHandler$CachedChain.doFilter(ServletHandler.java:1634)\\n\\tat org.eclipse.jetty.servlet.ServletHandler.doHandle(ServletHandler.java:533)\\n\\tat org.eclipse.jetty.server.handler.ScopedHandler.handle(ScopedHandler.java:146)\\n\\tat org.eclipse.jetty.security.SecurityHandler.handle(SecurityHandler.java:548)\\n\\tat org.eclipse.jetty.server.handler.HandlerWrapper.handle(HandlerWrapper.java:132)\\n\\tat org.eclipse.jetty.server.handler.ScopedHandler.nextHandle(ScopedHandler.java:257)\\n\\tat org.eclipse.jetty.server.session.SessionHandler.doHandle(SessionHandler.java:1595)\\n\\tat org.eclipse.jetty.server.handler.ScopedHandler.nextHandle(ScopedHandler.java:255)\\n\\tat org.eclipse.jetty.server.handler.ContextHandler.doHandle(ContextHandler.java:1340)\\n\\tat org.eclipse.jetty.server.handler.ScopedHandler.nextScope(ScopedHandler.java:203)\\n\\tat org.eclipse.jetty.servlet.ServletHandler.doScope(ServletHandler.java:473)\\n\\tat org.eclipse.jetty.server.session.SessionHandler.doScope(SessionHandler.java:1564)\\n\\tat org.eclipse.jetty.server.handler.ScopedHandler.nextScope(ScopedHandler.java:201)\\n\\tat org.eclipse.jetty.server.handler.ContextHandler.doScope(ContextHandler.java:1242)\\n\\tat org.eclipse.jetty.server.handler.ScopedHandler.handle(ScopedHandler.java:144)\\n\\tat org.eclipse.jetty.server.handler.ContextHandlerCollection.handle(ContextHandlerCollection.java:220)\\n\\tat org.eclipse.jetty.server.handler.HandlerCollection.handle(HandlerCollection.java:126)\\n\\tat org.eclipse.jetty.server.handler.HandlerWrapper.handle(HandlerWrapper.java:132)\\n\\tat org.eclipse.jetty.server.Server.handle(Server.java:503)\\n\\tat org.eclipse.jetty.server.HttpChannel.handle(HttpChannel.java:364)\\n\\tat org.eclipse.jetty.server.HttpConnection.onFillable(HttpConnection.java:260)\\n\\tat org.eclipse.jetty.io.AbstractConnection$ReadCallback.succeeded(AbstractConnection.java:305)\\n\\tat org.eclipse.jetty.io.FillInterest.fillable(FillInterest.java:103)\\n\\tat org.eclipse.jetty.io.ChannelEndPoint$2.run(ChannelEndPoint.java:118)\\n\\tat org.eclipse.jetty.util.thread.strategy.EatWhatYouKill.runTask(EatWhatYouKill.java:333)\\n\\tat org.eclipse.jetty.util.thread.strategy.EatWhatYouKill.doProduce(EatWhatYouKill.java:310)\\n\\tat org.eclipse.jetty.util.thread.strategy.EatWhatYouKill.tryProduce(EatWhatYouKill.java:168)\\n\\tat org.eclipse.jetty.util.thread.strategy.EatWhatYouKill.run(EatWhatYouKill.java:126)\\n\\tat org.eclipse.jetty.util.thread.ReservedThreadExecutor$ReservedThread.run(ReservedThreadExecutor.java:366)\\n\\tat org.eclipse.jetty.util.thread.QueuedThreadPool.runJob(QueuedThreadPool.java:765)\\n\\tat org.eclipse.jetty.util.thread.QueuedThreadPool$2.run(QueuedThreadPool.java:683)\\n\\tat java.lang.Thread.run(Thread.java:748)\\n'</div></div>"
      ],
      "text/plain": [
       "Error: SPARQL error: EndPointInternalError: endpoint returned code 500 and response. \n",
       "\n",
       "Response:\n",
       "b'SPARQL-QUERY: queryStr=SELECT distinct ?work ?workLabel\\nWHERE\\n{\\n    ?work wdt:P31/wdt:P279* wd:Q47461344 .\\n    ?work ?relation wd:Q2145 .\\n    SERVICE wikibase:label { bd:serviceParam wikibase:language \"[AUTO_LANGUAGE],fr,en\". }\\n}\\njava.util.concurrent.TimeoutException\\n\\tat java.util.concurrent.FutureTask.get(FutureTask.java:205)\\n\\tat com.bigdata.rdf.sail.webapp.BigdataServlet.submitApiTask(BigdataServlet.java:292)\\n\\tat com.bigdata.rdf.sail.webapp.QueryServlet.doSparqlQuery(QueryServlet.java:678)\\n\\tat com.bigdata.rdf.sail.webapp.QueryServlet.doGet(QueryServlet.java:290)\\n\\tat com.bigdata.rdf.sail.webapp.RESTServlet.doGet(RESTServlet.java:240)\\n\\tat com.bigdata.rdf.sail.webapp.MultiTenancyServlet.doGet(MultiTenancyServlet.java:273)\\n\\tat javax.servlet.http.HttpServlet.service(HttpServlet.java:687)\\n\\tat javax.servlet.http.HttpServlet.service(HttpServlet.java:790)\\n\\tat org.eclipse.jetty.servlet.ServletHolder.handle(ServletHolder.java:865)\\n\\tat org.eclipse.jetty.servlet.ServletHandler$CachedChain.doFilter(ServletHandler.java:1655)\\n\\tat org.wikidata.query.rdf.blazegraph.throttling.ThrottlingFilter.doFilter(ThrottlingFilter.java:320)\\n\\tat org.eclipse.jetty.servlet.ServletHandler$CachedChain.doFilter(ServletHandler.java:1642)\\n\\tat org.wikidata.query.rdf.blazegraph.throttling.SystemOverloadFilter.doFilter(SystemOverloadFilter.java:82)\\n\\tat org.eclipse.jetty.servlet.ServletHandler$CachedChain.doFilter(ServletHandler.java:1642)\\n\\tat ch.qos.logback.classic.helpers.MDCInsertingServletFilter.doFilter(MDCInsertingServletFilter.java:49)\\n\\tat org.eclipse.jetty.servlet.ServletHandler$CachedChain.doFilter(ServletHandler.java:1642)\\n\\tat org.wikidata.query.rdf.blazegraph.filters.QueryEventSenderFilter.doFilter(QueryEventSenderFilter.java:117)\\n\\tat org.eclipse.jetty.servlet.ServletHandler$CachedChain.doFilter(ServletHandler.java:1642)\\n\\tat org.wikidata.query.rdf.blazegraph.filters.ClientIPFilter.doFilter(ClientIPFilter.java:43)\\n\\tat org.eclipse.jetty.servlet.ServletHandler$CachedChain.doFilter(ServletHandler.java:1642)\\n\\tat org.wikidata.query.rdf.blazegraph.filters.RealAgentFilter.doFilter(RealAgentFilter.java:33)\\n\\tat org.eclipse.jetty.servlet.ServletHandler$CachedChain.doFilter(ServletHandler.java:1634)\\n\\tat org.eclipse.jetty.servlet.ServletHandler.doHandle(ServletHandler.java:533)\\n\\tat org.eclipse.jetty.server.handler.ScopedHandler.handle(ScopedHandler.java:146)\\n\\tat org.eclipse.jetty.security.SecurityHandler.handle(SecurityHandler.java:548)\\n\\tat org.eclipse.jetty.server.handler.HandlerWrapper.handle(HandlerWrapper.java:132)\\n\\tat org.eclipse.jetty.server.handler.ScopedHandler.nextHandle(ScopedHandler.java:257)\\n\\tat org.eclipse.jetty.server.session.SessionHandler.doHandle(SessionHandler.java:1595)\\n\\tat org.eclipse.jetty.server.handler.ScopedHandler.nextHandle(ScopedHandler.java:255)\\n\\tat org.eclipse.jetty.server.handler.ContextHandler.doHandle(ContextHandler.java:1340)\\n\\tat org.eclipse.jetty.server.handler.ScopedHandler.nextScope(ScopedHandler.java:203)\\n\\tat org.eclipse.jetty.servlet.ServletHandler.doScope(ServletHandler.java:473)\\n\\tat org.eclipse.jetty.server.session.SessionHandler.doScope(SessionHandler.java:1564)\\n\\tat org.eclipse.jetty.server.handler.ScopedHandler.nextScope(ScopedHandler.java:201)\\n\\tat org.eclipse.jetty.server.handler.ContextHandler.doScope(ContextHandler.java:1242)\\n\\tat org.eclipse.jetty.server.handler.ScopedHandler.handle(ScopedHandler.java:144)\\n\\tat org.eclipse.jetty.server.handler.ContextHandlerCollection.handle(ContextHandlerCollection.java:220)\\n\\tat org.eclipse.jetty.server.handler.HandlerCollection.handle(HandlerCollection.java:126)\\n\\tat org.eclipse.jetty.server.handler.HandlerWrapper.handle(HandlerWrapper.java:132)\\n\\tat org.eclipse.jetty.server.Server.handle(Server.java:503)\\n\\tat org.eclipse.jetty.server.HttpChannel.handle(HttpChannel.java:364)\\n\\tat org.eclipse.jetty.server.HttpConnection.onFillable(HttpConnection.java:260)\\n\\tat org.eclipse.jetty.io.AbstractConnection$ReadCallback.succeeded(AbstractConnection.java:305)\\n\\tat org.eclipse.jetty.io.FillInterest.fillable(FillInterest.java:103)\\n\\tat org.eclipse.jetty.io.ChannelEndPoint$2.run(ChannelEndPoint.java:118)\\n\\tat org.eclipse.jetty.util.thread.strategy.EatWhatYouKill.runTask(EatWhatYouKill.java:333)\\n\\tat org.eclipse.jetty.util.thread.strategy.EatWhatYouKill.doProduce(EatWhatYouKill.java:310)\\n\\tat org.eclipse.jetty.util.thread.strategy.EatWhatYouKill.tryProduce(EatWhatYouKill.java:168)\\n\\tat org.eclipse.jetty.util.thread.strategy.EatWhatYouKill.run(EatWhatYouKill.java:126)\\n\\tat org.eclipse.jetty.util.thread.ReservedThreadExecutor$ReservedThread.run(ReservedThreadExecutor.java:366)\\n\\tat org.eclipse.jetty.util.thread.QueuedThreadPool.runJob(QueuedThreadPool.java:765)\\n\\tat org.eclipse.jetty.util.thread.QueuedThreadPool$2.run(QueuedThreadPool.java:683)\\n\\tat java.lang.Thread.run(Thread.java:748)\\n'"
      ]
     },
     "metadata": {},
     "output_type": "display_data"
    }
   ],
   "source": [
    "SELECT distinct ?work ?workLabel\n",
    "WHERE\n",
    "{\n",
    "    ?work wdt:P31/wdt:P279* wd:Q47461344 .\n",
    "    ?work ?relation wd:Q2145 .\n",
    "    SERVICE wikibase:label { bd:serviceParam wikibase:language \"[AUTO_LANGUAGE],fr,en\". }\n",
    "}"
   ]
  },
  {
   "cell_type": "markdown",
   "metadata": {},
   "source": [
    "L'exécution de la requête est trop longue. C'est la même chose si on limite à certains sous-types d'oeuvres écrites. C'est aussi la même chose si on veut simplement le décompte par type de relation:"
   ]
  },
  {
   "cell_type": "code",
   "execution_count": 27,
   "metadata": {},
   "outputs": [
    {
     "data": {
      "text/html": [
       "<div class=\"krn-spql\"><div class=\"krn-error\"><span class=\"title\">Error:</span> SPARQL error: EndPointInternalError: endpoint returned code 500 and response. <br/><br/>Response:<br/>b'SPARQL-QUERY: queryStr=SELECT ?relationLabel (count(distinct ?work) as ?workCount)\\nWHERE\\n{\\n    ?work ?rel wd:Q2145 .\\n    ?work wdt:P31/wdt:P279* wd:Q47461344 .\\n    SERVICE wikibase:label { bd:serviceParam wikibase:language &quot;[AUTO_LANGUAGE],fr,en&quot;. }\\n    ?relation wikibase:directClaim ?rel .\\n}\\nGROUP BY ?relationLabel\\njava.util.concurrent.TimeoutException\\n\\tat java.util.concurrent.FutureTask.get(FutureTask.java:205)\\n\\tat com.bigdata.rdf.sail.webapp.BigdataServlet.submitApiTask(BigdataServlet.java:292)\\n\\tat com.bigdata.rdf.sail.webapp.QueryServlet.doSparqlQuery(QueryServlet.java:678)\\n\\tat com.bigdata.rdf.sail.webapp.QueryServlet.doGet(QueryServlet.java:290)\\n\\tat com.bigdata.rdf.sail.webapp.RESTServlet.doGet(RESTServlet.java:240)\\n\\tat com.bigdata.rdf.sail.webapp.MultiTenancyServlet.doGet(MultiTenancyServlet.java:273)\\n\\tat javax.servlet.http.HttpServlet.service(HttpServlet.java:687)\\n\\tat javax.servlet.http.HttpServlet.service(HttpServlet.java:790)\\n\\tat org.eclipse.jetty.servlet.ServletHolder.handle(ServletHolder.java:865)\\n\\tat org.eclipse.jetty.servlet.ServletHandler$CachedChain.doFilter(ServletHandler.java:1655)\\n\\tat org.wikidata.query.rdf.blazegraph.throttling.ThrottlingFilter.doFilter(ThrottlingFilter.java:320)\\n\\tat org.eclipse.jetty.servlet.ServletHandler$CachedChain.doFilter(ServletHandler.java:1642)\\n\\tat org.wikidata.query.rdf.blazegraph.throttling.SystemOverloadFilter.doFilter(SystemOverloadFilter.java:82)\\n\\tat org.eclipse.jetty.servlet.ServletHandler$CachedChain.doFilter(ServletHandler.java:1642)\\n\\tat ch.qos.logback.classic.helpers.MDCInsertingServletFilter.doFilter(MDCInsertingServletFilter.java:49)\\n\\tat org.eclipse.jetty.servlet.ServletHandler$CachedChain.doFilter(ServletHandler.java:1642)\\n\\tat org.wikidata.query.rdf.blazegraph.filters.QueryEventSenderFilter.doFilter(QueryEventSenderFilter.java:117)\\n\\tat org.eclipse.jetty.servlet.ServletHandler$CachedChain.doFilter(ServletHandler.java:1642)\\n\\tat org.wikidata.query.rdf.blazegraph.filters.ClientIPFilter.doFilter(ClientIPFilter.java:43)\\n\\tat org.eclipse.jetty.servlet.ServletHandler$CachedChain.doFilter(ServletHandler.java:1642)\\n\\tat org.wikidata.query.rdf.blazegraph.filters.RealAgentFilter.doFilter(RealAgentFilter.java:33)\\n\\tat org.eclipse.jetty.servlet.ServletHandler$CachedChain.doFilter(ServletHandler.java:1634)\\n\\tat org.eclipse.jetty.servlet.ServletHandler.doHandle(ServletHandler.java:533)\\n\\tat org.eclipse.jetty.server.handler.ScopedHandler.handle(ScopedHandler.java:146)\\n\\tat org.eclipse.jetty.security.SecurityHandler.handle(SecurityHandler.java:548)\\n\\tat org.eclipse.jetty.server.handler.HandlerWrapper.handle(HandlerWrapper.java:132)\\n\\tat org.eclipse.jetty.server.handler.ScopedHandler.nextHandle(ScopedHandler.java:257)\\n\\tat org.eclipse.jetty.server.session.SessionHandler.doHandle(SessionHandler.java:1595)\\n\\tat org.eclipse.jetty.server.handler.ScopedHandler.nextHandle(ScopedHandler.java:255)\\n\\tat org.eclipse.jetty.server.handler.ContextHandler.doHandle(ContextHandler.java:1340)\\n\\tat org.eclipse.jetty.server.handler.ScopedHandler.nextScope(ScopedHandler.java:203)\\n\\tat org.eclipse.jetty.servlet.ServletHandler.doScope(ServletHandler.java:473)\\n\\tat org.eclipse.jetty.server.session.SessionHandler.doScope(SessionHandler.java:1564)\\n\\tat org.eclipse.jetty.server.handler.ScopedHandler.nextScope(ScopedHandler.java:201)\\n\\tat org.eclipse.jetty.server.handler.ContextHandler.doScope(ContextHandler.java:1242)\\n\\tat org.eclipse.jetty.server.handler.ScopedHandler.handle(ScopedHandler.java:144)\\n\\tat org.eclipse.jetty.server.handler.ContextHandlerCollection.handle(ContextHandlerCollection.java:220)\\n\\tat org.eclipse.jetty.server.handler.HandlerCollection.handle(HandlerCollection.java:126)\\n\\tat org.eclipse.jetty.server.handler.HandlerWrapper.handle(HandlerWrapper.java:132)\\n\\tat org.eclipse.jetty.server.Server.handle(Server.java:503)\\n\\tat org.eclipse.jetty.server.HttpChannel.handle(HttpChannel.java:364)\\n\\tat org.eclipse.jetty.server.HttpConnection.onFillable(HttpConnection.java:260)\\n\\tat org.eclipse.jetty.io.AbstractConnection$ReadCallback.succeeded(AbstractConnection.java:305)\\n\\tat org.eclipse.jetty.io.FillInterest.fillable(FillInterest.java:103)\\n\\tat org.eclipse.jetty.io.ChannelEndPoint$2.run(ChannelEndPoint.java:118)\\n\\tat org.eclipse.jetty.util.thread.strategy.EatWhatYouKill.runTask(EatWhatYouKill.java:333)\\n\\tat org.eclipse.jetty.util.thread.strategy.EatWhatYouKill.doProduce(EatWhatYouKill.java:310)\\n\\tat org.eclipse.jetty.util.thread.strategy.EatWhatYouKill.tryProduce(EatWhatYouKill.java:168)\\n\\tat org.eclipse.jetty.util.thread.strategy.EatWhatYouKill.run(EatWhatYouKill.java:126)\\n\\tat org.eclipse.jetty.util.thread.ReservedThreadExecutor$ReservedThread.run(ReservedThreadExecutor.java:366)\\n\\tat org.eclipse.jetty.util.thread.QueuedThreadPool.runJob(QueuedThreadPool.java:765)\\n\\tat org.eclipse.jetty.util.thread.QueuedThreadPool$2.run(QueuedThreadPool.java:683)\\n\\tat java.lang.Thread.run(Thread.java:748)\\n'</div></div>"
      ],
      "text/plain": [
       "Error: SPARQL error: EndPointInternalError: endpoint returned code 500 and response. \n",
       "\n",
       "Response:\n",
       "b'SPARQL-QUERY: queryStr=SELECT ?relationLabel (count(distinct ?work) as ?workCount)\\nWHERE\\n{\\n    ?work ?rel wd:Q2145 .\\n    ?work wdt:P31/wdt:P279* wd:Q47461344 .\\n    SERVICE wikibase:label { bd:serviceParam wikibase:language \"[AUTO_LANGUAGE],fr,en\". }\\n    ?relation wikibase:directClaim ?rel .\\n}\\nGROUP BY ?relationLabel\\njava.util.concurrent.TimeoutException\\n\\tat java.util.concurrent.FutureTask.get(FutureTask.java:205)\\n\\tat com.bigdata.rdf.sail.webapp.BigdataServlet.submitApiTask(BigdataServlet.java:292)\\n\\tat com.bigdata.rdf.sail.webapp.QueryServlet.doSparqlQuery(QueryServlet.java:678)\\n\\tat com.bigdata.rdf.sail.webapp.QueryServlet.doGet(QueryServlet.java:290)\\n\\tat com.bigdata.rdf.sail.webapp.RESTServlet.doGet(RESTServlet.java:240)\\n\\tat com.bigdata.rdf.sail.webapp.MultiTenancyServlet.doGet(MultiTenancyServlet.java:273)\\n\\tat javax.servlet.http.HttpServlet.service(HttpServlet.java:687)\\n\\tat javax.servlet.http.HttpServlet.service(HttpServlet.java:790)\\n\\tat org.eclipse.jetty.servlet.ServletHolder.handle(ServletHolder.java:865)\\n\\tat org.eclipse.jetty.servlet.ServletHandler$CachedChain.doFilter(ServletHandler.java:1655)\\n\\tat org.wikidata.query.rdf.blazegraph.throttling.ThrottlingFilter.doFilter(ThrottlingFilter.java:320)\\n\\tat org.eclipse.jetty.servlet.ServletHandler$CachedChain.doFilter(ServletHandler.java:1642)\\n\\tat org.wikidata.query.rdf.blazegraph.throttling.SystemOverloadFilter.doFilter(SystemOverloadFilter.java:82)\\n\\tat org.eclipse.jetty.servlet.ServletHandler$CachedChain.doFilter(ServletHandler.java:1642)\\n\\tat ch.qos.logback.classic.helpers.MDCInsertingServletFilter.doFilter(MDCInsertingServletFilter.java:49)\\n\\tat org.eclipse.jetty.servlet.ServletHandler$CachedChain.doFilter(ServletHandler.java:1642)\\n\\tat org.wikidata.query.rdf.blazegraph.filters.QueryEventSenderFilter.doFilter(QueryEventSenderFilter.java:117)\\n\\tat org.eclipse.jetty.servlet.ServletHandler$CachedChain.doFilter(ServletHandler.java:1642)\\n\\tat org.wikidata.query.rdf.blazegraph.filters.ClientIPFilter.doFilter(ClientIPFilter.java:43)\\n\\tat org.eclipse.jetty.servlet.ServletHandler$CachedChain.doFilter(ServletHandler.java:1642)\\n\\tat org.wikidata.query.rdf.blazegraph.filters.RealAgentFilter.doFilter(RealAgentFilter.java:33)\\n\\tat org.eclipse.jetty.servlet.ServletHandler$CachedChain.doFilter(ServletHandler.java:1634)\\n\\tat org.eclipse.jetty.servlet.ServletHandler.doHandle(ServletHandler.java:533)\\n\\tat org.eclipse.jetty.server.handler.ScopedHandler.handle(ScopedHandler.java:146)\\n\\tat org.eclipse.jetty.security.SecurityHandler.handle(SecurityHandler.java:548)\\n\\tat org.eclipse.jetty.server.handler.HandlerWrapper.handle(HandlerWrapper.java:132)\\n\\tat org.eclipse.jetty.server.handler.ScopedHandler.nextHandle(ScopedHandler.java:257)\\n\\tat org.eclipse.jetty.server.session.SessionHandler.doHandle(SessionHandler.java:1595)\\n\\tat org.eclipse.jetty.server.handler.ScopedHandler.nextHandle(ScopedHandler.java:255)\\n\\tat org.eclipse.jetty.server.handler.ContextHandler.doHandle(ContextHandler.java:1340)\\n\\tat org.eclipse.jetty.server.handler.ScopedHandler.nextScope(ScopedHandler.java:203)\\n\\tat org.eclipse.jetty.servlet.ServletHandler.doScope(ServletHandler.java:473)\\n\\tat org.eclipse.jetty.server.session.SessionHandler.doScope(SessionHandler.java:1564)\\n\\tat org.eclipse.jetty.server.handler.ScopedHandler.nextScope(ScopedHandler.java:201)\\n\\tat org.eclipse.jetty.server.handler.ContextHandler.doScope(ContextHandler.java:1242)\\n\\tat org.eclipse.jetty.server.handler.ScopedHandler.handle(ScopedHandler.java:144)\\n\\tat org.eclipse.jetty.server.handler.ContextHandlerCollection.handle(ContextHandlerCollection.java:220)\\n\\tat org.eclipse.jetty.server.handler.HandlerCollection.handle(HandlerCollection.java:126)\\n\\tat org.eclipse.jetty.server.handler.HandlerWrapper.handle(HandlerWrapper.java:132)\\n\\tat org.eclipse.jetty.server.Server.handle(Server.java:503)\\n\\tat org.eclipse.jetty.server.HttpChannel.handle(HttpChannel.java:364)\\n\\tat org.eclipse.jetty.server.HttpConnection.onFillable(HttpConnection.java:260)\\n\\tat org.eclipse.jetty.io.AbstractConnection$ReadCallback.succeeded(AbstractConnection.java:305)\\n\\tat org.eclipse.jetty.io.FillInterest.fillable(FillInterest.java:103)\\n\\tat org.eclipse.jetty.io.ChannelEndPoint$2.run(ChannelEndPoint.java:118)\\n\\tat org.eclipse.jetty.util.thread.strategy.EatWhatYouKill.runTask(EatWhatYouKill.java:333)\\n\\tat org.eclipse.jetty.util.thread.strategy.EatWhatYouKill.doProduce(EatWhatYouKill.java:310)\\n\\tat org.eclipse.jetty.util.thread.strategy.EatWhatYouKill.tryProduce(EatWhatYouKill.java:168)\\n\\tat org.eclipse.jetty.util.thread.strategy.EatWhatYouKill.run(EatWhatYouKill.java:126)\\n\\tat org.eclipse.jetty.util.thread.ReservedThreadExecutor$ReservedThread.run(ReservedThreadExecutor.java:366)\\n\\tat org.eclipse.jetty.util.thread.QueuedThreadPool.runJob(QueuedThreadPool.java:765)\\n\\tat org.eclipse.jetty.util.thread.QueuedThreadPool$2.run(QueuedThreadPool.java:683)\\n\\tat java.lang.Thread.run(Thread.java:748)\\n'"
      ]
     },
     "metadata": {},
     "output_type": "display_data"
    }
   ],
   "source": [
    "SELECT ?relationLabel (count(distinct ?work) as ?workCount)\n",
    "WHERE\n",
    "{\n",
    "    ?work ?rel wd:Q2145 .\n",
    "    ?work wdt:P31/wdt:P279* wd:Q47461344 .\n",
    "    SERVICE wikibase:label { bd:serviceParam wikibase:language \"[AUTO_LANGUAGE],fr,en\". }\n",
    "    ?relation wikibase:directClaim ?rel .\n",
    "}\n",
    "GROUP BY ?relationLabel"
   ]
  },
  {
   "cell_type": "markdown",
   "metadata": {},
   "source": [
    "On va donc plutôt utiliser une requête sur des relations spécifiques liées à l'emplacement, en cherchant les oeuvres dont le sujet principal (P921), l'action (P840), ou ce qui est décrit (P180) est Québec:"
   ]
  },
  {
   "cell_type": "code",
   "execution_count": 23,
   "metadata": {},
   "outputs": [
    {
     "data": {
      "text/html": [
       "<div class=\"krn-spql\"><table><tr class=hdr><th>work</th>\n",
       "<th>workLabel</th></tr><tr class=odd><td class=val><a href=\"http://www.wikidata.org/entity/Q886446\" target=\"_other\">http://www.wikidata.org/entity/Q886446</a></td>\n",
       "<td class=val>Spider Bones</td></tr><tr class=even><td class=val><a href=\"http://www.wikidata.org/entity/Q30602331\" target=\"_other\">http://www.wikidata.org/entity/Q30602331</a></td>\n",
       "<td class=val>Bury Your Dead</td></tr><tr class=odd><td class=val><a href=\"http://www.wikidata.org/entity/Q106893413\" target=\"_other\">http://www.wikidata.org/entity/Q106893413</a></td>\n",
       "<td class=val>Réseau express de la Capitale - Le gouvernement dévoile sa vision du vaste réseau intégré de transport collectif dans la région métropolitaine de Québec</td></tr><tr class=even><td class=val><a href=\"http://www.wikidata.org/entity/Q106909351\" target=\"_other\">http://www.wikidata.org/entity/Q106909351</a></td>\n",
       "<td class=val>Une pétition contre le troisième lien Québec-Lévis est lancée</td></tr><tr class=odd><td class=val><a href=\"http://www.wikidata.org/entity/Q63648939\" target=\"_other\">http://www.wikidata.org/entity/Q63648939</a></td>\n",
       "<td class=val>Joseph-Ernest Grégoire, quatre années de vie politique</td></tr><tr class=even><td class=val><a href=\"http://www.wikidata.org/entity/Q106571862\" target=\"_other\">http://www.wikidata.org/entity/Q106571862</a></td>\n",
       "<td class=val>Ma ville</td></tr><tr class=odd><td class=val><a href=\"http://www.wikidata.org/entity/Q97303233\" target=\"_other\">http://www.wikidata.org/entity/Q97303233</a></td>\n",
       "<td class=val>View of Quebec from the Basin</td></tr><tr class=even><td class=val><a href=\"http://www.wikidata.org/entity/Q24439187\" target=\"_other\">http://www.wikidata.org/entity/Q24439187</a></td>\n",
       "<td class=val>Q24439187</td></tr><tr class=odd><td class=val><a href=\"http://www.wikidata.org/entity/Q25043072\" target=\"_other\">http://www.wikidata.org/entity/Q25043072</a></td>\n",
       "<td class=val>Q25043072</td></tr><tr class=even><td class=val><a href=\"http://www.wikidata.org/entity/Q29042934\" target=\"_other\">http://www.wikidata.org/entity/Q29042934</a></td>\n",
       "<td class=val>À fond de train</td></tr></table><div class=\"tinfo\">Total: 10, Shown: 10</div></div>"
      ]
     },
     "metadata": {},
     "output_type": "display_data"
    }
   ],
   "source": [
    "SELECT distinct ?work ?workLabel\n",
    "WHERE\n",
    "{\n",
    "    ?work (wdt:P31/wdt:P279*) wd:Q47461344 .\n",
    "    ?work (wdt:P921|wdt:P840|wdt:P180) wd:Q2145 .\n",
    "    SERVICE wikibase:label { bd:serviceParam wikibase:language \"[AUTO_LANGUAGE],fr,en\". }\n",
    "}"
   ]
  },
  {
   "cell_type": "markdown",
   "metadata": {},
   "source": [
    "On peut également reprendre la requête originale, trop longue à exécuter, mais en se limitant aux oeuvres littéraires:"
   ]
  },
  {
   "cell_type": "code",
   "execution_count": 29,
   "metadata": {},
   "outputs": [
    {
     "data": {
      "text/html": [
       "<div class=\"krn-spql\"><table><tr class=hdr><th>work</th>\n",
       "<th>workLabel</th>\n",
       "<th>relation</th>\n",
       "<th>relationLabel</th></tr><tr class=odd><td class=val><a href=\"http://www.wikidata.org/entity/Q886446\" target=\"_other\">http://www.wikidata.org/entity/Q886446</a></td>\n",
       "<td class=val>Spider Bones</td>\n",
       "<td class=val><a href=\"http://www.wikidata.org/entity/P840\" target=\"_other\">http://www.wikidata.org/entity/P840</a></td>\n",
       "<td class=val>lieu de l'action</td></tr><tr class=even><td class=val><a href=\"http://www.wikidata.org/entity/Q106582950\" target=\"_other\">http://www.wikidata.org/entity/Q106582950</a></td>\n",
       "<td class=val>Veillée</td>\n",
       "<td class=val><a href=\"http://www.wikidata.org/entity/P291\" target=\"_other\">http://www.wikidata.org/entity/P291</a></td>\n",
       "<td class=val>lieu de publication</td></tr><tr class=odd><td class=val><a href=\"http://www.wikidata.org/entity/Q30310263\" target=\"_other\">http://www.wikidata.org/entity/Q30310263</a></td>\n",
       "<td class=val>Les Révélations du crime ou Cambray et ses complices</td>\n",
       "<td class=val><a href=\"http://www.wikidata.org/entity/P291\" target=\"_other\">http://www.wikidata.org/entity/P291</a></td>\n",
       "<td class=val>lieu de publication</td></tr><tr class=even><td class=val><a href=\"http://www.wikidata.org/entity/Q51513428\" target=\"_other\">http://www.wikidata.org/entity/Q51513428</a></td>\n",
       "<td class=val>Les oiseaux de la province de Québec</td>\n",
       "<td class=val><a href=\"http://www.wikidata.org/entity/P291\" target=\"_other\">http://www.wikidata.org/entity/P291</a></td>\n",
       "<td class=val>lieu de publication</td></tr><tr class=odd><td class=val><a href=\"http://www.wikidata.org/entity/Q30602331\" target=\"_other\">http://www.wikidata.org/entity/Q30602331</a></td>\n",
       "<td class=val>Bury Your Dead</td>\n",
       "<td class=val><a href=\"http://www.wikidata.org/entity/P840\" target=\"_other\">http://www.wikidata.org/entity/P840</a></td>\n",
       "<td class=val>lieu de l'action</td></tr><tr class=even><td class=val><a href=\"http://www.wikidata.org/entity/Q51468513\" target=\"_other\">http://www.wikidata.org/entity/Q51468513</a></td>\n",
       "<td class=val>L'élevage du cheval en Canada</td>\n",
       "<td class=val><a href=\"http://www.wikidata.org/entity/P291\" target=\"_other\">http://www.wikidata.org/entity/P291</a></td>\n",
       "<td class=val>lieu de publication</td></tr><tr class=odd><td class=val><a href=\"http://www.wikidata.org/entity/Q22811578\" target=\"_other\">http://www.wikidata.org/entity/Q22811578</a></td>\n",
       "<td class=val>Édits, ordonnances royaux, déclarations et arrêts du Conseil d'État du Roi concernant le Canada</td>\n",
       "<td class=val><a href=\"http://www.wikidata.org/entity/P291\" target=\"_other\">http://www.wikidata.org/entity/P291</a></td>\n",
       "<td class=val>lieu de publication</td></tr><tr class=even><td class=val><a href=\"http://www.wikidata.org/entity/Q51443292\" target=\"_other\">http://www.wikidata.org/entity/Q51443292</a></td>\n",
       "<td class=val>Les arbres de commerce de la province de Québec</td>\n",
       "<td class=val><a href=\"http://www.wikidata.org/entity/P291\" target=\"_other\">http://www.wikidata.org/entity/P291</a></td>\n",
       "<td class=val>lieu de publication</td></tr><tr class=odd><td class=val><a href=\"http://www.wikidata.org/entity/Q51515313\" target=\"_other\">http://www.wikidata.org/entity/Q51515313</a></td>\n",
       "<td class=val>Ornithologie du Canada d'après la nomenclature de Baird</td>\n",
       "<td class=val><a href=\"http://www.wikidata.org/entity/P291\" target=\"_other\">http://www.wikidata.org/entity/P291</a></td>\n",
       "<td class=val>lieu de publication</td></tr></table><div class=\"tinfo\">Total: 9, Shown: 9</div></div>"
      ]
     },
     "metadata": {},
     "output_type": "display_data"
    }
   ],
   "source": [
    "SELECT distinct ?work ?workLabel ?relation ?relationLabel\n",
    "WHERE\n",
    "{\n",
    "    ?work wdt:P31/wdt:P279* wd:Q7725634 .\n",
    "    ?work ?rel wd:Q2145 .\n",
    "    SERVICE wikibase:label { bd:serviceParam wikibase:language \"[AUTO_LANGUAGE],fr,en\". }\n",
    "    ?relation wikibase:directClaim ?rel .\n",
    "}"
   ]
  },
  {
   "cell_type": "markdown",
   "metadata": {},
   "source": [
    "Ensuite pour les éditions, on cherche toutes celles ayant un lien avec Québec, peu importe le lien:"
   ]
  },
  {
   "cell_type": "code",
   "execution_count": 24,
   "metadata": {},
   "outputs": [
    {
     "data": {
      "text/html": [
       "<div class=\"krn-spql\"><table><tr class=hdr><th>edition</th>\n",
       "<th>editionLabel</th>\n",
       "<th>relation</th>\n",
       "<th>relationLabel</th></tr><tr class=odd><td class=val><a href=\"http://www.wikidata.org/entity/Q55238826\" target=\"_other\">http://www.wikidata.org/entity/Q55238826</a></td>\n",
       "<td class=val>La tempérance et les destinées du Canada</td>\n",
       "<td class=val><a href=\"http://www.wikidata.org/entity/P291\" target=\"_other\">http://www.wikidata.org/entity/P291</a></td>\n",
       "<td class=val>lieu de publication</td></tr><tr class=even><td class=val><a href=\"http://www.wikidata.org/entity/Q101406016\" target=\"_other\">http://www.wikidata.org/entity/Q101406016</a></td>\n",
       "<td class=val>Mena’sen</td>\n",
       "<td class=val><a href=\"http://www.wikidata.org/entity/P291\" target=\"_other\">http://www.wikidata.org/entity/P291</a></td>\n",
       "<td class=val>lieu de publication</td></tr><tr class=odd><td class=val><a href=\"http://www.wikidata.org/entity/Q50828733\" target=\"_other\">http://www.wikidata.org/entity/Q50828733</a></td>\n",
       "<td class=val>Trois contes sauvages</td>\n",
       "<td class=val><a href=\"http://www.wikidata.org/entity/P291\" target=\"_other\">http://www.wikidata.org/entity/P291</a></td>\n",
       "<td class=val>lieu de publication</td></tr><tr class=even><td class=val><a href=\"http://www.wikidata.org/entity/Q52685087\" target=\"_other\">http://www.wikidata.org/entity/Q52685087</a></td>\n",
       "<td class=val>Québec en 1900</td>\n",
       "<td class=val><a href=\"http://www.wikidata.org/entity/P291\" target=\"_other\">http://www.wikidata.org/entity/P291</a></td>\n",
       "<td class=val>lieu de publication</td></tr><tr class=odd><td class=val><a href=\"http://www.wikidata.org/entity/Q26037561\" target=\"_other\">http://www.wikidata.org/entity/Q26037561</a></td>\n",
       "<td class=val>Le Créole patriote (1792-1794) : un pont entre deux Révolutions</td>\n",
       "<td class=val><a href=\"http://www.wikidata.org/entity/P291\" target=\"_other\">http://www.wikidata.org/entity/P291</a></td>\n",
       "<td class=val>lieu de publication</td></tr><tr class=even><td class=val><a href=\"http://www.wikidata.org/entity/Q54733279\" target=\"_other\">http://www.wikidata.org/entity/Q54733279</a></td>\n",
       "<td class=val>Portraits et Pastels Littéraires</td>\n",
       "<td class=val><a href=\"http://www.wikidata.org/entity/P291\" target=\"_other\">http://www.wikidata.org/entity/P291</a></td>\n",
       "<td class=val>lieu de publication</td></tr><tr class=odd><td class=val><a href=\"http://www.wikidata.org/entity/Q107228267\" target=\"_other\">http://www.wikidata.org/entity/Q107228267</a></td>\n",
       "<td class=val>Les frères Sisters</td>\n",
       "<td class=val><a href=\"http://www.wikidata.org/entity/P291\" target=\"_other\">http://www.wikidata.org/entity/P291</a></td>\n",
       "<td class=val>lieu de publication</td></tr><tr class=even><td class=val><a href=\"http://www.wikidata.org/entity/Q51515316\" target=\"_other\">http://www.wikidata.org/entity/Q51515316</a></td>\n",
       "<td class=val>Ornithologie du Canada : quelques groupes d'après la nomenclature du Smithsonian Institution, de Washington</td>\n",
       "<td class=val><a href=\"http://www.wikidata.org/entity/P291\" target=\"_other\">http://www.wikidata.org/entity/P291</a></td>\n",
       "<td class=val>lieu de publication</td></tr><tr class=odd><td class=val><a href=\"http://www.wikidata.org/entity/Q51517160\" target=\"_other\">http://www.wikidata.org/entity/Q51517160</a></td>\n",
       "<td class=val>Les pêcheries du Canada</td>\n",
       "<td class=val><a href=\"http://www.wikidata.org/entity/P291\" target=\"_other\">http://www.wikidata.org/entity/P291</a></td>\n",
       "<td class=val>lieu de publication</td></tr><tr class=even><td class=val><a href=\"http://www.wikidata.org/entity/Q78880939\" target=\"_other\">http://www.wikidata.org/entity/Q78880939</a></td>\n",
       "<td class=val>Les jésuites et l'esclavage</td>\n",
       "<td class=val><a href=\"http://www.wikidata.org/entity/P291\" target=\"_other\">http://www.wikidata.org/entity/P291</a></td>\n",
       "<td class=val>lieu de publication</td></tr><tr class=odd><td class=val><a href=\"http://www.wikidata.org/entity/Q48544534\" target=\"_other\">http://www.wikidata.org/entity/Q48544534</a></td>\n",
       "<td class=val>Les comtés de Rimouski, de Matane et de Témiscouata</td>\n",
       "<td class=val><a href=\"http://www.wikidata.org/entity/P291\" target=\"_other\">http://www.wikidata.org/entity/P291</a></td>\n",
       "<td class=val>lieu de publication</td></tr><tr class=even><td class=val><a href=\"http://www.wikidata.org/entity/Q51502553\" target=\"_other\">http://www.wikidata.org/entity/Q51502553</a></td>\n",
       "<td class=val>Les mauvaises herbes dans la province de Québec et différents moyens de les détruire</td>\n",
       "<td class=val><a href=\"http://www.wikidata.org/entity/P291\" target=\"_other\">http://www.wikidata.org/entity/P291</a></td>\n",
       "<td class=val>lieu de publication</td></tr><tr class=odd><td class=val><a href=\"http://www.wikidata.org/entity/Q92078844\" target=\"_other\">http://www.wikidata.org/entity/Q92078844</a></td>\n",
       "<td class=val>Quelques notes sur Antoine de Lamothe de Cadillac</td>\n",
       "<td class=val><a href=\"http://www.wikidata.org/entity/P291\" target=\"_other\">http://www.wikidata.org/entity/P291</a></td>\n",
       "<td class=val>lieu de publication</td></tr><tr class=even><td class=val><a href=\"http://www.wikidata.org/entity/Q26205278\" target=\"_other\">http://www.wikidata.org/entity/Q26205278</a></td>\n",
       "<td class=val>Nouveau Chemin de la croix</td>\n",
       "<td class=val><a href=\"http://www.wikidata.org/entity/P291\" target=\"_other\">http://www.wikidata.org/entity/P291</a></td>\n",
       "<td class=val>lieu de publication</td></tr><tr class=odd><td class=val><a href=\"http://www.wikidata.org/entity/Q63615887\" target=\"_other\">http://www.wikidata.org/entity/Q63615887</a></td>\n",
       "<td class=val>Dialogue avec l'histoire : les collections de la Bibliothèque de l'Université Laval</td>\n",
       "<td class=val><a href=\"http://www.wikidata.org/entity/P291\" target=\"_other\">http://www.wikidata.org/entity/P291</a></td>\n",
       "<td class=val>lieu de publication</td></tr><tr class=even><td class=val><a href=\"http://www.wikidata.org/entity/Q97303233\" target=\"_other\">http://www.wikidata.org/entity/Q97303233</a></td>\n",
       "<td class=val>View of Quebec from the Basin</td>\n",
       "<td class=val><a href=\"http://www.wikidata.org/entity/P180\" target=\"_other\">http://www.wikidata.org/entity/P180</a></td>\n",
       "<td class=val>dépeint</td></tr><tr class=odd><td class=val><a href=\"http://www.wikidata.org/entity/Q51513428\" target=\"_other\">http://www.wikidata.org/entity/Q51513428</a></td>\n",
       "<td class=val>Les oiseaux de la province de Québec</td>\n",
       "<td class=val><a href=\"http://www.wikidata.org/entity/P291\" target=\"_other\">http://www.wikidata.org/entity/P291</a></td>\n",
       "<td class=val>lieu de publication</td></tr><tr class=even><td class=val><a href=\"http://www.wikidata.org/entity/Q28976060\" target=\"_other\">http://www.wikidata.org/entity/Q28976060</a></td>\n",
       "<td class=val>Le chemin de fer du lac Saint-Jean</td>\n",
       "<td class=val><a href=\"http://www.wikidata.org/entity/P291\" target=\"_other\">http://www.wikidata.org/entity/P291</a></td>\n",
       "<td class=val>lieu de publication</td></tr><tr class=odd><td class=val><a href=\"http://www.wikidata.org/entity/Q60647567\" target=\"_other\">http://www.wikidata.org/entity/Q60647567</a></td>\n",
       "<td class=val>Ce que disait la flamme…</td>\n",
       "<td class=val><a href=\"http://www.wikidata.org/entity/P291\" target=\"_other\">http://www.wikidata.org/entity/P291</a></td>\n",
       "<td class=val>lieu de publication</td></tr><tr class=even><td class=val><a href=\"http://www.wikidata.org/entity/Q61864645\" target=\"_other\">http://www.wikidata.org/entity/Q61864645</a></td>\n",
       "<td class=val>Mount Hermon Cemetery : rules and regulations.</td>\n",
       "<td class=val><a href=\"http://www.wikidata.org/entity/P291\" target=\"_other\">http://www.wikidata.org/entity/P291</a></td>\n",
       "<td class=val>lieu de publication</td></tr></table><div class=\"tinfo\">Total: 35, Shown: 20</div></div>"
      ]
     },
     "metadata": {},
     "output_type": "display_data"
    }
   ],
   "source": [
    "SELECT distinct ?edition ?editionLabel ?relation ?relationLabel\n",
    "WHERE\n",
    "{\n",
    "    ?edition (wdt:P31/wdt:P279*) wd:Q3331189 .\n",
    "    ?edition ?rel wd:Q2145 .\n",
    "    SERVICE wikibase:label { bd:serviceParam wikibase:language \"[AUTO_LANGUAGE],fr,en\". }\n",
    "    ?relation wikibase:directClaim ?rel .\n",
    "}"
   ]
  },
  {
   "cell_type": "markdown",
   "metadata": {},
   "source": [
    "On note que certains éléments reviennent dans les deux listes précédentes: ils ont été documentés à la fois comme livre et comme édition.\n",
    "\n",
    "Même si cela ne respecte pas les conventions proposées par le projet Wikidata Livres, on veut voir si des entités sont classées comme livres (et pas oeuvre écrite ni édition) et sont liées à Québec:"
   ]
  },
  {
   "cell_type": "code",
   "execution_count": 16,
   "metadata": {},
   "outputs": [
    {
     "data": {
      "text/html": [
       "<div class=\"krn-spql\"><table><tr class=hdr><th>book</th>\n",
       "<th>bookLabel</th></tr><tr class=odd><td class=val><a href=\"http://www.wikidata.org/entity/Q98073693\" target=\"_other\">http://www.wikidata.org/entity/Q98073693</a></td>\n",
       "<td class=val>Le Palais Montcalm : 75 ans d'émotions</td></tr><tr class=even><td class=val><a href=\"http://www.wikidata.org/entity/Q51512145\" target=\"_other\">http://www.wikidata.org/entity/Q51512145</a></td>\n",
       "<td class=val>Nouveau manuel complet d'industrie laitière pour la province de Québec</td></tr><tr class=odd><td class=val><a href=\"http://www.wikidata.org/entity/Q61864645\" target=\"_other\">http://www.wikidata.org/entity/Q61864645</a></td>\n",
       "<td class=val>Mount Hermon Cemetery : rules and regulations.</td></tr><tr class=even><td class=val><a href=\"http://www.wikidata.org/entity/Q51513444\" target=\"_other\">http://www.wikidata.org/entity/Q51513444</a></td>\n",
       "<td class=val>Les oisseaux insectivores</td></tr></table><div class=\"tinfo\">Total: 4, Shown: 4</div></div>"
      ]
     },
     "metadata": {},
     "output_type": "display_data"
    }
   ],
   "source": [
    "SELECT distinct ?book ?bookLabel\n",
    "WHERE\n",
    "{\n",
    "    ?book (wdt:P31/wdt:P279*) wd:Q571 .\n",
    "    ?book ?relation wd:Q2145 .\n",
    "    SERVICE wikibase:label { bd:serviceParam wikibase:language \"[AUTO_LANGUAGE],fr,en\". }\n",
    "}"
   ]
  },
  {
   "cell_type": "markdown",
   "metadata": {},
   "source": [
    "### Ville de publication et comparaison avec d'autres villes\n",
    "\n",
    "Pour continuer à avoir des points de repère, on voudra comparer le nombre d'oeuvres *publiées* à Québec, comparées à celles publiées dans les autres villes de notre échantillon. Première requête pour voir quelques exemples (en se limitant aux oeuvres littéraires, et en segmentant les villes en deux groupes, pour les raisons de performance déjà évoquées):"
   ]
  },
  {
   "cell_type": "code",
   "execution_count": 30,
   "metadata": {},
   "outputs": [
    {
     "data": {
      "text/html": [
       "<div class=\"krn-spql\"><table><tr class=hdr><th>cityLabel</th>\n",
       "<th>workCount</th></tr><tr class=odd><td class=val>Barcelone</td>\n",
       "<td class=val>119</td></tr><tr class=even><td class=val>Dublin</td>\n",
       "<td class=val>24</td></tr><tr class=odd><td class=val>Québec</td>\n",
       "<td class=val>7</td></tr><tr class=even><td class=val>Angoulême</td>\n",
       "<td class=val>1</td></tr></table><div class=\"tinfo\">Total: 4, Shown: 4</div></div>"
      ]
     },
     "metadata": {},
     "output_type": "display_data"
    }
   ],
   "source": [
    "SELECT ?cityLabel (count(distinct ?work) as ?workCount)\n",
    "WHERE\n",
    "{\n",
    "    VALUES ?city { wd:Q2145 wd:Q134346 wd:Q1492 wd:Q1761 }\n",
    "    ?work wdt:P31/wdt:P279* wd:Q7725634 .\n",
    "    ?work wdt:P291 ?city .\n",
    "    SERVICE wikibase:label { bd:serviceParam wikibase:language \"[AUTO_LANGUAGE],fr,en\". }\n",
    "}\n",
    "GROUP BY ?cityLabel"
   ]
  },
  {
   "cell_type": "code",
   "execution_count": 31,
   "metadata": {},
   "outputs": [
    {
     "data": {
      "text/html": [
       "<div class=\"krn-spql\"><table><tr class=hdr><th>cityLabel</th>\n",
       "<th>workCount</th></tr><tr class=odd><td class=val>Paris</td>\n",
       "<td class=val>1507</td></tr><tr class=even><td class=val>New York</td>\n",
       "<td class=val>212</td></tr><tr class=odd><td class=val>Montréal</td>\n",
       "<td class=val>12</td></tr><tr class=even><td class=val>Milan</td>\n",
       "<td class=val>68</td></tr><tr class=odd><td class=val>Seattle</td>\n",
       "<td class=val>2</td></tr></table><div class=\"tinfo\">Total: 5, Shown: 5</div></div>"
      ]
     },
     "metadata": {},
     "output_type": "display_data"
    }
   ],
   "source": [
    "SELECT ?cityLabel (count(distinct ?work) as ?workCount)\n",
    "WHERE\n",
    "{\n",
    "    VALUES ?city { wd:Q490 wd:Q5083 wd:Q340 wd:Q90 wd:Q60 }\n",
    "    ?work wdt:P31/wdt:P279* wd:Q7725634 .\n",
    "    ?work wdt:P291 ?city .\n",
    "    SERVICE wikibase:label { bd:serviceParam wikibase:language \"[AUTO_LANGUAGE],fr,en\". }\n",
    "}\n",
    "GROUP BY ?cityLabel"
   ]
  },
  {
   "cell_type": "markdown",
   "metadata": {},
   "source": [
    "Et si on refait le même exercice sur la base des éditions:"
   ]
  },
  {
   "cell_type": "code",
   "execution_count": 34,
   "metadata": {},
   "outputs": [
    {
     "data": {
      "text/html": [
       "<div class=\"krn-spql\"><table><tr class=hdr><th>cityLabel</th>\n",
       "<th>editionCount</th></tr><tr class=odd><td class=val>New York</td>\n",
       "<td class=val>1362</td></tr><tr class=even><td class=val>Paris</td>\n",
       "<td class=val>3278</td></tr><tr class=odd><td class=val>Milan</td>\n",
       "<td class=val>195</td></tr><tr class=even><td class=val>Montréal</td>\n",
       "<td class=val>102</td></tr><tr class=odd><td class=val>Seattle</td>\n",
       "<td class=val>44</td></tr><tr class=even><td class=val>Barcelone</td>\n",
       "<td class=val>1554</td></tr><tr class=odd><td class=val>Dublin</td>\n",
       "<td class=val>64</td></tr><tr class=even><td class=val>Québec</td>\n",
       "<td class=val>34</td></tr></table><div class=\"tinfo\">Total: 8, Shown: 8</div></div>"
      ]
     },
     "metadata": {},
     "output_type": "display_data"
    }
   ],
   "source": [
    "SELECT ?cityLabel (count(distinct ?edition) as ?editionCount)\n",
    "WHERE\n",
    "{\n",
    "    VALUES ?city { wd:Q2145 wd:Q134346 wd:Q1492 wd:Q1761 wd:Q490 wd:Q5083 wd:Q340 wd:Q90 wd:Q60 }\n",
    "    ?edition wdt:P31/wdt:P279* wd:Q3331189 .\n",
    "    ?edition wdt:P291 ?city .\n",
    "    SERVICE wikibase:label { bd:serviceParam wikibase:language \"[AUTO_LANGUAGE],fr,en\". }\n",
    "}\n",
    "GROUP BY ?cityLabel"
   ]
  },
  {
   "cell_type": "markdown",
   "metadata": {},
   "source": [
    "Pour compléter le portrait, nous pouvons faire le décompte des oeuvres qui traitent, ou dont l'action se déroule, dans les villes concernées."
   ]
  },
  {
   "cell_type": "code",
   "execution_count": 3,
   "metadata": {},
   "outputs": [
    {
     "data": {
      "text/html": [
       "<div class=\"krn-spql\"><table><tr class=hdr><th>cityLabel</th>\n",
       "<th>workCount</th></tr><tr class=odd><td class=val>Dublin</td>\n",
       "<td class=val>38</td></tr><tr class=even><td class=val>Québec</td>\n",
       "<td class=val>2</td></tr><tr class=odd><td class=val>Barcelone</td>\n",
       "<td class=val>28</td></tr></table><div class=\"tinfo\">Total: 3, Shown: 3</div></div>"
      ]
     },
     "metadata": {},
     "output_type": "display_data"
    }
   ],
   "source": [
    "SELECT ?cityLabel (count(distinct ?work) as ?workCount)\n",
    "WHERE\n",
    "{\n",
    "    VALUES ?city { wd:Q2145 wd:Q134346 wd:Q1492 wd:Q1761 }\n",
    "    ?work (wdt:P921|wdt:P840|wdt:P180) ?city .\n",
    "    ?work wdt:P31/wdt:P279* wd:Q7725634 .\n",
    "    SERVICE wikibase:label { bd:serviceParam wikibase:language \"[AUTO_LANGUAGE],fr,en\". }\n",
    "}\n",
    "GROUP BY ?cityLabel"
   ]
  },
  {
   "cell_type": "code",
   "execution_count": 4,
   "metadata": {},
   "outputs": [
    {
     "data": {
      "text/html": [
       "<div class=\"krn-spql\"><div class=\"krn-error\"><span class=\"title\">Error:</span> SPARQL error: EndPointInternalError: endpoint returned code 500 and response. <br/><br/>Response:<br/>b'SPARQL-QUERY: queryStr=SELECT ?cityLabel (count(distinct ?work) as ?workCount)\\nWHERE\\n{\\n    VALUES ?city { wd:Q490 wd:Q5083 wd:Q340 wd:Q90 wd:Q60 }\\n    ?work (wdt:P921|wdt:P840|wdt:P180) ?city .\\n    ?work wdt:P31/wdt:P279* wd:Q7725634 .\\n    SERVICE wikibase:label { bd:serviceParam wikibase:language &quot;[AUTO_LANGUAGE],fr,en&quot;. }\\n}\\nGROUP BY ?cityLabel\\njava.util.concurrent.TimeoutException\\n\\tat java.util.concurrent.FutureTask.get(FutureTask.java:205)\\n\\tat com.bigdata.rdf.sail.webapp.BigdataServlet.submitApiTask(BigdataServlet.java:292)\\n\\tat com.bigdata.rdf.sail.webapp.QueryServlet.doSparqlQuery(QueryServlet.java:678)\\n\\tat com.bigdata.rdf.sail.webapp.QueryServlet.doGet(QueryServlet.java:290)\\n\\tat com.bigdata.rdf.sail.webapp.RESTServlet.doGet(RESTServlet.java:240)\\n\\tat com.bigdata.rdf.sail.webapp.MultiTenancyServlet.doGet(MultiTenancyServlet.java:273)\\n\\tat javax.servlet.http.HttpServlet.service(HttpServlet.java:687)\\n\\tat javax.servlet.http.HttpServlet.service(HttpServlet.java:790)\\n\\tat org.eclipse.jetty.servlet.ServletHolder.handle(ServletHolder.java:865)\\n\\tat org.eclipse.jetty.servlet.ServletHandler$CachedChain.doFilter(ServletHandler.java:1655)\\n\\tat org.wikidata.query.rdf.blazegraph.throttling.ThrottlingFilter.doFilter(ThrottlingFilter.java:320)\\n\\tat org.eclipse.jetty.servlet.ServletHandler$CachedChain.doFilter(ServletHandler.java:1642)\\n\\tat org.wikidata.query.rdf.blazegraph.throttling.SystemOverloadFilter.doFilter(SystemOverloadFilter.java:82)\\n\\tat org.eclipse.jetty.servlet.ServletHandler$CachedChain.doFilter(ServletHandler.java:1642)\\n\\tat ch.qos.logback.classic.helpers.MDCInsertingServletFilter.doFilter(MDCInsertingServletFilter.java:49)\\n\\tat org.eclipse.jetty.servlet.ServletHandler$CachedChain.doFilter(ServletHandler.java:1642)\\n\\tat org.wikidata.query.rdf.blazegraph.filters.QueryEventSenderFilter.doFilter(QueryEventSenderFilter.java:117)\\n\\tat org.eclipse.jetty.servlet.ServletHandler$CachedChain.doFilter(ServletHandler.java:1642)\\n\\tat org.wikidata.query.rdf.blazegraph.filters.ClientIPFilter.doFilter(ClientIPFilter.java:43)\\n\\tat org.eclipse.jetty.servlet.ServletHandler$CachedChain.doFilter(ServletHandler.java:1642)\\n\\tat org.wikidata.query.rdf.blazegraph.filters.RealAgentFilter.doFilter(RealAgentFilter.java:33)\\n\\tat org.eclipse.jetty.servlet.ServletHandler$CachedChain.doFilter(ServletHandler.java:1634)\\n\\tat org.eclipse.jetty.servlet.ServletHandler.doHandle(ServletHandler.java:533)\\n\\tat org.eclipse.jetty.server.handler.ScopedHandler.handle(ScopedHandler.java:146)\\n\\tat org.eclipse.jetty.security.SecurityHandler.handle(SecurityHandler.java:548)\\n\\tat org.eclipse.jetty.server.handler.HandlerWrapper.handle(HandlerWrapper.java:132)\\n\\tat org.eclipse.jetty.server.handler.ScopedHandler.nextHandle(ScopedHandler.java:257)\\n\\tat org.eclipse.jetty.server.session.SessionHandler.doHandle(SessionHandler.java:1595)\\n\\tat org.eclipse.jetty.server.handler.ScopedHandler.nextHandle(ScopedHandler.java:255)\\n\\tat org.eclipse.jetty.server.handler.ContextHandler.doHandle(ContextHandler.java:1340)\\n\\tat org.eclipse.jetty.server.handler.ScopedHandler.nextScope(ScopedHandler.java:203)\\n\\tat org.eclipse.jetty.servlet.ServletHandler.doScope(ServletHandler.java:473)\\n\\tat org.eclipse.jetty.server.session.SessionHandler.doScope(SessionHandler.java:1564)\\n\\tat org.eclipse.jetty.server.handler.ScopedHandler.nextScope(ScopedHandler.java:201)\\n\\tat org.eclipse.jetty.server.handler.ContextHandler.doScope(ContextHandler.java:1242)\\n\\tat org.eclipse.jetty.server.handler.ScopedHandler.handle(ScopedHandler.java:144)\\n\\tat org.eclipse.jetty.server.handler.ContextHandlerCollection.handle(ContextHandlerCollection.java:220)\\n\\tat org.eclipse.jetty.server.handler.HandlerCollection.handle(HandlerCollection.java:126)\\n\\tat org.eclipse.jetty.server.handler.HandlerWrapper.handle(HandlerWrapper.java:132)\\n\\tat org.eclipse.jetty.server.Server.handle(Server.java:503)\\n\\tat org.eclipse.jetty.server.HttpChannel.handle(HttpChannel.java:364)\\n\\tat org.eclipse.jetty.server.HttpConnection.onFillable(HttpConnection.java:260)\\n\\tat org.eclipse.jetty.io.AbstractConnection$ReadCallback.succeeded(AbstractConnection.java:305)\\n\\tat org.eclipse.jetty.io.FillInterest.fillable(FillInterest.java:103)\\n\\tat org.eclipse.jetty.io.ChannelEndPoint$2.run(ChannelEndPoint.java:118)\\n\\tat org.eclipse.jetty.util.thread.strategy.EatWhatYouKill.runTask(EatWhatYouKill.java:333)\\n\\tat org.eclipse.jetty.util.thread.strategy.EatWhatYouKill.doProduce(EatWhatYouKill.java:310)\\n\\tat org.eclipse.jetty.util.thread.strategy.EatWhatYouKill.tryProduce(EatWhatYouKill.java:168)\\n\\tat org.eclipse.jetty.util.thread.strategy.EatWhatYouKill.run(EatWhatYouKill.java:126)\\n\\tat org.eclipse.jetty.util.thread.ReservedThreadExecutor$ReservedThread.run(ReservedThreadExecutor.java:366)\\n\\tat org.eclipse.jetty.util.thread.QueuedThreadPool.runJob(QueuedThreadPool.java:765)\\n\\tat org.eclipse.jetty.util.thread.QueuedThreadPool$2.run(QueuedThreadPool.java:683)\\n\\tat java.lang.Thread.run(Thread.java:748)\\n'</div></div>"
      ],
      "text/plain": [
       "Error: SPARQL error: EndPointInternalError: endpoint returned code 500 and response. \n",
       "\n",
       "Response:\n",
       "b'SPARQL-QUERY: queryStr=SELECT ?cityLabel (count(distinct ?work) as ?workCount)\\nWHERE\\n{\\n    VALUES ?city { wd:Q490 wd:Q5083 wd:Q340 wd:Q90 wd:Q60 }\\n    ?work (wdt:P921|wdt:P840|wdt:P180) ?city .\\n    ?work wdt:P31/wdt:P279* wd:Q7725634 .\\n    SERVICE wikibase:label { bd:serviceParam wikibase:language \"[AUTO_LANGUAGE],fr,en\". }\\n}\\nGROUP BY ?cityLabel\\njava.util.concurrent.TimeoutException\\n\\tat java.util.concurrent.FutureTask.get(FutureTask.java:205)\\n\\tat com.bigdata.rdf.sail.webapp.BigdataServlet.submitApiTask(BigdataServlet.java:292)\\n\\tat com.bigdata.rdf.sail.webapp.QueryServlet.doSparqlQuery(QueryServlet.java:678)\\n\\tat com.bigdata.rdf.sail.webapp.QueryServlet.doGet(QueryServlet.java:290)\\n\\tat com.bigdata.rdf.sail.webapp.RESTServlet.doGet(RESTServlet.java:240)\\n\\tat com.bigdata.rdf.sail.webapp.MultiTenancyServlet.doGet(MultiTenancyServlet.java:273)\\n\\tat javax.servlet.http.HttpServlet.service(HttpServlet.java:687)\\n\\tat javax.servlet.http.HttpServlet.service(HttpServlet.java:790)\\n\\tat org.eclipse.jetty.servlet.ServletHolder.handle(ServletHolder.java:865)\\n\\tat org.eclipse.jetty.servlet.ServletHandler$CachedChain.doFilter(ServletHandler.java:1655)\\n\\tat org.wikidata.query.rdf.blazegraph.throttling.ThrottlingFilter.doFilter(ThrottlingFilter.java:320)\\n\\tat org.eclipse.jetty.servlet.ServletHandler$CachedChain.doFilter(ServletHandler.java:1642)\\n\\tat org.wikidata.query.rdf.blazegraph.throttling.SystemOverloadFilter.doFilter(SystemOverloadFilter.java:82)\\n\\tat org.eclipse.jetty.servlet.ServletHandler$CachedChain.doFilter(ServletHandler.java:1642)\\n\\tat ch.qos.logback.classic.helpers.MDCInsertingServletFilter.doFilter(MDCInsertingServletFilter.java:49)\\n\\tat org.eclipse.jetty.servlet.ServletHandler$CachedChain.doFilter(ServletHandler.java:1642)\\n\\tat org.wikidata.query.rdf.blazegraph.filters.QueryEventSenderFilter.doFilter(QueryEventSenderFilter.java:117)\\n\\tat org.eclipse.jetty.servlet.ServletHandler$CachedChain.doFilter(ServletHandler.java:1642)\\n\\tat org.wikidata.query.rdf.blazegraph.filters.ClientIPFilter.doFilter(ClientIPFilter.java:43)\\n\\tat org.eclipse.jetty.servlet.ServletHandler$CachedChain.doFilter(ServletHandler.java:1642)\\n\\tat org.wikidata.query.rdf.blazegraph.filters.RealAgentFilter.doFilter(RealAgentFilter.java:33)\\n\\tat org.eclipse.jetty.servlet.ServletHandler$CachedChain.doFilter(ServletHandler.java:1634)\\n\\tat org.eclipse.jetty.servlet.ServletHandler.doHandle(ServletHandler.java:533)\\n\\tat org.eclipse.jetty.server.handler.ScopedHandler.handle(ScopedHandler.java:146)\\n\\tat org.eclipse.jetty.security.SecurityHandler.handle(SecurityHandler.java:548)\\n\\tat org.eclipse.jetty.server.handler.HandlerWrapper.handle(HandlerWrapper.java:132)\\n\\tat org.eclipse.jetty.server.handler.ScopedHandler.nextHandle(ScopedHandler.java:257)\\n\\tat org.eclipse.jetty.server.session.SessionHandler.doHandle(SessionHandler.java:1595)\\n\\tat org.eclipse.jetty.server.handler.ScopedHandler.nextHandle(ScopedHandler.java:255)\\n\\tat org.eclipse.jetty.server.handler.ContextHandler.doHandle(ContextHandler.java:1340)\\n\\tat org.eclipse.jetty.server.handler.ScopedHandler.nextScope(ScopedHandler.java:203)\\n\\tat org.eclipse.jetty.servlet.ServletHandler.doScope(ServletHandler.java:473)\\n\\tat org.eclipse.jetty.server.session.SessionHandler.doScope(SessionHandler.java:1564)\\n\\tat org.eclipse.jetty.server.handler.ScopedHandler.nextScope(ScopedHandler.java:201)\\n\\tat org.eclipse.jetty.server.handler.ContextHandler.doScope(ContextHandler.java:1242)\\n\\tat org.eclipse.jetty.server.handler.ScopedHandler.handle(ScopedHandler.java:144)\\n\\tat org.eclipse.jetty.server.handler.ContextHandlerCollection.handle(ContextHandlerCollection.java:220)\\n\\tat org.eclipse.jetty.server.handler.HandlerCollection.handle(HandlerCollection.java:126)\\n\\tat org.eclipse.jetty.server.handler.HandlerWrapper.handle(HandlerWrapper.java:132)\\n\\tat org.eclipse.jetty.server.Server.handle(Server.java:503)\\n\\tat org.eclipse.jetty.server.HttpChannel.handle(HttpChannel.java:364)\\n\\tat org.eclipse.jetty.server.HttpConnection.onFillable(HttpConnection.java:260)\\n\\tat org.eclipse.jetty.io.AbstractConnection$ReadCallback.succeeded(AbstractConnection.java:305)\\n\\tat org.eclipse.jetty.io.FillInterest.fillable(FillInterest.java:103)\\n\\tat org.eclipse.jetty.io.ChannelEndPoint$2.run(ChannelEndPoint.java:118)\\n\\tat org.eclipse.jetty.util.thread.strategy.EatWhatYouKill.runTask(EatWhatYouKill.java:333)\\n\\tat org.eclipse.jetty.util.thread.strategy.EatWhatYouKill.doProduce(EatWhatYouKill.java:310)\\n\\tat org.eclipse.jetty.util.thread.strategy.EatWhatYouKill.tryProduce(EatWhatYouKill.java:168)\\n\\tat org.eclipse.jetty.util.thread.strategy.EatWhatYouKill.run(EatWhatYouKill.java:126)\\n\\tat org.eclipse.jetty.util.thread.ReservedThreadExecutor$ReservedThread.run(ReservedThreadExecutor.java:366)\\n\\tat org.eclipse.jetty.util.thread.QueuedThreadPool.runJob(QueuedThreadPool.java:765)\\n\\tat org.eclipse.jetty.util.thread.QueuedThreadPool$2.run(QueuedThreadPool.java:683)\\n\\tat java.lang.Thread.run(Thread.java:748)\\n'"
      ]
     },
     "metadata": {},
     "output_type": "display_data"
    }
   ],
   "source": [
    "SELECT ?cityLabel (count(distinct ?work) as ?workCount)\n",
    "WHERE\n",
    "{\n",
    "    VALUES ?city { wd:Q490 wd:Q5083 wd:Q340 wd:Q90 wd:Q60 }\n",
    "    ?work (wdt:P921|wdt:P840|wdt:P180) ?city .\n",
    "    ?work wdt:P31/wdt:P279* wd:Q7725634 .\n",
    "    SERVICE wikibase:label { bd:serviceParam wikibase:language \"[AUTO_LANGUAGE],fr,en\". }\n",
    "}\n",
    "GROUP BY ?cityLabel"
   ]
  },
  {
   "cell_type": "markdown",
   "metadata": {},
   "source": [
    "Et enfin, même question, pour les éditions."
   ]
  },
  {
   "cell_type": "code",
   "execution_count": null,
   "metadata": {
    "collapsed": true
   },
   "outputs": [],
   "source": [
    "SELECT ?cityLabel (count(distinct ?edition) as ?editionCount)\n",
    "WHERE\n",
    "{\n",
    "    VALUES ?city { wd:Q2145 wd:Q134346 wd:Q1492 wd:Q1761 wd:Q490 wd:Q5083 wd:Q340 wd:Q90 wd:Q60 }\n",
    "    ?edition (wdt:P921|wdt:P840|wdt:P180) ?city .\n",
    "    ?edition wdt:P31/wdt:P279* wd:Q3331189 .\n",
    "    SERVICE wikibase:label { bd:serviceParam wikibase:language \"[AUTO_LANGUAGE],fr,en\". }\n",
    "}\n",
    "GROUP BY ?cityLabel"
   ]
  },
  {
   "cell_type": "markdown",
   "metadata": {},
   "source": [
    "## À travers les maisons d'édition\n",
    "\n",
    "Si on émet l'hypothèse que les villes de de publication ne sont pas bien documentées dans les oeuvres ou les éditions, on peut reprendre l'analyse en s'appuyant sur le lieux associé à la maison d'édition.\n",
    "\n",
    "Par exemple, on peut lister les éditions publiées par des maisons de Québec:"
   ]
  },
  {
   "cell_type": "code",
   "execution_count": 33,
   "metadata": {},
   "outputs": [
    {
     "data": {
      "text/html": [
       "<div class=\"krn-spql\"><table><tr class=hdr><th>edition</th>\n",
       "<th>editionLabel</th>\n",
       "<th>editeurs</th></tr><tr class=odd><td class=val><a href=\"http://www.wikidata.org/entity/Q77009625\" target=\"_other\">http://www.wikidata.org/entity/Q77009625</a></td>\n",
       "<td class=val>Dictionnaire des artistes de langue française en Amérique du Nord</td>\n",
       "<td class=val>http://www.wikidata.org/entity/Q2338135, http://www.wikidata.org/entity/Q3402572</td></tr><tr class=even><td class=val><a href=\"http://www.wikidata.org/entity/Q63615887\" target=\"_other\">http://www.wikidata.org/entity/Q63615887</a></td>\n",
       "<td class=val>Dialogue avec l'histoire : les collections de la Bibliothèque de l'Université Laval</td>\n",
       "<td class=val>http://www.wikidata.org/entity/Q3402572</td></tr><tr class=odd><td class=val><a href=\"http://www.wikidata.org/entity/Q63373321\" target=\"_other\">http://www.wikidata.org/entity/Q63373321</a></td>\n",
       "<td class=val>Bibliothèque de l'Université Laval : 165 ans d'histoire : 1852-2017</td>\n",
       "<td class=val>http://www.wikidata.org/entity/Q3402572</td></tr><tr class=even><td class=val><a href=\"http://www.wikidata.org/entity/Q58341258\" target=\"_other\">http://www.wikidata.org/entity/Q58341258</a></td>\n",
       "<td class=val>Statistiques sociales</td>\n",
       "<td class=val>http://www.wikidata.org/entity/Q3402572</td></tr><tr class=odd><td class=val><a href=\"http://www.wikidata.org/entity/Q52182553\" target=\"_other\">http://www.wikidata.org/entity/Q52182553</a></td>\n",
       "<td class=val>Le Journalisme à l'heure du Net</td>\n",
       "<td class=val>http://www.wikidata.org/entity/Q3402572</td></tr><tr class=even><td class=val><a href=\"http://www.wikidata.org/entity/Q98073693\" target=\"_other\">http://www.wikidata.org/entity/Q98073693</a></td>\n",
       "<td class=val>Le Palais Montcalm : 75 ans d'émotions</td>\n",
       "<td class=val>http://www.wikidata.org/entity/Q98073919, http://www.wikidata.org/entity/Q2986483</td></tr><tr class=odd><td class=val><a href=\"http://www.wikidata.org/entity/Q107228267\" target=\"_other\">http://www.wikidata.org/entity/Q107228267</a></td>\n",
       "<td class=val>Les frères Sisters</td>\n",
       "<td class=val>http://www.wikidata.org/entity/Q16684371</td></tr><tr class=even><td class=val><a href=\"http://www.wikidata.org/entity/Q91949031\" target=\"_other\">http://www.wikidata.org/entity/Q91949031</a></td>\n",
       "<td class=val>Frontenac et ses amis</td>\n",
       "<td class=val>http://www.wikidata.org/entity/Q40882270</td></tr><tr class=odd><td class=val><a href=\"http://www.wikidata.org/entity/Q78880939\" target=\"_other\">http://www.wikidata.org/entity/Q78880939</a></td>\n",
       "<td class=val>Les jésuites et l'esclavage</td>\n",
       "<td class=val>http://www.wikidata.org/entity/Q3402573</td></tr><tr class=even><td class=val><a href=\"http://www.wikidata.org/entity/Q56816764\" target=\"_other\">http://www.wikidata.org/entity/Q56816764</a></td>\n",
       "<td class=val>Le registre de Sillery (1638-1690)</td>\n",
       "<td class=val>http://www.wikidata.org/entity/Q3402573</td></tr><tr class=odd><td class=val><a href=\"http://www.wikidata.org/entity/Q54165640\" target=\"_other\">http://www.wikidata.org/entity/Q54165640</a></td>\n",
       "<td class=val>Ashton Leblond, juste du vrai! : un rêve réalisé... une frite à la fois!</td>\n",
       "<td class=val>http://www.wikidata.org/entity/Q3579394</td></tr><tr class=even><td class=val><a href=\"http://www.wikidata.org/entity/Q40881798\" target=\"_other\">http://www.wikidata.org/entity/Q40881798</a></td>\n",
       "<td class=val>Allumez vos lampes, s’il vous plaît !!!</td>\n",
       "<td class=val>http://www.wikidata.org/entity/Q40882270</td></tr><tr class=odd><td class=val><a href=\"http://www.wikidata.org/entity/Q51513444\" target=\"_other\">http://www.wikidata.org/entity/Q51513444</a></td>\n",
       "<td class=val>Les oisseaux insectivores</td>\n",
       "<td class=val>http://www.wikidata.org/entity/Q40882270</td></tr><tr class=even><td class=val><a href=\"http://www.wikidata.org/entity/Q51513428\" target=\"_other\">http://www.wikidata.org/entity/Q51513428</a></td>\n",
       "<td class=val>Les oiseaux de la province de Québec</td>\n",
       "<td class=val>http://www.wikidata.org/entity/Q40882270</td></tr><tr class=odd><td class=val><a href=\"http://www.wikidata.org/entity/Q51502553\" target=\"_other\">http://www.wikidata.org/entity/Q51502553</a></td>\n",
       "<td class=val>Les mauvaises herbes dans la province de Québec et différents moyens de les détruire</td>\n",
       "<td class=val>http://www.wikidata.org/entity/Q40882270</td></tr><tr class=even><td class=val><a href=\"http://www.wikidata.org/entity/Q51468513\" target=\"_other\">http://www.wikidata.org/entity/Q51468513</a></td>\n",
       "<td class=val>L'élevage du cheval en Canada</td>\n",
       "<td class=val>http://www.wikidata.org/entity/Q40882270</td></tr><tr class=odd><td class=val><a href=\"http://www.wikidata.org/entity/Q29018702\" target=\"_other\">http://www.wikidata.org/entity/Q29018702</a></td>\n",
       "<td class=val>Le Traité de Paris de 1763 en bref</td>\n",
       "<td class=val>http://www.wikidata.org/entity/Q3579664</td></tr></table><div class=\"tinfo\">Total: 17, Shown: 17</div></div>"
      ]
     },
     "metadata": {},
     "output_type": "display_data"
    }
   ],
   "source": [
    "SELECT ?edition ?editionLabel (GROUP_CONCAT(DISTINCT ?editeur; separator = \", \") AS ?editeurs)\n",
    "WHERE\n",
    "{\n",
    "    ?edition     wdt:P31/wdt:P279*                       wd:Q3331189   .\n",
    "    ?edition     wdt:P123                                ?editeur     .\n",
    "    ?editeur     (wdt:P159|wdt:P131)/wdt:P131*           wd:Q2145      .\n",
    "  \n",
    "    SERVICE wikibase:label { bd:serviceParam wikibase:language \"[AUTO_LANGUAGE],fr,en\". }\n",
    "}\n",
    "GROUP BY ?edition ?editionLabel"
   ]
  },
  {
   "cell_type": "markdown",
   "metadata": {},
   "source": [
    "Puis on fait la même chose pour les oeuvres:"
   ]
  },
  {
   "cell_type": "code",
   "execution_count": 36,
   "metadata": {},
   "outputs": [
    {
     "data": {
      "text/html": [
       "<div class=\"krn-spql\"><table><tr class=hdr><th>oeuvre</th>\n",
       "<th>oeuvreLabel</th>\n",
       "<th>editeurs</th></tr><tr class=odd><td class=val><a href=\"http://www.wikidata.org/entity/Q63872069\" target=\"_other\">http://www.wikidata.org/entity/Q63872069</a></td>\n",
       "<td class=val>Aides-soignantes et autres funambules du soin : entre nécessités et arts de faire</td>\n",
       "<td class=val>http://www.wikidata.org/entity/Q3402572</td></tr><tr class=even><td class=val><a href=\"http://www.wikidata.org/entity/Q63863366\" target=\"_other\">http://www.wikidata.org/entity/Q63863366</a></td>\n",
       "<td class=val>Jeunes et djihadisme : les conversions interdites</td>\n",
       "<td class=val>http://www.wikidata.org/entity/Q3402572</td></tr><tr class=odd><td class=val><a href=\"http://www.wikidata.org/entity/Q63863193\" target=\"_other\">http://www.wikidata.org/entity/Q63863193</a></td>\n",
       "<td class=val>Peinture et société au Québec</td>\n",
       "<td class=val>http://www.wikidata.org/entity/Q3402572</td></tr><tr class=even><td class=val><a href=\"http://www.wikidata.org/entity/Q63863087\" target=\"_other\">http://www.wikidata.org/entity/Q63863087</a></td>\n",
       "<td class=val>Jean-Charles-Bonenfant et l'esprit des institutions</td>\n",
       "<td class=val>http://www.wikidata.org/entity/Q3402572</td></tr><tr class=odd><td class=val><a href=\"http://www.wikidata.org/entity/Q63863048\" target=\"_other\">http://www.wikidata.org/entity/Q63863048</a></td>\n",
       "<td class=val>Pour une reconnaissance de la laïcité au Québec : enjeux philosophiques, politiques et juridiques</td>\n",
       "<td class=val>http://www.wikidata.org/entity/Q3402572</td></tr><tr class=even><td class=val><a href=\"http://www.wikidata.org/entity/Q63862938\" target=\"_other\">http://www.wikidata.org/entity/Q63862938</a></td>\n",
       "<td class=val>Penser la laïcité québécoise : fondements et défense d'une laïcité ouverte au Québec</td>\n",
       "<td class=val>http://www.wikidata.org/entity/Q3402572</td></tr><tr class=odd><td class=val><a href=\"http://www.wikidata.org/entity/Q63862850\" target=\"_other\">http://www.wikidata.org/entity/Q63862850</a></td>\n",
       "<td class=val>Les catholiques québécois et la laïcité</td>\n",
       "<td class=val>http://www.wikidata.org/entity/Q3402572</td></tr><tr class=even><td class=val><a href=\"http://www.wikidata.org/entity/Q63862605\" target=\"_other\">http://www.wikidata.org/entity/Q63862605</a></td>\n",
       "<td class=val>Laïcité et signes religieux à l'école</td>\n",
       "<td class=val>http://www.wikidata.org/entity/Q3402572</td></tr><tr class=odd><td class=val><a href=\"http://www.wikidata.org/entity/Q63862229\" target=\"_other\">http://www.wikidata.org/entity/Q63862229</a></td>\n",
       "<td class=val>L'histoire des neurosciences à Québec : cinquante ans de recherche sur le cerveau et ses maladies</td>\n",
       "<td class=val>http://www.wikidata.org/entity/Q3402572</td></tr><tr class=even><td class=val><a href=\"http://www.wikidata.org/entity/Q18354521\" target=\"_other\">http://www.wikidata.org/entity/Q18354521</a></td>\n",
       "<td class=val>Sanaaq</td>\n",
       "<td class=val>http://www.wikidata.org/entity/Q1067935</td></tr><tr class=odd><td class=val><a href=\"http://www.wikidata.org/entity/Q104394234\" target=\"_other\">http://www.wikidata.org/entity/Q104394234</a></td>\n",
       "<td class=val>Montréal et la bombe</td>\n",
       "<td class=val>http://www.wikidata.org/entity/Q3579664</td></tr><tr class=even><td class=val><a href=\"http://www.wikidata.org/entity/Q67086226\" target=\"_other\">http://www.wikidata.org/entity/Q67086226</a></td>\n",
       "<td class=val>Psychologie cognitive : une approche de traitement de l'information</td>\n",
       "<td class=val>http://www.wikidata.org/entity/Q3402573</td></tr><tr class=odd><td class=val><a href=\"http://www.wikidata.org/entity/Q63861521\" target=\"_other\">http://www.wikidata.org/entity/Q63861521</a></td>\n",
       "<td class=val>L'apparition du Nord : selon Gérard Mercator</td>\n",
       "<td class=val>http://www.wikidata.org/entity/Q3579664</td></tr><tr class=even><td class=val><a href=\"http://www.wikidata.org/entity/Q60607969\" target=\"_other\">http://www.wikidata.org/entity/Q60607969</a></td>\n",
       "<td class=val>La Médecine en Nouvelle-France: Les chirurgiens de Montréal, 1642-1760</td>\n",
       "<td class=val>http://www.wikidata.org/entity/Q3579664</td></tr><tr class=odd><td class=val><a href=\"http://www.wikidata.org/entity/Q51513428\" target=\"_other\">http://www.wikidata.org/entity/Q51513428</a></td>\n",
       "<td class=val>Les oiseaux de la province de Québec</td>\n",
       "<td class=val>http://www.wikidata.org/entity/Q40882270</td></tr><tr class=even><td class=val><a href=\"http://www.wikidata.org/entity/Q51468513\" target=\"_other\">http://www.wikidata.org/entity/Q51468513</a></td>\n",
       "<td class=val>L'élevage du cheval en Canada</td>\n",
       "<td class=val>http://www.wikidata.org/entity/Q40882270</td></tr><tr class=odd><td class=val><a href=\"http://www.wikidata.org/entity/Q51443292\" target=\"_other\">http://www.wikidata.org/entity/Q51443292</a></td>\n",
       "<td class=val>Les arbres de commerce de la province de Québec</td>\n",
       "<td class=val>http://www.wikidata.org/entity/Q40882270</td></tr></table><div class=\"tinfo\">Total: 17, Shown: 17</div></div>"
      ]
     },
     "metadata": {},
     "output_type": "display_data"
    }
   ],
   "source": [
    "SELECT ?oeuvre ?oeuvreLabel (GROUP_CONCAT(DISTINCT ?editeur; separator = \", \") AS ?editeurs)\n",
    "WHERE\n",
    "{\n",
    "    ?oeuvre     wdt:P31/wdt:P279*                       wd:Q7725634   .\n",
    "    ?oeuvre     wdt:P123                                ?editeur      .\n",
    "    ?editeur     (wdt:P159|wdt:P131)/wdt:P131*          wd:Q2145      .\n",
    "  \n",
    "    SERVICE wikibase:label { bd:serviceParam wikibase:language \"[AUTO_LANGUAGE],fr,en\". }\n",
    "}\n",
    "GROUP BY ?oeuvre ?oeuvreLabel"
   ]
  },
  {
   "cell_type": "markdown",
   "metadata": {},
   "source": [
    "On peut répéter l'exercice et noter le nombre d'éditions associées aux villes de notre échantillon à travers nos éditeurs:"
   ]
  },
  {
   "cell_type": "code",
   "execution_count": 37,
   "metadata": {},
   "outputs": [
    {
     "data": {
      "text/html": [
       "<div class=\"krn-spql\"><table><tr class=hdr><th>cityLabel</th>\n",
       "<th>editionCount</th></tr><tr class=odd><td class=val>Paris</td>\n",
       "<td class=val>2529</td></tr><tr class=even><td class=val>New York</td>\n",
       "<td class=val>1850</td></tr><tr class=odd><td class=val>Barcelone</td>\n",
       "<td class=val>149</td></tr><tr class=even><td class=val>Québec</td>\n",
       "<td class=val>17</td></tr><tr class=odd><td class=val>Milan</td>\n",
       "<td class=val>1026</td></tr><tr class=even><td class=val>Dublin</td>\n",
       "<td class=val>25</td></tr><tr class=odd><td class=val>Seattle</td>\n",
       "<td class=val>21</td></tr><tr class=even><td class=val>Montréal</td>\n",
       "<td class=val>43</td></tr></table><div class=\"tinfo\">Total: 8, Shown: 8</div></div>"
      ]
     },
     "metadata": {},
     "output_type": "display_data"
    }
   ],
   "source": [
    "SELECT ?cityLabel (count(distinct ?edition) as ?editionCount)\n",
    "WHERE\n",
    "{\n",
    "    VALUES ?city { wd:Q2145 wd:Q134346 wd:Q1492 wd:Q1761 wd:Q490 wd:Q5083 wd:Q340 wd:Q90 wd:Q60 }\n",
    "    ?edition     wdt:P31/wdt:P279*                       wd:Q3331189   .\n",
    "    ?edition     wdt:P123                                ?editeur      .\n",
    "    ?editeur     (wdt:P159|wdt:P131)/wdt:P131*           ?city         .\n",
    "    SERVICE wikibase:label { bd:serviceParam wikibase:language \"[AUTO_LANGUAGE],fr,en\". }\n",
    "}\n",
    "GROUP BY ?cityLabel"
   ]
  },
  {
   "cell_type": "markdown",
   "metadata": {},
   "source": [
    "Et le faire sur le nombre d'oeures associées aux villes de notre échantillon à travers nos éditeurs:"
   ]
  },
  {
   "cell_type": "code",
   "execution_count": 38,
   "metadata": {},
   "outputs": [
    {
     "data": {
      "text/html": [
       "<div class=\"krn-spql\"><div class=\"krn-error\"><span class=\"title\">Error:</span> SPARQL error: EndPointInternalError: endpoint returned code 500 and response. <br/><br/>Response:<br/>b'SPARQL-QUERY: queryStr=SELECT ?cityLabel (count(distinct ?oeuvre) as ?oeuvreCount)\\nWHERE\\n{\\n    VALUES ?city { wd:Q2145 wd:Q134346 wd:Q1492 wd:Q1761 wd:Q490 wd:Q5083 wd:Q340 wd:Q90 wd:Q60 }\\n    ?oeuvre     wdt:P31/wdt:P279*                       wd:Q7725634   .\\n    ?oeuvre     wdt:P123                                ?editeur      .\\n    ?editeur     (wdt:P159|wdt:P131)/wdt:P131*          ?city         .\\n    SERVICE wikibase:label { bd:serviceParam wikibase:language &quot;[AUTO_LANGUAGE],fr,en&quot;. }\\n}\\nGROUP BY ?cityLabel\\njava.util.concurrent.TimeoutException\\n\\tat java.util.concurrent.FutureTask.get(FutureTask.java:205)\\n\\tat com.bigdata.rdf.sail.webapp.BigdataServlet.submitApiTask(BigdataServlet.java:292)\\n\\tat com.bigdata.rdf.sail.webapp.QueryServlet.doSparqlQuery(QueryServlet.java:678)\\n\\tat com.bigdata.rdf.sail.webapp.QueryServlet.doGet(QueryServlet.java:290)\\n\\tat com.bigdata.rdf.sail.webapp.RESTServlet.doGet(RESTServlet.java:240)\\n\\tat com.bigdata.rdf.sail.webapp.MultiTenancyServlet.doGet(MultiTenancyServlet.java:273)\\n\\tat javax.servlet.http.HttpServlet.service(HttpServlet.java:687)\\n\\tat javax.servlet.http.HttpServlet.service(HttpServlet.java:790)\\n\\tat org.eclipse.jetty.servlet.ServletHolder.handle(ServletHolder.java:865)\\n\\tat org.eclipse.jetty.servlet.ServletHandler$CachedChain.doFilter(ServletHandler.java:1655)\\n\\tat org.wikidata.query.rdf.blazegraph.throttling.ThrottlingFilter.doFilter(ThrottlingFilter.java:320)\\n\\tat org.eclipse.jetty.servlet.ServletHandler$CachedChain.doFilter(ServletHandler.java:1642)\\n\\tat org.wikidata.query.rdf.blazegraph.throttling.SystemOverloadFilter.doFilter(SystemOverloadFilter.java:82)\\n\\tat org.eclipse.jetty.servlet.ServletHandler$CachedChain.doFilter(ServletHandler.java:1642)\\n\\tat ch.qos.logback.classic.helpers.MDCInsertingServletFilter.doFilter(MDCInsertingServletFilter.java:49)\\n\\tat org.eclipse.jetty.servlet.ServletHandler$CachedChain.doFilter(ServletHandler.java:1642)\\n\\tat org.wikidata.query.rdf.blazegraph.filters.QueryEventSenderFilter.doFilter(QueryEventSenderFilter.java:117)\\n\\tat org.eclipse.jetty.servlet.ServletHandler$CachedChain.doFilter(ServletHandler.java:1642)\\n\\tat org.wikidata.query.rdf.blazegraph.filters.ClientIPFilter.doFilter(ClientIPFilter.java:43)\\n\\tat org.eclipse.jetty.servlet.ServletHandler$CachedChain.doFilter(ServletHandler.java:1642)\\n\\tat org.wikidata.query.rdf.blazegraph.filters.RealAgentFilter.doFilter(RealAgentFilter.java:33)\\n\\tat org.eclipse.jetty.servlet.ServletHandler$CachedChain.doFilter(ServletHandler.java:1634)\\n\\tat org.eclipse.jetty.servlet.ServletHandler.doHandle(ServletHandler.java:533)\\n\\tat org.eclipse.jetty.server.handler.ScopedHandler.handle(ScopedHandler.java:146)\\n\\tat org.eclipse.jetty.security.SecurityHandler.handle(SecurityHandler.java:548)\\n\\tat org.eclipse.jetty.server.handler.HandlerWrapper.handle(HandlerWrapper.java:132)\\n\\tat org.eclipse.jetty.server.handler.ScopedHandler.nextHandle(ScopedHandler.java:257)\\n\\tat org.eclipse.jetty.server.session.SessionHandler.doHandle(SessionHandler.java:1595)\\n\\tat org.eclipse.jetty.server.handler.ScopedHandler.nextHandle(ScopedHandler.java:255)\\n\\tat org.eclipse.jetty.server.handler.ContextHandler.doHandle(ContextHandler.java:1340)\\n\\tat org.eclipse.jetty.server.handler.ScopedHandler.nextScope(ScopedHandler.java:203)\\n\\tat org.eclipse.jetty.servlet.ServletHandler.doScope(ServletHandler.java:473)\\n\\tat org.eclipse.jetty.server.session.SessionHandler.doScope(SessionHandler.java:1564)\\n\\tat org.eclipse.jetty.server.handler.ScopedHandler.nextScope(ScopedHandler.java:201)\\n\\tat org.eclipse.jetty.server.handler.ContextHandler.doScope(ContextHandler.java:1242)\\n\\tat org.eclipse.jetty.server.handler.ScopedHandler.handle(ScopedHandler.java:144)\\n\\tat org.eclipse.jetty.server.handler.ContextHandlerCollection.handle(ContextHandlerCollection.java:220)\\n\\tat org.eclipse.jetty.server.handler.HandlerCollection.handle(HandlerCollection.java:126)\\n\\tat org.eclipse.jetty.server.handler.HandlerWrapper.handle(HandlerWrapper.java:132)\\n\\tat org.eclipse.jetty.server.Server.handle(Server.java:503)\\n\\tat org.eclipse.jetty.server.HttpChannel.handle(HttpChannel.java:364)\\n\\tat org.eclipse.jetty.server.HttpConnection.onFillable(HttpConnection.java:260)\\n\\tat org.eclipse.jetty.io.AbstractConnection$ReadCallback.succeeded(AbstractConnection.java:305)\\n\\tat org.eclipse.jetty.io.FillInterest.fillable(FillInterest.java:103)\\n\\tat org.eclipse.jetty.io.ChannelEndPoint$2.run(ChannelEndPoint.java:118)\\n\\tat org.eclipse.jetty.util.thread.strategy.EatWhatYouKill.runTask(EatWhatYouKill.java:333)\\n\\tat org.eclipse.jetty.util.thread.strategy.EatWhatYouKill.doProduce(EatWhatYouKill.java:310)\\n\\tat org.eclipse.jetty.util.thread.strategy.EatWhatYouKill.tryProduce(EatWhatYouKill.java:168)\\n\\tat org.eclipse.jetty.util.thread.strategy.EatWhatYouKill.run(EatWhatYouKill.java:126)\\n\\tat org.eclipse.jetty.util.thread.ReservedThreadExecutor$ReservedThread.run(ReservedThreadExecutor.java:366)\\n\\tat org.eclipse.jetty.util.thread.QueuedThreadPool.runJob(QueuedThreadPool.java:765)\\n\\tat org.eclipse.jetty.util.thread.QueuedThreadPool$2.run(QueuedThreadPool.java:683)\\n\\tat java.lang.Thread.run(Thread.java:748)\\n'</div></div>"
      ],
      "text/plain": [
       "Error: SPARQL error: EndPointInternalError: endpoint returned code 500 and response. \n",
       "\n",
       "Response:\n",
       "b'SPARQL-QUERY: queryStr=SELECT ?cityLabel (count(distinct ?oeuvre) as ?oeuvreCount)\\nWHERE\\n{\\n    VALUES ?city { wd:Q2145 wd:Q134346 wd:Q1492 wd:Q1761 wd:Q490 wd:Q5083 wd:Q340 wd:Q90 wd:Q60 }\\n    ?oeuvre     wdt:P31/wdt:P279*                       wd:Q7725634   .\\n    ?oeuvre     wdt:P123                                ?editeur      .\\n    ?editeur     (wdt:P159|wdt:P131)/wdt:P131*          ?city         .\\n    SERVICE wikibase:label { bd:serviceParam wikibase:language \"[AUTO_LANGUAGE],fr,en\". }\\n}\\nGROUP BY ?cityLabel\\njava.util.concurrent.TimeoutException\\n\\tat java.util.concurrent.FutureTask.get(FutureTask.java:205)\\n\\tat com.bigdata.rdf.sail.webapp.BigdataServlet.submitApiTask(BigdataServlet.java:292)\\n\\tat com.bigdata.rdf.sail.webapp.QueryServlet.doSparqlQuery(QueryServlet.java:678)\\n\\tat com.bigdata.rdf.sail.webapp.QueryServlet.doGet(QueryServlet.java:290)\\n\\tat com.bigdata.rdf.sail.webapp.RESTServlet.doGet(RESTServlet.java:240)\\n\\tat com.bigdata.rdf.sail.webapp.MultiTenancyServlet.doGet(MultiTenancyServlet.java:273)\\n\\tat javax.servlet.http.HttpServlet.service(HttpServlet.java:687)\\n\\tat javax.servlet.http.HttpServlet.service(HttpServlet.java:790)\\n\\tat org.eclipse.jetty.servlet.ServletHolder.handle(ServletHolder.java:865)\\n\\tat org.eclipse.jetty.servlet.ServletHandler$CachedChain.doFilter(ServletHandler.java:1655)\\n\\tat org.wikidata.query.rdf.blazegraph.throttling.ThrottlingFilter.doFilter(ThrottlingFilter.java:320)\\n\\tat org.eclipse.jetty.servlet.ServletHandler$CachedChain.doFilter(ServletHandler.java:1642)\\n\\tat org.wikidata.query.rdf.blazegraph.throttling.SystemOverloadFilter.doFilter(SystemOverloadFilter.java:82)\\n\\tat org.eclipse.jetty.servlet.ServletHandler$CachedChain.doFilter(ServletHandler.java:1642)\\n\\tat ch.qos.logback.classic.helpers.MDCInsertingServletFilter.doFilter(MDCInsertingServletFilter.java:49)\\n\\tat org.eclipse.jetty.servlet.ServletHandler$CachedChain.doFilter(ServletHandler.java:1642)\\n\\tat org.wikidata.query.rdf.blazegraph.filters.QueryEventSenderFilter.doFilter(QueryEventSenderFilter.java:117)\\n\\tat org.eclipse.jetty.servlet.ServletHandler$CachedChain.doFilter(ServletHandler.java:1642)\\n\\tat org.wikidata.query.rdf.blazegraph.filters.ClientIPFilter.doFilter(ClientIPFilter.java:43)\\n\\tat org.eclipse.jetty.servlet.ServletHandler$CachedChain.doFilter(ServletHandler.java:1642)\\n\\tat org.wikidata.query.rdf.blazegraph.filters.RealAgentFilter.doFilter(RealAgentFilter.java:33)\\n\\tat org.eclipse.jetty.servlet.ServletHandler$CachedChain.doFilter(ServletHandler.java:1634)\\n\\tat org.eclipse.jetty.servlet.ServletHandler.doHandle(ServletHandler.java:533)\\n\\tat org.eclipse.jetty.server.handler.ScopedHandler.handle(ScopedHandler.java:146)\\n\\tat org.eclipse.jetty.security.SecurityHandler.handle(SecurityHandler.java:548)\\n\\tat org.eclipse.jetty.server.handler.HandlerWrapper.handle(HandlerWrapper.java:132)\\n\\tat org.eclipse.jetty.server.handler.ScopedHandler.nextHandle(ScopedHandler.java:257)\\n\\tat org.eclipse.jetty.server.session.SessionHandler.doHandle(SessionHandler.java:1595)\\n\\tat org.eclipse.jetty.server.handler.ScopedHandler.nextHandle(ScopedHandler.java:255)\\n\\tat org.eclipse.jetty.server.handler.ContextHandler.doHandle(ContextHandler.java:1340)\\n\\tat org.eclipse.jetty.server.handler.ScopedHandler.nextScope(ScopedHandler.java:203)\\n\\tat org.eclipse.jetty.servlet.ServletHandler.doScope(ServletHandler.java:473)\\n\\tat org.eclipse.jetty.server.session.SessionHandler.doScope(SessionHandler.java:1564)\\n\\tat org.eclipse.jetty.server.handler.ScopedHandler.nextScope(ScopedHandler.java:201)\\n\\tat org.eclipse.jetty.server.handler.ContextHandler.doScope(ContextHandler.java:1242)\\n\\tat org.eclipse.jetty.server.handler.ScopedHandler.handle(ScopedHandler.java:144)\\n\\tat org.eclipse.jetty.server.handler.ContextHandlerCollection.handle(ContextHandlerCollection.java:220)\\n\\tat org.eclipse.jetty.server.handler.HandlerCollection.handle(HandlerCollection.java:126)\\n\\tat org.eclipse.jetty.server.handler.HandlerWrapper.handle(HandlerWrapper.java:132)\\n\\tat org.eclipse.jetty.server.Server.handle(Server.java:503)\\n\\tat org.eclipse.jetty.server.HttpChannel.handle(HttpChannel.java:364)\\n\\tat org.eclipse.jetty.server.HttpConnection.onFillable(HttpConnection.java:260)\\n\\tat org.eclipse.jetty.io.AbstractConnection$ReadCallback.succeeded(AbstractConnection.java:305)\\n\\tat org.eclipse.jetty.io.FillInterest.fillable(FillInterest.java:103)\\n\\tat org.eclipse.jetty.io.ChannelEndPoint$2.run(ChannelEndPoint.java:118)\\n\\tat org.eclipse.jetty.util.thread.strategy.EatWhatYouKill.runTask(EatWhatYouKill.java:333)\\n\\tat org.eclipse.jetty.util.thread.strategy.EatWhatYouKill.doProduce(EatWhatYouKill.java:310)\\n\\tat org.eclipse.jetty.util.thread.strategy.EatWhatYouKill.tryProduce(EatWhatYouKill.java:168)\\n\\tat org.eclipse.jetty.util.thread.strategy.EatWhatYouKill.run(EatWhatYouKill.java:126)\\n\\tat org.eclipse.jetty.util.thread.ReservedThreadExecutor$ReservedThread.run(ReservedThreadExecutor.java:366)\\n\\tat org.eclipse.jetty.util.thread.QueuedThreadPool.runJob(QueuedThreadPool.java:765)\\n\\tat org.eclipse.jetty.util.thread.QueuedThreadPool$2.run(QueuedThreadPool.java:683)\\n\\tat java.lang.Thread.run(Thread.java:748)\\n'"
      ]
     },
     "metadata": {},
     "output_type": "display_data"
    }
   ],
   "source": [
    "SELECT ?cityLabel (count(distinct ?oeuvre) as ?oeuvreCount)\n",
    "WHERE\n",
    "{\n",
    "    VALUES ?city { wd:Q2145 wd:Q134346 wd:Q1492 wd:Q1761 wd:Q490 wd:Q5083 wd:Q340 wd:Q90 wd:Q60 }\n",
    "    ?oeuvre     wdt:P31/wdt:P279*                       wd:Q7725634   .\n",
    "    ?oeuvre     wdt:P123                                ?editeur      .\n",
    "    ?editeur     (wdt:P159|wdt:P131)/wdt:P131*          ?city         .\n",
    "    SERVICE wikibase:label { bd:serviceParam wikibase:language \"[AUTO_LANGUAGE],fr,en\". }\n",
    "}\n",
    "GROUP BY ?cityLabel"
   ]
  },
  {
   "cell_type": "markdown",
   "metadata": {},
   "source": [
    "## Vrac / à explorer\n",
    "\n",
    "Je vois Nicolas Dickner dans les auteurs qui ont étudié à Québec, à l'Université Laval. Sa fiche contient des oeuvres notables, Tarmac et Nikolski. Les deux fiches portent sur les oeuvres et ne contiennent pas de référence aux éditions (et donc pas aux ISBN). Aucune fiche ne fait de lien avec les Éditions Alto."
   ]
  },
  {
   "cell_type": "markdown",
   "metadata": {},
   "source": [
    "## Autres notes / réflexions"
   ]
  },
  {
   "cell_type": "markdown",
   "metadata": {},
   "source": [
    "### Les sous-classes des oeuvres écrites\n",
    "\n",
    "La classe des oeuvres écrites (Q47461344) comporte un très grand nombre (plus de 70 000) de sous-classes, ce qui rend la plupart des requêtes concernant des entités de cette classe ou de ses sous-classes impraticables (elles génèrent des dépassement du délai d'exécution permis). La stratégie que nous utiliserons sera de s'intéresser seulement à certaines sous-classes de premier niveau, soit:"
   ]
  },
  {
   "cell_type": "code",
   "execution_count": 8,
   "metadata": {},
   "outputs": [
    {
     "data": {
      "text/html": [
       "<div class=\"krn-spql\"><table><tr class=hdr><th>subclass</th>\n",
       "<th>subclassLabel</th></tr><tr class=odd><td class=val><a href=\"http://www.wikidata.org/entity/Q191067\" target=\"_other\">http://www.wikidata.org/entity/Q191067</a></td>\n",
       "<td class=val>article</td></tr><tr class=even><td class=val><a href=\"http://www.wikidata.org/entity/Q234460\" target=\"_other\">http://www.wikidata.org/entity/Q234460</a></td>\n",
       "<td class=val>texte</td></tr><tr class=odd><td class=val><a href=\"http://www.wikidata.org/entity/Q277759\" target=\"_other\">http://www.wikidata.org/entity/Q277759</a></td>\n",
       "<td class=val>série de livres</td></tr><tr class=even><td class=val><a href=\"http://www.wikidata.org/entity/Q1433985\" target=\"_other\">http://www.wikidata.org/entity/Q1433985</a></td>\n",
       "<td class=val>broadside</td></tr><tr class=odd><td class=val><a href=\"http://www.wikidata.org/entity/Q1385450\" target=\"_other\">http://www.wikidata.org/entity/Q1385450</a></td>\n",
       "<td class=val>thèse ou écrit académique</td></tr><tr class=even><td class=val><a href=\"http://www.wikidata.org/entity/Q1501855\" target=\"_other\">http://www.wikidata.org/entity/Q1501855</a></td>\n",
       "<td class=val>programme électoral</td></tr><tr class=odd><td class=val><a href=\"http://www.wikidata.org/entity/Q3092752\" target=\"_other\">http://www.wikidata.org/entity/Q3092752</a></td>\n",
       "<td class=val>Apocryphe</td></tr><tr class=even><td class=val><a href=\"http://www.wikidata.org/entity/Q3030630\" target=\"_other\">http://www.wikidata.org/entity/Q3030630</a></td>\n",
       "<td class=val>dissertation</td></tr><tr class=odd><td class=val><a href=\"http://www.wikidata.org/entity/Q3099732\" target=\"_other\">http://www.wikidata.org/entity/Q3099732</a></td>\n",
       "<td class=val>rapport technique</td></tr><tr class=even><td class=val><a href=\"http://www.wikidata.org/entity/Q7725634\" target=\"_other\">http://www.wikidata.org/entity/Q7725634</a></td>\n",
       "<td class=val>œuvre littéraire</td></tr><tr class=odd><td class=val><a href=\"http://www.wikidata.org/entity/Q1376568\" target=\"_other\">http://www.wikidata.org/entity/Q1376568</a></td>\n",
       "<td class=val>appendix</td></tr><tr class=even><td class=val><a href=\"http://www.wikidata.org/entity/Q1640824\" target=\"_other\">http://www.wikidata.org/entity/Q1640824</a></td>\n",
       "<td class=val>inscription lapidaire</td></tr><tr class=odd><td class=val><a href=\"http://www.wikidata.org/entity/Q2352616\" target=\"_other\">http://www.wikidata.org/entity/Q2352616</a></td>\n",
       "<td class=val>catalogue</td></tr><tr class=even><td class=val><a href=\"http://www.wikidata.org/entity/Q15087423\" target=\"_other\">http://www.wikidata.org/entity/Q15087423</a></td>\n",
       "<td class=val>norme ISO</td></tr><tr class=odd><td class=val><a href=\"http://www.wikidata.org/entity/Q94709889\" target=\"_other\">http://www.wikidata.org/entity/Q94709889</a></td>\n",
       "<td class=val>Catholic church records</td></tr><tr class=even><td class=val><a href=\"http://www.wikidata.org/entity/Q3749265\" target=\"_other\">http://www.wikidata.org/entity/Q3749265</a></td>\n",
       "<td class=val>fragment</td></tr><tr class=odd><td class=val><a href=\"http://www.wikidata.org/entity/Q16324495\" target=\"_other\">http://www.wikidata.org/entity/Q16324495</a></td>\n",
       "<td class=val>Compilation</td></tr><tr class=even><td class=val><a href=\"http://www.wikidata.org/entity/Q12106333\" target=\"_other\">http://www.wikidata.org/entity/Q12106333</a></td>\n",
       "<td class=val>recueil de poèmes</td></tr><tr class=odd><td class=val><a href=\"http://www.wikidata.org/entity/Q1440451\" target=\"_other\">http://www.wikidata.org/entity/Q1440451</a></td>\n",
       "<td class=val>fragment collection</td></tr><tr class=even><td class=val><a href=\"http://www.wikidata.org/entity/Q1440453\" target=\"_other\">http://www.wikidata.org/entity/Q1440453</a></td>\n",
       "<td class=val>fragment</td></tr></table><div class=\"tinfo\">Total: 39, Shown: 20</div></div>"
      ]
     },
     "metadata": {},
     "output_type": "display_data"
    }
   ],
   "source": [
    "SELECT distinct ?subclass ?subclassLabel\n",
    "WHERE\n",
    "{\n",
    "    ?subclass wdt:P279 wd:Q47461344 .\n",
    "    SERVICE wikibase:label { bd:serviceParam wikibase:language \"[AUTO_LANGUAGE],fr,en\". }\n",
    "}"
   ]
  },
  {
   "cell_type": "markdown",
   "metadata": {},
   "source": [
    "Nous avons retenu les sous-classes suivantes, liées d'une certaine façon au monde du livre:\n",
    "\n",
    "* série de livres  wd:Q277759\n",
    "* thèse ou écrit académique wd:Q1385450\n",
    "* apocryphe wd:Q3092752\n",
    "* dissertation wd:Q3030630\n",
    "* rapport technique wd:Q3099732\n",
    "* catalogue wd:Q2352616\n",
    "* compilation wd:Q16324495\n",
    "* recueil de poèmes wd:Q12106333\n",
    "* fragment wd:Q1440453 («twittérature»)\n",
    "* œuvre littéraire wd:Q7725634\n",
    "* œuvre scientifique (Q11826511)\n",
    "* œuvre collective (Q3594128\n",
    "* manga (Q8274)\n",
    "* bande dessinée (Q1004)\n",
    "* dictionnaire (Q23622)\n",
    "* ouvrage de référence (Q13136)\n",
    "* œuvre académique (Q55915575)\n",
    "* front and back matter of a book(Q61782498)\n",
    "* Guide d'achat du vin (Q63994109)\n",
    "\n",
    "Tout ça semble un peu arbitraire ou étrange (pourquoi les guides d'achat de vin sont une sous-classe directe des oeuvres écrites, mais pas les autres guides d'achat? manga est à la fois une sous-classe d'oeuvre écrite et de bande dessinée, est-ce nécessaire de le conserver dans notre sélection?).\n",
    "\n",
    "On pourrait donc utiliser `VALUES ?workType { wd:Q277759 wd:Q1385450 wd:Q3092752 wd:Q3030630 wd:Q3099732 wd:Q2352616 wd:Q16324495 wd:Q12106333 wd:Q1440453 wd:Q7725634 wd:Q11826511 wd:Q3594128 wd:Q8274 wd:Q1004 wd:Q23622 wd:Q13136 wd:Q55915575 wd:Q61782498 wd:Q63994109 }` dans nos requêtes.\n",
    "\n",
    "Toutefois, après quelques essais, ça ne règle pas vraiment le problème du temps d'exécution."
   ]
  },
  {
   "cell_type": "markdown",
   "metadata": {},
   "source": [
    "# Si on devait résumer la démarche...\n",
    "\n",
    "C'est très difficile d'obtenir des données de Wikidata sur les livres.\n",
    "\n",
    "Cela s'explique de différentes raisons:\n",
    "\n",
    "* La complexité du modèle théorique, qui demande de distinguer oeuvre et éditions, qui n'est pas toujours respecté\n",
    "* Le très grand nombre de sous-classes de la classe des oeuvres écrites, qui rend toute requête sur cette classe et ses sous-classes très longue (menant souvent à un \"time out\")\n",
    "\n",
    "Cela s'explique également par la nature des données qu'on interroge, qui ne sont pas toutes complètes (des livres qui ne sont pas liés à leur maison d'édition ou à leur lieux de publication).\n",
    "\n",
    "Notons de plus que nos requêtes ne sont probablement pas toutes optimales, à la fois sur le délai d'exécution, que sur la façon d'interrog\n",
    "\n",
    "Néanmoins, sur l'ensemble des indicateurs pour lesquels on arrive à avoir des résultats et des comparaisons avec les autres villes de notre échantillon (le nombre d'éditeurs situés dans la ville, le nombre d'oeuvres ou d'éditions qui y sont publiées, le nombre d'oeuvres ou d'éditions publiées par des éditeurs situés dans la ville), Québec ne fait pas particulièrement bonne figure (sans non plus être la dernière)."
   ]
  }
 ],
 "metadata": {
  "kernelspec": {
   "display_name": "SPARQL",
   "language": "sparql",
   "name": "sparql"
  },
  "language_info": {
   "codemirror_mode": {
    "name": "sparql"
   },
   "mimetype": "application/sparql-query",
   "name": "sparql",
   "pygments_lexer": "sparql-nb"
  }
 },
 "nbformat": 4,
 "nbformat_minor": 2
}
