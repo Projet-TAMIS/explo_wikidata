{
 "cells": [
  {
   "cell_type": "markdown",
   "metadata": {},
   "source": [
    "# Ville de Québec, Wikidata et livres: une exploration"
   ]
  },
  {
   "cell_type": "markdown",
   "metadata": {},
   "source": [
    "## À propos\n",
    "\n",
    "Ce carnet de note s'inscrit dans les recherches du projet [TAMIS](https://tamis.ca/) pour explorer la présence littéraire de la ville de Québec dans Wikidata. Plus de détails au sujet de cette démarche seront publiées sur le carnet de TAMIS."
   ]
  },
  {
   "cell_type": "markdown",
   "metadata": {},
   "source": [
    "## Notes techniques\n",
    "\n",
    "Ce document est un carnet Jupyter Notebook configuré pour faire des requêtes SPARQL en s'inspirant directement des [explications de Bob DuCharme](http://www.bobdc.com/blog/jupytersparql/). Les requêtes sont réalisées directement sur le «endpoint» SPAQL de Wikidata:"
   ]
  },
  {
   "cell_type": "code",
   "execution_count": 7,
   "metadata": {},
   "outputs": [
    {
     "data": {
      "text/html": [
       "<div class=\"krn-spql\"><div class=\"magic\">Endpoint set to: https://query.wikidata.org/bigdata/namespace/wdq/sparql</div><div class=\"magic\">Request format: ANY</div><div class=\"magic\">Display: table</div></div>"
      ],
      "text/plain": [
       "Endpoint set to: https://query.wikidata.org/bigdata/namespace/wdq/sparql\n",
       "Request format: ANY\n",
       "Display: table\n"
      ]
     },
     "metadata": {},
     "output_type": "display_data"
    }
   ],
   "source": [
    "%endpoint https://query.wikidata.org/bigdata/namespace/wdq/sparql\n",
    "%format any\n",
    "%display table"
   ]
  },
  {
   "cell_type": "markdown",
   "metadata": {},
   "source": [
    "## Références\n",
    "\n",
    "On s'attend à ce que les livres en général soient présents dans Wikidata en respectant les recommandations du projet livres ([anglais](https://www.wikidata.org/wiki/Wikidata:WikiProject_Books), [français](https://www.wikidata.org/wiki/Wikidata:WikiProject_Books/fr)).\n",
    "\n",
    "Je note au passage quelques numéros d'entités qui seront utilisées fréquemment dans les requêtes qui suivront."
   ]
  },
  {
   "cell_type": "markdown",
   "metadata": {},
   "source": [
    "* Livre: Q571\n",
    "* Version, édition ou traduction: Q3331189\n",
    "* Maison d'éditon: Q2085381\n",
    "* Oeuvre littéraire: Q7725634\n",
    "* Écrivain: Q36180\n",
    "* Auteur: Q482980\n",
    "* Poète: Q49757\n",
    "* Ville de Québec: Q2145\n",
    "* Montréal: Q340\n",
    "* Paris: Q90\n",
    "* New-York City: Q60"
   ]
  },
  {
   "cell_type": "markdown",
   "metadata": {},
   "source": [
    "## Exploration sur les maisons d'édition\n",
    "\n",
    "On veut avoir la liste des maisons d'édition de Québec présentes sur Wikidata."
   ]
  },
  {
   "cell_type": "code",
   "execution_count": 18,
   "metadata": {},
   "outputs": [
    {
     "data": {
      "text/html": [
       "<div class=\"krn-spql\"><table><tr class=hdr><th>publisher</th>\n",
       "<th>publisherLabel</th></tr><tr class=odd><td class=val><a href=\"http://www.wikidata.org/entity/Q3402573\" target=\"_other\">http://www.wikidata.org/entity/Q3402573</a></td>\n",
       "<td class=val>Presses de l'Université du Québec</td></tr><tr class=even><td class=val><a href=\"http://www.wikidata.org/entity/Q2338135\" target=\"_other\">http://www.wikidata.org/entity/Q2338135</a></td>\n",
       "<td class=val>Musée national des beaux-arts du Québec</td></tr><tr class=odd><td class=val><a href=\"http://www.wikidata.org/entity/Q1067935\" target=\"_other\">http://www.wikidata.org/entity/Q1067935</a></td>\n",
       "<td class=val>Université Laval</td></tr><tr class=even><td class=val><a href=\"http://www.wikidata.org/entity/Q16684371\" target=\"_other\">http://www.wikidata.org/entity/Q16684371</a></td>\n",
       "<td class=val>Q16684371</td></tr><tr class=odd><td class=val><a href=\"http://www.wikidata.org/entity/Q2986483\" target=\"_other\">http://www.wikidata.org/entity/Q2986483</a></td>\n",
       "<td class=val>Commission de la capitale nationale du Québec</td></tr><tr class=even><td class=val><a href=\"http://www.wikidata.org/entity/Q97044787\" target=\"_other\">http://www.wikidata.org/entity/Q97044787</a></td>\n",
       "<td class=val>The Chronicle-Telegraph Pub. Co.</td></tr><tr class=odd><td class=val><a href=\"http://www.wikidata.org/entity/Q95623497\" target=\"_other\">http://www.wikidata.org/entity/Q95623497</a></td>\n",
       "<td class=val>Librairie Garneau</td></tr><tr class=even><td class=val><a href=\"http://www.wikidata.org/entity/Q3579664\" target=\"_other\">http://www.wikidata.org/entity/Q3579664</a></td>\n",
       "<td class=val>Éditions du Septentrion</td></tr><tr class=odd><td class=val><a href=\"http://www.wikidata.org/entity/Q3402572\" target=\"_other\">http://www.wikidata.org/entity/Q3402572</a></td>\n",
       "<td class=val>Presses de l'Université Laval</td></tr><tr class=even><td class=val><a href=\"http://www.wikidata.org/entity/Q3579394\" target=\"_other\">http://www.wikidata.org/entity/Q3579394</a></td>\n",
       "<td class=val>Le Dauphin blanc</td></tr><tr class=odd><td class=val><a href=\"http://www.wikidata.org/entity/Q16506987\" target=\"_other\">http://www.wikidata.org/entity/Q16506987</a></td>\n",
       "<td class=val>Bibliothèque de l'Université Laval</td></tr><tr class=even><td class=val><a href=\"http://www.wikidata.org/entity/Q326282\" target=\"_other\">http://www.wikidata.org/entity/Q326282</a></td>\n",
       "<td class=val>Université du Québec</td></tr><tr class=odd><td class=val><a href=\"http://www.wikidata.org/entity/Q1705530\" target=\"_other\">http://www.wikidata.org/entity/Q1705530</a></td>\n",
       "<td class=val>Musée de la civilisation</td></tr><tr class=even><td class=val><a href=\"http://www.wikidata.org/entity/Q40882270\" target=\"_other\">http://www.wikidata.org/entity/Q40882270</a></td>\n",
       "<td class=val>Dussault &amp; Proulx</td></tr></table><div class=\"tinfo\">Total: 14, Shown: 14</div></div>"
      ]
     },
     "metadata": {},
     "output_type": "display_data"
    }
   ],
   "source": [
    "SELECT distinct ?publisher ?publisherLabel\n",
    "WHERE\n",
    "{\n",
    "    ?publisher (wdt:P31/wdt:P279*) wd:Q2085381 .\n",
    "    ?publisher (wdt:P159*/wdt:P131*) wd:Q2145 .\n",
    "    SERVICE wikibase:label { bd:serviceParam wikibase:language \"[AUTO_LANGUAGE],en\". }\n",
    "}"
   ]
  },
  {
   "cell_type": "markdown",
   "metadata": {},
   "source": [
    "À noter la présence d'organisations disparues (Dussault & Proulx), qu'on n'aurait pas identifiées comme maisons d'éditions _a priori_ (le Musée de la civilisation ou la CCNQ), ou avec des fiches incomplètes (Q16684371 qui correspond aux Éditions Alto).\n",
    "\n",
    "Si on s'intéresse aux éditions publiées par des entités de Québec (ici, on ne spécifie pas qu'on cherche des maisons d'édition, parce qu'on part des éditions, donc on assume qu'elles sont publiées par des maisons):"
   ]
  },
  {
   "cell_type": "code",
   "execution_count": 20,
   "metadata": {},
   "outputs": [
    {
     "data": {
      "text/html": [
       "<div class=\"krn-spql\"><table><tr class=hdr><th>edition</th>\n",
       "<th>editionLabel</th>\n",
       "<th>publisher</th>\n",
       "<th>publisherLabel</th></tr><tr class=odd><td class=val><a href=\"http://www.wikidata.org/entity/Q63615887\" target=\"_other\">http://www.wikidata.org/entity/Q63615887</a></td>\n",
       "<td class=val>Dialogue avec l'histoire : les collections de la Bibliothèque de l'Université Laval</td>\n",
       "<td class=val><a href=\"http://www.wikidata.org/entity/Q3402572\" target=\"_other\">http://www.wikidata.org/entity/Q3402572</a></td>\n",
       "<td class=val>Presses de l'Université Laval</td></tr><tr class=even><td class=val><a href=\"http://www.wikidata.org/entity/Q56816764\" target=\"_other\">http://www.wikidata.org/entity/Q56816764</a></td>\n",
       "<td class=val>Le registre de Sillery (1638-1690)</td>\n",
       "<td class=val><a href=\"http://www.wikidata.org/entity/Q3402573\" target=\"_other\">http://www.wikidata.org/entity/Q3402573</a></td>\n",
       "<td class=val>Presses de l'Université du Québec</td></tr><tr class=odd><td class=val><a href=\"http://www.wikidata.org/entity/Q29018702\" target=\"_other\">http://www.wikidata.org/entity/Q29018702</a></td>\n",
       "<td class=val>Le Traité de Paris de 1763 en bref</td>\n",
       "<td class=val><a href=\"http://www.wikidata.org/entity/Q3579664\" target=\"_other\">http://www.wikidata.org/entity/Q3579664</a></td>\n",
       "<td class=val>Éditions du Septentrion</td></tr><tr class=even><td class=val><a href=\"http://www.wikidata.org/entity/Q58849509\" target=\"_other\">http://www.wikidata.org/entity/Q58849509</a></td>\n",
       "<td class=val>Le registre de Sillery</td>\n",
       "<td class=val><a href=\"http://www.wikidata.org/entity/Q3402573\" target=\"_other\">http://www.wikidata.org/entity/Q3402573</a></td>\n",
       "<td class=val>Presses de l'Université du Québec</td></tr><tr class=odd><td class=val><a href=\"http://www.wikidata.org/entity/Q63373321\" target=\"_other\">http://www.wikidata.org/entity/Q63373321</a></td>\n",
       "<td class=val>Bibliothèque de l'Université Laval : 165 ans d'histoire : 1852-2017</td>\n",
       "<td class=val><a href=\"http://www.wikidata.org/entity/Q3402572\" target=\"_other\">http://www.wikidata.org/entity/Q3402572</a></td>\n",
       "<td class=val>Presses de l'Université Laval</td></tr><tr class=even><td class=val><a href=\"http://www.wikidata.org/entity/Q51513444\" target=\"_other\">http://www.wikidata.org/entity/Q51513444</a></td>\n",
       "<td class=val>Les oisseaux insectivores</td>\n",
       "<td class=val><a href=\"http://www.wikidata.org/entity/Q40882270\" target=\"_other\">http://www.wikidata.org/entity/Q40882270</a></td>\n",
       "<td class=val>Dussault &amp; Proulx</td></tr><tr class=odd><td class=val><a href=\"http://www.wikidata.org/entity/Q40881798\" target=\"_other\">http://www.wikidata.org/entity/Q40881798</a></td>\n",
       "<td class=val>Allumez vos lampes, s’il vous plaît !!!</td>\n",
       "<td class=val><a href=\"http://www.wikidata.org/entity/Q40882270\" target=\"_other\">http://www.wikidata.org/entity/Q40882270</a></td>\n",
       "<td class=val>Dussault &amp; Proulx</td></tr><tr class=even><td class=val><a href=\"http://www.wikidata.org/entity/Q98073693\" target=\"_other\">http://www.wikidata.org/entity/Q98073693</a></td>\n",
       "<td class=val>Le Palais Montcalm : 75 ans d'émotions</td>\n",
       "<td class=val><a href=\"http://www.wikidata.org/entity/Q2986483\" target=\"_other\">http://www.wikidata.org/entity/Q2986483</a></td>\n",
       "<td class=val>Commission de la capitale nationale du Québec</td></tr><tr class=odd><td class=val><a href=\"http://www.wikidata.org/entity/Q98073693\" target=\"_other\">http://www.wikidata.org/entity/Q98073693</a></td>\n",
       "<td class=val>Le Palais Montcalm : 75 ans d'émotions</td>\n",
       "<td class=val><a href=\"http://www.wikidata.org/entity/Q98073919\" target=\"_other\">http://www.wikidata.org/entity/Q98073919</a></td>\n",
       "<td class=val>Société du Palais Montcalm</td></tr><tr class=even><td class=val><a href=\"http://www.wikidata.org/entity/Q51502553\" target=\"_other\">http://www.wikidata.org/entity/Q51502553</a></td>\n",
       "<td class=val>Les mauvaises herbes dans la province de Québec et différents moyens de les détruire</td>\n",
       "<td class=val><a href=\"http://www.wikidata.org/entity/Q40882270\" target=\"_other\">http://www.wikidata.org/entity/Q40882270</a></td>\n",
       "<td class=val>Dussault &amp; Proulx</td></tr><tr class=odd><td class=val><a href=\"http://www.wikidata.org/entity/Q54165640\" target=\"_other\">http://www.wikidata.org/entity/Q54165640</a></td>\n",
       "<td class=val>Q54165640</td>\n",
       "<td class=val><a href=\"http://www.wikidata.org/entity/Q3579394\" target=\"_other\">http://www.wikidata.org/entity/Q3579394</a></td>\n",
       "<td class=val>Le Dauphin blanc</td></tr><tr class=even><td class=val><a href=\"http://www.wikidata.org/entity/Q58341258\" target=\"_other\">http://www.wikidata.org/entity/Q58341258</a></td>\n",
       "<td class=val>Statistiques sociales</td>\n",
       "<td class=val><a href=\"http://www.wikidata.org/entity/Q3402572\" target=\"_other\">http://www.wikidata.org/entity/Q3402572</a></td>\n",
       "<td class=val>Presses de l'Université Laval</td></tr><tr class=odd><td class=val><a href=\"http://www.wikidata.org/entity/Q77009625\" target=\"_other\">http://www.wikidata.org/entity/Q77009625</a></td>\n",
       "<td class=val>Dictionnaire des artistes de langue française en Amérique du Nord</td>\n",
       "<td class=val><a href=\"http://www.wikidata.org/entity/Q2338135\" target=\"_other\">http://www.wikidata.org/entity/Q2338135</a></td>\n",
       "<td class=val>Musée national des beaux-arts du Québec</td></tr><tr class=even><td class=val><a href=\"http://www.wikidata.org/entity/Q78880939\" target=\"_other\">http://www.wikidata.org/entity/Q78880939</a></td>\n",
       "<td class=val>Q78880939</td>\n",
       "<td class=val><a href=\"http://www.wikidata.org/entity/Q3402573\" target=\"_other\">http://www.wikidata.org/entity/Q3402573</a></td>\n",
       "<td class=val>Presses de l'Université du Québec</td></tr><tr class=odd><td class=val><a href=\"http://www.wikidata.org/entity/Q52182553\" target=\"_other\">http://www.wikidata.org/entity/Q52182553</a></td>\n",
       "<td class=val>Q52182553</td>\n",
       "<td class=val><a href=\"http://www.wikidata.org/entity/Q3402572\" target=\"_other\">http://www.wikidata.org/entity/Q3402572</a></td>\n",
       "<td class=val>Presses de l'Université Laval</td></tr><tr class=even><td class=val><a href=\"http://www.wikidata.org/entity/Q91949031\" target=\"_other\">http://www.wikidata.org/entity/Q91949031</a></td>\n",
       "<td class=val>Q91949031</td>\n",
       "<td class=val><a href=\"http://www.wikidata.org/entity/Q40882270\" target=\"_other\">http://www.wikidata.org/entity/Q40882270</a></td>\n",
       "<td class=val>Dussault &amp; Proulx</td></tr><tr class=odd><td class=val><a href=\"http://www.wikidata.org/entity/Q77009625\" target=\"_other\">http://www.wikidata.org/entity/Q77009625</a></td>\n",
       "<td class=val>Dictionnaire des artistes de langue française en Amérique du Nord</td>\n",
       "<td class=val><a href=\"http://www.wikidata.org/entity/Q3402572\" target=\"_other\">http://www.wikidata.org/entity/Q3402572</a></td>\n",
       "<td class=val>Presses de l'Université Laval</td></tr><tr class=even><td class=val><a href=\"http://www.wikidata.org/entity/Q51513428\" target=\"_other\">http://www.wikidata.org/entity/Q51513428</a></td>\n",
       "<td class=val>Les oiseaux de la province de Québec</td>\n",
       "<td class=val><a href=\"http://www.wikidata.org/entity/Q40882270\" target=\"_other\">http://www.wikidata.org/entity/Q40882270</a></td>\n",
       "<td class=val>Dussault &amp; Proulx</td></tr><tr class=odd><td class=val><a href=\"http://www.wikidata.org/entity/Q51468513\" target=\"_other\">http://www.wikidata.org/entity/Q51468513</a></td>\n",
       "<td class=val>L'élevage du cheval en Canada</td>\n",
       "<td class=val><a href=\"http://www.wikidata.org/entity/Q40882270\" target=\"_other\">http://www.wikidata.org/entity/Q40882270</a></td>\n",
       "<td class=val>Dussault &amp; Proulx</td></tr></table><div class=\"tinfo\">Total: 19, Shown: 19</div></div>"
      ]
     },
     "metadata": {},
     "output_type": "display_data"
    }
   ],
   "source": [
    "SELECT distinct ?edition ?editionLabel ?publisher ?publisherLabel\n",
    "WHERE\n",
    "{\n",
    "    ?edition (wdt:P31/wdt:P279*) wd:Q3331189 .\n",
    "    ?edition wdt:P123 ?publisher .\n",
    "    ?publisher (wdt:P159*/wdt:P131*) wd:Q2145 .\n",
    "    SERVICE wikibase:label { bd:serviceParam wikibase:language \"[AUTO_LANGUAGE],en\". }\n",
    "}"
   ]
  },
  {
   "cell_type": "markdown",
   "metadata": {},
   "source": [
    "## Exploration sur les auteurs\n",
    "\n",
    "Premier test: on cherces des auteurs qui ont étudié à Québec.\n",
    "\n",
    "(TODO: raffiner le wdt:P131...)"
   ]
  },
  {
   "cell_type": "code",
   "execution_count": 10,
   "metadata": {},
   "outputs": [
    {
     "data": {
      "text/html": [
       "<div class=\"krn-spql\"><table><tr class=hdr><th>writer</th>\n",
       "<th>writerLabel</th></tr><tr class=odd><td class=val><a href=\"http://www.wikidata.org/entity/Q3292627\" target=\"_other\">http://www.wikidata.org/entity/Q3292627</a></td>\n",
       "<td class=val>Marie Laberge</td></tr><tr class=even><td class=val><a href=\"http://www.wikidata.org/entity/Q3507296\" target=\"_other\">http://www.wikidata.org/entity/Q3507296</a></td>\n",
       "<td class=val>Sylvie Bérard</td></tr><tr class=odd><td class=val><a href=\"http://www.wikidata.org/entity/Q3573499\" target=\"_other\">http://www.wikidata.org/entity/Q3573499</a></td>\n",
       "<td class=val>Yves Boisvert</td></tr><tr class=even><td class=val><a href=\"http://www.wikidata.org/entity/Q3161239\" target=\"_other\">http://www.wikidata.org/entity/Q3161239</a></td>\n",
       "<td class=val>James MacPherson Le Moine</td></tr><tr class=odd><td class=val><a href=\"http://www.wikidata.org/entity/Q3506003\" target=\"_other\">http://www.wikidata.org/entity/Q3506003</a></td>\n",
       "<td class=val>Suzanne Martel</td></tr><tr class=even><td class=val><a href=\"http://www.wikidata.org/entity/Q98940310\" target=\"_other\">http://www.wikidata.org/entity/Q98940310</a></td>\n",
       "<td class=val>Stanislas-Alfred Lortie</td></tr><tr class=odd><td class=val><a href=\"http://www.wikidata.org/entity/Q98940390\" target=\"_other\">http://www.wikidata.org/entity/Q98940390</a></td>\n",
       "<td class=val>Félix-Emmanuel Juneau</td></tr><tr class=even><td class=val><a href=\"http://www.wikidata.org/entity/Q1029261\" target=\"_other\">http://www.wikidata.org/entity/Q1029261</a></td>\n",
       "<td class=val>Camille Roy</td></tr><tr class=odd><td class=val><a href=\"http://www.wikidata.org/entity/Q100450299\" target=\"_other\">http://www.wikidata.org/entity/Q100450299</a></td>\n",
       "<td class=val>Louise Allaire</td></tr><tr class=even><td class=val><a href=\"http://www.wikidata.org/entity/Q100450679\" target=\"_other\">http://www.wikidata.org/entity/Q100450679</a></td>\n",
       "<td class=val>Edith Patenaude</td></tr><tr class=odd><td class=val><a href=\"http://www.wikidata.org/entity/Q3081238\" target=\"_other\">http://www.wikidata.org/entity/Q3081238</a></td>\n",
       "<td class=val>Francine Ruel</td></tr><tr class=even><td class=val><a href=\"http://www.wikidata.org/entity/Q3292400\" target=\"_other\">http://www.wikidata.org/entity/Q3292400</a></td>\n",
       "<td class=val>Marie Brassard</td></tr><tr class=odd><td class=val><a href=\"http://www.wikidata.org/entity/Q2849828\" target=\"_other\">http://www.wikidata.org/entity/Q2849828</a></td>\n",
       "<td class=val>Angèle Delaunois</td></tr><tr class=even><td class=val><a href=\"http://www.wikidata.org/entity/Q3086924\" target=\"_other\">http://www.wikidata.org/entity/Q3086924</a></td>\n",
       "<td class=val>Fred Pellerin</td></tr><tr class=odd><td class=val><a href=\"http://www.wikidata.org/entity/Q2848529\" target=\"_other\">http://www.wikidata.org/entity/Q2848529</a></td>\n",
       "<td class=val>André Ricard</td></tr><tr class=even><td class=val><a href=\"http://www.wikidata.org/entity/Q3291644\" target=\"_other\">http://www.wikidata.org/entity/Q3291644</a></td>\n",
       "<td class=val>Marie-Christine Lê-Huu</td></tr><tr class=odd><td class=val><a href=\"http://www.wikidata.org/entity/Q43955794\" target=\"_other\">http://www.wikidata.org/entity/Q43955794</a></td>\n",
       "<td class=val>Richard Ste-Marie</td></tr><tr class=even><td class=val><a href=\"http://www.wikidata.org/entity/Q60674669\" target=\"_other\">http://www.wikidata.org/entity/Q60674669</a></td>\n",
       "<td class=val>Louis Jacob</td></tr><tr class=odd><td class=val><a href=\"http://www.wikidata.org/entity/Q15996886\" target=\"_other\">http://www.wikidata.org/entity/Q15996886</a></td>\n",
       "<td class=val>Frank Carrel</td></tr><tr class=even><td class=val><a href=\"http://www.wikidata.org/entity/Q56000809\" target=\"_other\">http://www.wikidata.org/entity/Q56000809</a></td>\n",
       "<td class=val>Marie-Andrée Beaudet</td></tr></table><div class=\"tinfo\">Total: 24, Shown: 20</div></div>"
      ]
     },
     "metadata": {},
     "output_type": "display_data"
    }
   ],
   "source": [
    "SELECT distinct ?writer ?writerLabel\n",
    "WHERE\n",
    "{\n",
    "  {?writer wdt:P106 wd:Q36180 .} UNION { ?writer wdt:P106 wd:Q482980 . } UNION { ?writer wdt:P106 wd:Q49757 . }\n",
    "  ?writer wdt:P69 ?school .\n",
    "  ?school wdt:P131 wd:Q2145\n",
    "  SERVICE wikibase:label { bd:serviceParam wikibase:language \"[AUTO_LANGUAGE],en\". }\n",
    "}\n"
   ]
  }
 ],
 "metadata": {
  "kernelspec": {
   "display_name": "SPARQL",
   "language": "sparql",
   "name": "sparql"
  },
  "language_info": {
   "codemirror_mode": {
    "name": "sparql"
   },
   "mimetype": "application/sparql-query",
   "name": "sparql",
   "pygments_lexer": "sparql-nb"
  }
 },
 "nbformat": 4,
 "nbformat_minor": 2
}
