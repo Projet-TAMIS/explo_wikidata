{
 "cells": [
  {
   "cell_type": "markdown",
   "metadata": {},
   "source": [
    "# Ville de Québec, Wikidata et livres: une exploration"
   ]
  },
  {
   "cell_type": "markdown",
   "metadata": {},
   "source": [
    "## À propos\n",
    "\n",
    "Ce carnet de note s'inscrit dans les recherches du projet [TAMIS](https://tamis.ca/) pour explorer la présence littéraire de la ville de Québec dans Wikidata. Plus de détails au sujet de cette démarche seront publiées sur le carnet de TAMIS."
   ]
  },
  {
   "cell_type": "markdown",
   "metadata": {},
   "source": [
    "## Notes techniques\n",
    "\n",
    "### Qu'est-ce que c'est?\n",
    "\n",
    "Ce document est un carnet Jupyter Notebook configuré pour faire des requêtes SPARQL en s'inspirant directement des [explications de Bob DuCharme](http://www.bobdc.com/blog/jupytersparql/). Les requêtes sont réalisées directement sur le «endpoint» SPAQL de Wikidata:"
   ]
  },
  {
   "cell_type": "code",
   "execution_count": 2,
   "metadata": {},
   "outputs": [
    {
     "data": {
      "text/html": [
       "<div class=\"krn-spql\"><div class=\"magic\">Endpoint set to: https://query.wikidata.org/bigdata/namespace/wdq/sparql</div><div class=\"magic\">Request format: ANY</div><div class=\"magic\">Display: table</div></div>"
      ],
      "text/plain": [
       "Endpoint set to: https://query.wikidata.org/bigdata/namespace/wdq/sparql\n",
       "Request format: ANY\n",
       "Display: table\n"
      ]
     },
     "metadata": {},
     "output_type": "display_data"
    }
   ],
   "source": [
    "%endpoint https://query.wikidata.org/bigdata/namespace/wdq/sparql\n",
    "%format any\n",
    "%display table"
   ]
  },
  {
   "cell_type": "markdown",
   "metadata": {},
   "source": [
    "### Références\n",
    "\n",
    "On s'attend à ce que les livres en général soient présents dans Wikidata en respectant les recommandations du projet livres ([anglais](https://www.wikidata.org/wiki/Wikidata:WikiProject_Books), [français](https://www.wikidata.org/wiki/Wikidata:WikiProject_Books/fr)).\n",
    "\n",
    "Je note au passage quelques numéros d'entités qui seront utilisées fréquemment dans les requêtes qui suivront."
   ]
  },
  {
   "cell_type": "markdown",
   "metadata": {},
   "source": [
    "* Livre: Q571\n",
    "* Version, édition ou traduction: Q3331189\n",
    "* Maison d'éditon: Q2085381\n",
    "* Oeuvre écrite (Q47461344) [note: selon le projet Wikidata Livres, les oeuvres devraient être de ce type, ou d'une de ses sous-classes, comme oeuvre littéraire Q7725634]\n",
    "* Écrivain: Q36180\n",
    "* Auteur: Q482980\n",
    "* Poète: Q49757\n",
    "* Ville de Québec: Q2145\n",
    "* Quelques villes références: Montréal Q340; Paris Q90; New-York City Q60\n",
    "* Quelques villes créatives de l'UNESCO en littérature: Angoulème Q134346, Barcelone Q1492, Dublin Q1761, Milan Q490, Seattle Q5083"
   ]
  },
  {
   "cell_type": "markdown",
   "metadata": {},
   "source": [
    "Je note également quelques propriétés utiles."
   ]
  },
  {
   "cell_type": "markdown",
   "metadata": {},
   "source": [
    "* lieu (P276) (endroit où se situe l'objet, la structure ou l'événement. Dans le cas d'une entité administrative utiliser P131. Dans le cas d'une entité géographique utiliser P706.)\n",
    "* localisation administrative (P131)\n",
    "* localisation géographique (P706)\n",
    "* sous-classe de (P279)\n",
    "* nature de l'élément (P31)\n",
    "* siège (P159)\n",
    "* éditeur (P123)\n",
    "* scolarité (P69)\n",
    "* lieu de naissance (P19)"
   ]
  },
  {
   "cell_type": "markdown",
   "metadata": {},
   "source": [
    "## Exploration sur les maisons d'édition\n",
    "\n",
    "### De Québec\n",
    "\n",
    "On veut avoir la liste des maisons d'édition de Québec présentes sur Wikidata (à noter l'utilisation de P159 et de P131... P159 devrait suffire, mais on trouve plus de résultats en utilisant aussi P131)."
   ]
  },
  {
   "cell_type": "code",
   "execution_count": 3,
   "metadata": {},
   "outputs": [
    {
     "data": {
      "text/html": [
       "<div class=\"krn-spql\"><table><tr class=hdr><th>publisher</th>\n",
       "<th>publisherLabel</th></tr><tr class=odd><td class=val><a href=\"http://www.wikidata.org/entity/Q3402573\" target=\"_other\">http://www.wikidata.org/entity/Q3402573</a></td>\n",
       "<td class=val>Presses de l'Université du Québec</td></tr><tr class=even><td class=val><a href=\"http://www.wikidata.org/entity/Q1067935\" target=\"_other\">http://www.wikidata.org/entity/Q1067935</a></td>\n",
       "<td class=val>Université Laval</td></tr><tr class=odd><td class=val><a href=\"http://www.wikidata.org/entity/Q16684371\" target=\"_other\">http://www.wikidata.org/entity/Q16684371</a></td>\n",
       "<td class=val>Q16684371</td></tr><tr class=even><td class=val><a href=\"http://www.wikidata.org/entity/Q2986483\" target=\"_other\">http://www.wikidata.org/entity/Q2986483</a></td>\n",
       "<td class=val>Commission de la capitale nationale du Québec</td></tr><tr class=odd><td class=val><a href=\"http://www.wikidata.org/entity/Q97044787\" target=\"_other\">http://www.wikidata.org/entity/Q97044787</a></td>\n",
       "<td class=val>The Chronicle-Telegraph Pub. Co.</td></tr><tr class=even><td class=val><a href=\"http://www.wikidata.org/entity/Q95623497\" target=\"_other\">http://www.wikidata.org/entity/Q95623497</a></td>\n",
       "<td class=val>Librairie Garneau</td></tr><tr class=odd><td class=val><a href=\"http://www.wikidata.org/entity/Q3579664\" target=\"_other\">http://www.wikidata.org/entity/Q3579664</a></td>\n",
       "<td class=val>Éditions du Septentrion</td></tr><tr class=even><td class=val><a href=\"http://www.wikidata.org/entity/Q3579394\" target=\"_other\">http://www.wikidata.org/entity/Q3579394</a></td>\n",
       "<td class=val>Le Dauphin blanc</td></tr><tr class=odd><td class=val><a href=\"http://www.wikidata.org/entity/Q40882270\" target=\"_other\">http://www.wikidata.org/entity/Q40882270</a></td>\n",
       "<td class=val>Dussault &amp; Proulx</td></tr><tr class=even><td class=val><a href=\"http://www.wikidata.org/entity/Q2338135\" target=\"_other\">http://www.wikidata.org/entity/Q2338135</a></td>\n",
       "<td class=val>Musée national des beaux-arts du Québec</td></tr><tr class=odd><td class=val><a href=\"http://www.wikidata.org/entity/Q3402572\" target=\"_other\">http://www.wikidata.org/entity/Q3402572</a></td>\n",
       "<td class=val>Presses de l'Université Laval</td></tr><tr class=even><td class=val><a href=\"http://www.wikidata.org/entity/Q16506987\" target=\"_other\">http://www.wikidata.org/entity/Q16506987</a></td>\n",
       "<td class=val>Bibliothèque de l'Université Laval</td></tr><tr class=odd><td class=val><a href=\"http://www.wikidata.org/entity/Q326282\" target=\"_other\">http://www.wikidata.org/entity/Q326282</a></td>\n",
       "<td class=val>Université du Québec</td></tr><tr class=even><td class=val><a href=\"http://www.wikidata.org/entity/Q1705530\" target=\"_other\">http://www.wikidata.org/entity/Q1705530</a></td>\n",
       "<td class=val>Musée de la civilisation</td></tr></table><div class=\"tinfo\">Total: 14, Shown: 14</div></div>"
      ]
     },
     "metadata": {},
     "output_type": "display_data"
    }
   ],
   "source": [
    "SELECT distinct ?publisher ?publisherLabel\n",
    "WHERE\n",
    "{\n",
    "    ?publisher (wdt:P31/wdt:P279*) wd:Q2085381 .\n",
    "    ?publisher (wdt:P159*|wdt:P131*) wd:Q2145 .\n",
    "    SERVICE wikibase:label { bd:serviceParam wikibase:language \"[AUTO_LANGUAGE],fr,en\". }\n",
    "}"
   ]
  },
  {
   "cell_type": "markdown",
   "metadata": {},
   "source": [
    "Je note la présence d'organisations disparues (Dussault & Proulx), d'organisations qu'on n'aurait pas identifiées comme maisons d'éditions _a priori_ (le Musée de la civilisation ou la CCNQ), ou d'organisations avec des fiches incomplètes (Q16684371 qui correspond aux Éditions Alto).\n",
    "\n",
    "Si on s'intéresse aux éditions publiées par des entités de Québec (ici, on ne spécifie pas qu'on cherche des maisons d'édition, parce qu'on part des éditions, donc on assume qu'elles sont publiées par des maisons):"
   ]
  },
  {
   "cell_type": "code",
   "execution_count": 20,
   "metadata": {},
   "outputs": [
    {
     "data": {
      "text/html": [
       "<div class=\"krn-spql\"><table><tr class=hdr><th>edition</th>\n",
       "<th>editionLabel</th>\n",
       "<th>publisher</th>\n",
       "<th>publisherLabel</th></tr><tr class=odd><td class=val><a href=\"http://www.wikidata.org/entity/Q63615887\" target=\"_other\">http://www.wikidata.org/entity/Q63615887</a></td>\n",
       "<td class=val>Dialogue avec l'histoire : les collections de la Bibliothèque de l'Université Laval</td>\n",
       "<td class=val><a href=\"http://www.wikidata.org/entity/Q3402572\" target=\"_other\">http://www.wikidata.org/entity/Q3402572</a></td>\n",
       "<td class=val>Presses de l'Université Laval</td></tr><tr class=even><td class=val><a href=\"http://www.wikidata.org/entity/Q56816764\" target=\"_other\">http://www.wikidata.org/entity/Q56816764</a></td>\n",
       "<td class=val>Le registre de Sillery (1638-1690)</td>\n",
       "<td class=val><a href=\"http://www.wikidata.org/entity/Q3402573\" target=\"_other\">http://www.wikidata.org/entity/Q3402573</a></td>\n",
       "<td class=val>Presses de l'Université du Québec</td></tr><tr class=odd><td class=val><a href=\"http://www.wikidata.org/entity/Q29018702\" target=\"_other\">http://www.wikidata.org/entity/Q29018702</a></td>\n",
       "<td class=val>Le Traité de Paris de 1763 en bref</td>\n",
       "<td class=val><a href=\"http://www.wikidata.org/entity/Q3579664\" target=\"_other\">http://www.wikidata.org/entity/Q3579664</a></td>\n",
       "<td class=val>Éditions du Septentrion</td></tr><tr class=even><td class=val><a href=\"http://www.wikidata.org/entity/Q58849509\" target=\"_other\">http://www.wikidata.org/entity/Q58849509</a></td>\n",
       "<td class=val>Le registre de Sillery</td>\n",
       "<td class=val><a href=\"http://www.wikidata.org/entity/Q3402573\" target=\"_other\">http://www.wikidata.org/entity/Q3402573</a></td>\n",
       "<td class=val>Presses de l'Université du Québec</td></tr><tr class=odd><td class=val><a href=\"http://www.wikidata.org/entity/Q63373321\" target=\"_other\">http://www.wikidata.org/entity/Q63373321</a></td>\n",
       "<td class=val>Bibliothèque de l'Université Laval : 165 ans d'histoire : 1852-2017</td>\n",
       "<td class=val><a href=\"http://www.wikidata.org/entity/Q3402572\" target=\"_other\">http://www.wikidata.org/entity/Q3402572</a></td>\n",
       "<td class=val>Presses de l'Université Laval</td></tr><tr class=even><td class=val><a href=\"http://www.wikidata.org/entity/Q51513444\" target=\"_other\">http://www.wikidata.org/entity/Q51513444</a></td>\n",
       "<td class=val>Les oisseaux insectivores</td>\n",
       "<td class=val><a href=\"http://www.wikidata.org/entity/Q40882270\" target=\"_other\">http://www.wikidata.org/entity/Q40882270</a></td>\n",
       "<td class=val>Dussault &amp; Proulx</td></tr><tr class=odd><td class=val><a href=\"http://www.wikidata.org/entity/Q40881798\" target=\"_other\">http://www.wikidata.org/entity/Q40881798</a></td>\n",
       "<td class=val>Allumez vos lampes, s’il vous plaît !!!</td>\n",
       "<td class=val><a href=\"http://www.wikidata.org/entity/Q40882270\" target=\"_other\">http://www.wikidata.org/entity/Q40882270</a></td>\n",
       "<td class=val>Dussault &amp; Proulx</td></tr><tr class=even><td class=val><a href=\"http://www.wikidata.org/entity/Q98073693\" target=\"_other\">http://www.wikidata.org/entity/Q98073693</a></td>\n",
       "<td class=val>Le Palais Montcalm : 75 ans d'émotions</td>\n",
       "<td class=val><a href=\"http://www.wikidata.org/entity/Q2986483\" target=\"_other\">http://www.wikidata.org/entity/Q2986483</a></td>\n",
       "<td class=val>Commission de la capitale nationale du Québec</td></tr><tr class=odd><td class=val><a href=\"http://www.wikidata.org/entity/Q98073693\" target=\"_other\">http://www.wikidata.org/entity/Q98073693</a></td>\n",
       "<td class=val>Le Palais Montcalm : 75 ans d'émotions</td>\n",
       "<td class=val><a href=\"http://www.wikidata.org/entity/Q98073919\" target=\"_other\">http://www.wikidata.org/entity/Q98073919</a></td>\n",
       "<td class=val>Société du Palais Montcalm</td></tr><tr class=even><td class=val><a href=\"http://www.wikidata.org/entity/Q51502553\" target=\"_other\">http://www.wikidata.org/entity/Q51502553</a></td>\n",
       "<td class=val>Les mauvaises herbes dans la province de Québec et différents moyens de les détruire</td>\n",
       "<td class=val><a href=\"http://www.wikidata.org/entity/Q40882270\" target=\"_other\">http://www.wikidata.org/entity/Q40882270</a></td>\n",
       "<td class=val>Dussault &amp; Proulx</td></tr><tr class=odd><td class=val><a href=\"http://www.wikidata.org/entity/Q54165640\" target=\"_other\">http://www.wikidata.org/entity/Q54165640</a></td>\n",
       "<td class=val>Q54165640</td>\n",
       "<td class=val><a href=\"http://www.wikidata.org/entity/Q3579394\" target=\"_other\">http://www.wikidata.org/entity/Q3579394</a></td>\n",
       "<td class=val>Le Dauphin blanc</td></tr><tr class=even><td class=val><a href=\"http://www.wikidata.org/entity/Q58341258\" target=\"_other\">http://www.wikidata.org/entity/Q58341258</a></td>\n",
       "<td class=val>Statistiques sociales</td>\n",
       "<td class=val><a href=\"http://www.wikidata.org/entity/Q3402572\" target=\"_other\">http://www.wikidata.org/entity/Q3402572</a></td>\n",
       "<td class=val>Presses de l'Université Laval</td></tr><tr class=odd><td class=val><a href=\"http://www.wikidata.org/entity/Q77009625\" target=\"_other\">http://www.wikidata.org/entity/Q77009625</a></td>\n",
       "<td class=val>Dictionnaire des artistes de langue française en Amérique du Nord</td>\n",
       "<td class=val><a href=\"http://www.wikidata.org/entity/Q2338135\" target=\"_other\">http://www.wikidata.org/entity/Q2338135</a></td>\n",
       "<td class=val>Musée national des beaux-arts du Québec</td></tr><tr class=even><td class=val><a href=\"http://www.wikidata.org/entity/Q78880939\" target=\"_other\">http://www.wikidata.org/entity/Q78880939</a></td>\n",
       "<td class=val>Q78880939</td>\n",
       "<td class=val><a href=\"http://www.wikidata.org/entity/Q3402573\" target=\"_other\">http://www.wikidata.org/entity/Q3402573</a></td>\n",
       "<td class=val>Presses de l'Université du Québec</td></tr><tr class=odd><td class=val><a href=\"http://www.wikidata.org/entity/Q52182553\" target=\"_other\">http://www.wikidata.org/entity/Q52182553</a></td>\n",
       "<td class=val>Q52182553</td>\n",
       "<td class=val><a href=\"http://www.wikidata.org/entity/Q3402572\" target=\"_other\">http://www.wikidata.org/entity/Q3402572</a></td>\n",
       "<td class=val>Presses de l'Université Laval</td></tr><tr class=even><td class=val><a href=\"http://www.wikidata.org/entity/Q91949031\" target=\"_other\">http://www.wikidata.org/entity/Q91949031</a></td>\n",
       "<td class=val>Q91949031</td>\n",
       "<td class=val><a href=\"http://www.wikidata.org/entity/Q40882270\" target=\"_other\">http://www.wikidata.org/entity/Q40882270</a></td>\n",
       "<td class=val>Dussault &amp; Proulx</td></tr><tr class=odd><td class=val><a href=\"http://www.wikidata.org/entity/Q77009625\" target=\"_other\">http://www.wikidata.org/entity/Q77009625</a></td>\n",
       "<td class=val>Dictionnaire des artistes de langue française en Amérique du Nord</td>\n",
       "<td class=val><a href=\"http://www.wikidata.org/entity/Q3402572\" target=\"_other\">http://www.wikidata.org/entity/Q3402572</a></td>\n",
       "<td class=val>Presses de l'Université Laval</td></tr><tr class=even><td class=val><a href=\"http://www.wikidata.org/entity/Q51513428\" target=\"_other\">http://www.wikidata.org/entity/Q51513428</a></td>\n",
       "<td class=val>Les oiseaux de la province de Québec</td>\n",
       "<td class=val><a href=\"http://www.wikidata.org/entity/Q40882270\" target=\"_other\">http://www.wikidata.org/entity/Q40882270</a></td>\n",
       "<td class=val>Dussault &amp; Proulx</td></tr><tr class=odd><td class=val><a href=\"http://www.wikidata.org/entity/Q51468513\" target=\"_other\">http://www.wikidata.org/entity/Q51468513</a></td>\n",
       "<td class=val>L'élevage du cheval en Canada</td>\n",
       "<td class=val><a href=\"http://www.wikidata.org/entity/Q40882270\" target=\"_other\">http://www.wikidata.org/entity/Q40882270</a></td>\n",
       "<td class=val>Dussault &amp; Proulx</td></tr></table><div class=\"tinfo\">Total: 19, Shown: 19</div></div>"
      ]
     },
     "metadata": {},
     "output_type": "display_data"
    }
   ],
   "source": [
    "SELECT distinct ?edition ?editionLabel ?publisher ?publisherLabel\n",
    "WHERE\n",
    "{\n",
    "    ?edition (wdt:P31/wdt:P279*) wd:Q3331189 .\n",
    "    ?edition wdt:P123 ?publisher .\n",
    "    ?publisher (wdt:P159*/wdt:P131*) wd:Q2145 .\n",
    "    SERVICE wikibase:label { bd:serviceParam wikibase:language \"[AUTO_LANGUAGE],fr,en\". }\n",
    "}"
   ]
  },
  {
   "cell_type": "markdown",
   "metadata": {},
   "source": [
    "### D'autres villes\n",
    "\n",
    "Pour se donner des points de repère, on veut comparer avec les autres villes créatives l'UNESCO en littérature, et nos villes de référence."
   ]
  },
  {
   "cell_type": "code",
   "execution_count": 6,
   "metadata": {},
   "outputs": [
    {
     "data": {
      "text/html": [
       "<div class=\"krn-spql\"><table><tr class=hdr><th>publisher</th>\n",
       "<th>publisherLabel</th>\n",
       "<th>city</th>\n",
       "<th>cityLabel</th></tr><tr class=odd><td class=val><a href=\"http://www.wikidata.org/entity/Q633812\" target=\"_other\">http://www.wikidata.org/entity/Q633812</a></td>\n",
       "<td class=val>Archie Comics</td>\n",
       "<td class=val><a href=\"http://www.wikidata.org/entity/Q60\" target=\"_other\">http://www.wikidata.org/entity/Q60</a></td>\n",
       "<td class=val>New York City</td></tr><tr class=even><td class=val><a href=\"http://www.wikidata.org/entity/Q2068658\" target=\"_other\">http://www.wikidata.org/entity/Q2068658</a></td>\n",
       "<td class=val>505 Games</td>\n",
       "<td class=val><a href=\"http://www.wikidata.org/entity/Q490\" target=\"_other\">http://www.wikidata.org/entity/Q490</a></td>\n",
       "<td class=val>Milan</td></tr><tr class=odd><td class=val><a href=\"http://www.wikidata.org/entity/Q380568\" target=\"_other\">http://www.wikidata.org/entity/Q380568</a></td>\n",
       "<td class=val>Feltrinelli</td>\n",
       "<td class=val><a href=\"http://www.wikidata.org/entity/Q490\" target=\"_other\">http://www.wikidata.org/entity/Q490</a></td>\n",
       "<td class=val>Milan</td></tr><tr class=even><td class=val><a href=\"http://www.wikidata.org/entity/Q64814857\" target=\"_other\">http://www.wikidata.org/entity/Q64814857</a></td>\n",
       "<td class=val>Voodoo</td>\n",
       "<td class=val><a href=\"http://www.wikidata.org/entity/Q90\" target=\"_other\">http://www.wikidata.org/entity/Q90</a></td>\n",
       "<td class=val>Paris</td></tr><tr class=odd><td class=val><a href=\"http://www.wikidata.org/entity/Q77369313\" target=\"_other\">http://www.wikidata.org/entity/Q77369313</a></td>\n",
       "<td class=val>Stumbling Cat</td>\n",
       "<td class=val><a href=\"http://www.wikidata.org/entity/Q5083\" target=\"_other\">http://www.wikidata.org/entity/Q5083</a></td>\n",
       "<td class=val>Seattle</td></tr><tr class=even><td class=val><a href=\"http://www.wikidata.org/entity/Q3579355\" target=\"_other\">http://www.wikidata.org/entity/Q3579355</a></td>\n",
       "<td class=val>Hurtubise</td>\n",
       "<td class=val><a href=\"http://www.wikidata.org/entity/Q340\" target=\"_other\">http://www.wikidata.org/entity/Q340</a></td>\n",
       "<td class=val>Montreal</td></tr><tr class=odd><td class=val><a href=\"http://www.wikidata.org/entity/Q2075464\" target=\"_other\">http://www.wikidata.org/entity/Q2075464</a></td>\n",
       "<td class=val>Dell Publishing</td>\n",
       "<td class=val><a href=\"http://www.wikidata.org/entity/Q60\" target=\"_other\">http://www.wikidata.org/entity/Q60</a></td>\n",
       "<td class=val>New York City</td></tr><tr class=even><td class=val><a href=\"http://www.wikidata.org/entity/Q8965148\" target=\"_other\">http://www.wikidata.org/entity/Q8965148</a></td>\n",
       "<td class=val>Grup 62</td>\n",
       "<td class=val><a href=\"http://www.wikidata.org/entity/Q1492\" target=\"_other\">http://www.wikidata.org/entity/Q1492</a></td>\n",
       "<td class=val>Barcelona</td></tr><tr class=odd><td class=val><a href=\"http://www.wikidata.org/entity/Q23301680\" target=\"_other\">http://www.wikidata.org/entity/Q23301680</a></td>\n",
       "<td class=val>Kitfox Games</td>\n",
       "<td class=val><a href=\"http://www.wikidata.org/entity/Q340\" target=\"_other\">http://www.wikidata.org/entity/Q340</a></td>\n",
       "<td class=val>Montreal</td></tr><tr class=even><td class=val><a href=\"http://www.wikidata.org/entity/Q273835\" target=\"_other\">http://www.wikidata.org/entity/Q273835</a></td>\n",
       "<td class=val>Éditions Larousse</td>\n",
       "<td class=val><a href=\"http://www.wikidata.org/entity/Q90\" target=\"_other\">http://www.wikidata.org/entity/Q90</a></td>\n",
       "<td class=val>Paris</td></tr><tr class=odd><td class=val><a href=\"http://www.wikidata.org/entity/Q2080179\" target=\"_other\">http://www.wikidata.org/entity/Q2080179</a></td>\n",
       "<td class=val>Columbia University Press</td>\n",
       "<td class=val><a href=\"http://www.wikidata.org/entity/Q60\" target=\"_other\">http://www.wikidata.org/entity/Q60</a></td>\n",
       "<td class=val>New York City</td></tr><tr class=even><td class=val><a href=\"http://www.wikidata.org/entity/Q79449727\" target=\"_other\">http://www.wikidata.org/entity/Q79449727</a></td>\n",
       "<td class=val>Éditions de Trévise</td>\n",
       "<td class=val><a href=\"http://www.wikidata.org/entity/Q90\" target=\"_other\">http://www.wikidata.org/entity/Q90</a></td>\n",
       "<td class=val>Paris</td></tr><tr class=odd><td class=val><a href=\"http://www.wikidata.org/entity/Q2874472\" target=\"_other\">http://www.wikidata.org/entity/Q2874472</a></td>\n",
       "<td class=val>Avon</td>\n",
       "<td class=val><a href=\"http://www.wikidata.org/entity/Q60\" target=\"_other\">http://www.wikidata.org/entity/Q60</a></td>\n",
       "<td class=val>New York City</td></tr><tr class=even><td class=val><a href=\"http://www.wikidata.org/entity/Q6801272\" target=\"_other\">http://www.wikidata.org/entity/Q6801272</a></td>\n",
       "<td class=val>McGill-Queen's University Press</td>\n",
       "<td class=val><a href=\"http://www.wikidata.org/entity/Q340\" target=\"_other\">http://www.wikidata.org/entity/Q340</a></td>\n",
       "<td class=val>Montreal</td></tr><tr class=odd><td class=val><a href=\"http://www.wikidata.org/entity/Q60616868\" target=\"_other\">http://www.wikidata.org/entity/Q60616868</a></td>\n",
       "<td class=val>The Family Collective</td>\n",
       "<td class=val><a href=\"http://www.wikidata.org/entity/Q60\" target=\"_other\">http://www.wikidata.org/entity/Q60</a></td>\n",
       "<td class=val>New York City</td></tr><tr class=even><td class=val><a href=\"http://www.wikidata.org/entity/Q355301\" target=\"_other\">http://www.wikidata.org/entity/Q355301</a></td>\n",
       "<td class=val>Adelphi Edizioni</td>\n",
       "<td class=val><a href=\"http://www.wikidata.org/entity/Q490\" target=\"_other\">http://www.wikidata.org/entity/Q490</a></td>\n",
       "<td class=val>Milan</td></tr><tr class=odd><td class=val><a href=\"http://www.wikidata.org/entity/Q1225116\" target=\"_other\">http://www.wikidata.org/entity/Q1225116</a></td>\n",
       "<td class=val>Les Belles Lettres</td>\n",
       "<td class=val><a href=\"http://www.wikidata.org/entity/Q90\" target=\"_other\">http://www.wikidata.org/entity/Q90</a></td>\n",
       "<td class=val>Paris</td></tr><tr class=even><td class=val><a href=\"http://www.wikidata.org/entity/Q684254\" target=\"_other\">http://www.wikidata.org/entity/Q684254</a></td>\n",
       "<td class=val>Drawn &amp; Quarterly</td>\n",
       "<td class=val><a href=\"http://www.wikidata.org/entity/Q340\" target=\"_other\">http://www.wikidata.org/entity/Q340</a></td>\n",
       "<td class=val>Montreal</td></tr><tr class=odd><td class=val><a href=\"http://www.wikidata.org/entity/Q54117155\" target=\"_other\">http://www.wikidata.org/entity/Q54117155</a></td>\n",
       "<td class=val>Adage Games</td>\n",
       "<td class=val><a href=\"http://www.wikidata.org/entity/Q340\" target=\"_other\">http://www.wikidata.org/entity/Q340</a></td>\n",
       "<td class=val>Montreal</td></tr><tr class=even><td class=val><a href=\"http://www.wikidata.org/entity/Q1892146\" target=\"_other\">http://www.wikidata.org/entity/Q1892146</a></td>\n",
       "<td class=val>Presses Universitaires de France</td>\n",
       "<td class=val><a href=\"http://www.wikidata.org/entity/Q90\" target=\"_other\">http://www.wikidata.org/entity/Q90</a></td>\n",
       "<td class=val>Paris</td></tr></table><div class=\"tinfo\">Total: 1033, Shown: 20</div></div>"
      ]
     },
     "metadata": {},
     "output_type": "display_data"
    }
   ],
   "source": [
    "SELECT distinct ?publisher ?publisherLabel ?city ?cityLabel\n",
    "WHERE\n",
    "{\n",
    "    VALUES ?city { wd:Q2145 wd:Q134346 wd:Q1492 wd:Q1761 wd:Q490 wd:Q5083 wd:Q340 wd:Q90 wd:Q60 }\n",
    "    ?publisher (wdt:P31/wdt:P279*) wd:Q2085381 .\n",
    "    ?publisher (wdt:P159*|wdt:P131*) ?city .\n",
    "    SERVICE wikibase:label { bd:serviceParam wikibase:language \"[AUTO_LANGUAGE],fr,en\". }\n",
    "}"
   ]
  },
  {
   "cell_type": "markdown",
   "metadata": {},
   "source": [
    "Avec 1033 maisons d'édition dans les 9 villes échantillonnées, on a une moyenne de 114 maisons par ville (8 fois plus qu'à Québec). Si on veut faire le décompte par ville:"
   ]
  },
  {
   "cell_type": "code",
   "execution_count": 8,
   "metadata": {},
   "outputs": [
    {
     "data": {
      "text/html": [
       "<div class=\"krn-spql\"><table><tr class=hdr><th>cityLabel</th>\n",
       "<th>pubCount</th></tr><tr class=odd><td class=val>Québec</td>\n",
       "<td class=val>14</td></tr><tr class=even><td class=val>Barcelone</td>\n",
       "<td class=val>136</td></tr><tr class=odd><td class=val>Seattle</td>\n",
       "<td class=val>22</td></tr><tr class=even><td class=val>Milan</td>\n",
       "<td class=val>162</td></tr><tr class=odd><td class=val>Montréal</td>\n",
       "<td class=val>46</td></tr><tr class=even><td class=val>Paris</td>\n",
       "<td class=val>369</td></tr><tr class=odd><td class=val>New York</td>\n",
       "<td class=val>265</td></tr><tr class=even><td class=val>Dublin</td>\n",
       "<td class=val>18</td></tr><tr class=odd><td class=val>Angoulême</td>\n",
       "<td class=val>1</td></tr></table><div class=\"tinfo\">Total: 9, Shown: 9</div></div>"
      ]
     },
     "metadata": {},
     "output_type": "display_data"
    }
   ],
   "source": [
    "SELECT ?cityLabel (count(distinct ?publisher) as ?pubCount)\n",
    "WHERE\n",
    "{\n",
    "    VALUES ?city { wd:Q2145 wd:Q134346 wd:Q1492 wd:Q1761 wd:Q490 wd:Q5083 wd:Q340 wd:Q90 wd:Q60 }\n",
    "    ?publisher (wdt:P31/wdt:P279*) wd:Q2085381 .\n",
    "    ?publisher (wdt:P159*|wdt:P131*) ?city .\n",
    "    SERVICE wikibase:label { bd:serviceParam wikibase:language \"[AUTO_LANGUAGE],fr,en\". }\n",
    "}\n",
    "GROUP BY ?cityLabel"
   ]
  },
  {
   "cell_type": "markdown",
   "metadata": {},
   "source": [
    "Évidemment, ces données reflètent _les maisons d'édition dont la fiche Wikidata mentionne la ville_, dans la propriété P159 ou P131."
   ]
  },
  {
   "cell_type": "markdown",
   "metadata": {},
   "source": [
    "## Exploration sur les auteurs\n",
    "\n",
    "### De Québec\n",
    "\n",
    "Les exemples de Wikidata suggèrent de chercher des instances d'écrivain, d'auteurs ou de poètes pour trouver des auteurs de façon générale. Je tente d'abord de trouver des auteurs qui ont une relation _directe_ (sans passer par d'autres entités), peu importe le type, avec Québec:"
   ]
  },
  {
   "cell_type": "code",
   "execution_count": 11,
   "metadata": {},
   "outputs": [
    {
     "data": {
      "text/html": [
       "<div class=\"krn-spql\"><table><tr class=hdr><th>writer</th>\n",
       "<th>writerLabel</th>\n",
       "<th>relation</th>\n",
       "<th>relationLabel</th></tr><tr class=odd><td class=val><a href=\"http://www.wikidata.org/entity/Q2836600\" target=\"_other\">http://www.wikidata.org/entity/Q2836600</a></td>\n",
       "<td class=val>Alice Lemieux-Lévesque</td>\n",
       "<td class=val><a href=\"http://www.wikidata.org/entity/P19\" target=\"_other\">http://www.wikidata.org/entity/P19</a></td>\n",
       "<td class=val>lieu de naissance</td></tr><tr class=even><td class=val><a href=\"http://www.wikidata.org/entity/Q3092329\" target=\"_other\">http://www.wikidata.org/entity/Q3092329</a></td>\n",
       "<td class=val>Félix-Antoine Savard</td>\n",
       "<td class=val><a href=\"http://www.wikidata.org/entity/P19\" target=\"_other\">http://www.wikidata.org/entity/P19</a></td>\n",
       "<td class=val>lieu de naissance</td></tr><tr class=odd><td class=val><a href=\"http://www.wikidata.org/entity/Q660646\" target=\"_other\">http://www.wikidata.org/entity/Q660646</a></td>\n",
       "<td class=val>Pierre-Joseph-Olivier Chauveau</td>\n",
       "<td class=val><a href=\"http://www.wikidata.org/entity/P20\" target=\"_other\">http://www.wikidata.org/entity/P20</a></td>\n",
       "<td class=val>lieu de mort</td></tr><tr class=even><td class=val><a href=\"http://www.wikidata.org/entity/Q6141049\" target=\"_other\">http://www.wikidata.org/entity/Q6141049</a></td>\n",
       "<td class=val>James Pattison Cockburn</td>\n",
       "<td class=val><a href=\"http://www.wikidata.org/entity/P937\" target=\"_other\">http://www.wikidata.org/entity/P937</a></td>\n",
       "<td class=val>lieu de travail</td></tr><tr class=odd><td class=val><a href=\"http://www.wikidata.org/entity/Q3275641\" target=\"_other\">http://www.wikidata.org/entity/Q3275641</a></td>\n",
       "<td class=val>Madeleine Ferron</td>\n",
       "<td class=val><a href=\"http://www.wikidata.org/entity/P20\" target=\"_other\">http://www.wikidata.org/entity/P20</a></td>\n",
       "<td class=val>lieu de mort</td></tr><tr class=even><td class=val><a href=\"http://www.wikidata.org/entity/Q3320823\" target=\"_other\">http://www.wikidata.org/entity/Q3320823</a></td>\n",
       "<td class=val>Monique Corriveau</td>\n",
       "<td class=val><a href=\"http://www.wikidata.org/entity/P20\" target=\"_other\">http://www.wikidata.org/entity/P20</a></td>\n",
       "<td class=val>lieu de mort</td></tr><tr class=odd><td class=val><a href=\"http://www.wikidata.org/entity/Q2967448\" target=\"_other\">http://www.wikidata.org/entity/Q2967448</a></td>\n",
       "<td class=val>Chrystine Brouillet</td>\n",
       "<td class=val><a href=\"http://www.wikidata.org/entity/P19\" target=\"_other\">http://www.wikidata.org/entity/P19</a></td>\n",
       "<td class=val>lieu de naissance</td></tr><tr class=even><td class=val><a href=\"http://www.wikidata.org/entity/Q2834952\" target=\"_other\">http://www.wikidata.org/entity/Q2834952</a></td>\n",
       "<td class=val>Alfred Bailey</td>\n",
       "<td class=val><a href=\"http://www.wikidata.org/entity/P19\" target=\"_other\">http://www.wikidata.org/entity/P19</a></td>\n",
       "<td class=val>lieu de naissance</td></tr><tr class=odd><td class=val><a href=\"http://www.wikidata.org/entity/Q2425095\" target=\"_other\">http://www.wikidata.org/entity/Q2425095</a></td>\n",
       "<td class=val>Philippe Sylvain</td>\n",
       "<td class=val><a href=\"http://www.wikidata.org/entity/P20\" target=\"_other\">http://www.wikidata.org/entity/P20</a></td>\n",
       "<td class=val>lieu de mort</td></tr><tr class=even><td class=val><a href=\"http://www.wikidata.org/entity/Q3100343\" target=\"_other\">http://www.wikidata.org/entity/Q3100343</a></td>\n",
       "<td class=val>Roland-Michel Tremblay</td>\n",
       "<td class=val><a href=\"http://www.wikidata.org/entity/P19\" target=\"_other\">http://www.wikidata.org/entity/P19</a></td>\n",
       "<td class=val>lieu de naissance</td></tr><tr class=odd><td class=val><a href=\"http://www.wikidata.org/entity/Q3058987\" target=\"_other\">http://www.wikidata.org/entity/Q3058987</a></td>\n",
       "<td class=val>Esther Rochon</td>\n",
       "<td class=val><a href=\"http://www.wikidata.org/entity/P19\" target=\"_other\">http://www.wikidata.org/entity/P19</a></td>\n",
       "<td class=val>lieu de naissance</td></tr><tr class=even><td class=val><a href=\"http://www.wikidata.org/entity/Q3103738\" target=\"_other\">http://www.wikidata.org/entity/Q3103738</a></td>\n",
       "<td class=val>Georgette Lacroix</td>\n",
       "<td class=val><a href=\"http://www.wikidata.org/entity/P19\" target=\"_other\">http://www.wikidata.org/entity/P19</a></td>\n",
       "<td class=val>lieu de naissance</td></tr><tr class=odd><td class=val><a href=\"http://www.wikidata.org/entity/Q3158713\" target=\"_other\">http://www.wikidata.org/entity/Q3158713</a></td>\n",
       "<td class=val>Jacques Desautels</td>\n",
       "<td class=val><a href=\"http://www.wikidata.org/entity/P20\" target=\"_other\">http://www.wikidata.org/entity/P20</a></td>\n",
       "<td class=val>lieu de mort</td></tr><tr class=even><td class=val><a href=\"http://www.wikidata.org/entity/Q3184265\" target=\"_other\">http://www.wikidata.org/entity/Q3184265</a></td>\n",
       "<td class=val>Joseph-François Perrault</td>\n",
       "<td class=val><a href=\"http://www.wikidata.org/entity/P19\" target=\"_other\">http://www.wikidata.org/entity/P19</a></td>\n",
       "<td class=val>lieu de naissance</td></tr><tr class=odd><td class=val><a href=\"http://www.wikidata.org/entity/Q3336057\" target=\"_other\">http://www.wikidata.org/entity/Q3336057</a></td>\n",
       "<td class=val>Narcisse-Henri-Édouard Faucher de Saint-Maurice</td>\n",
       "<td class=val><a href=\"http://www.wikidata.org/entity/P20\" target=\"_other\">http://www.wikidata.org/entity/P20</a></td>\n",
       "<td class=val>lieu de mort</td></tr><tr class=even><td class=val><a href=\"http://www.wikidata.org/entity/Q3188043\" target=\"_other\">http://www.wikidata.org/entity/Q3188043</a></td>\n",
       "<td class=val>Judy Quinn</td>\n",
       "<td class=val><a href=\"http://www.wikidata.org/entity/P19\" target=\"_other\">http://www.wikidata.org/entity/P19</a></td>\n",
       "<td class=val>lieu de naissance</td></tr><tr class=odd><td class=val><a href=\"http://www.wikidata.org/entity/Q3189273\" target=\"_other\">http://www.wikidata.org/entity/Q3189273</a></td>\n",
       "<td class=val>Julie Stanton</td>\n",
       "<td class=val><a href=\"http://www.wikidata.org/entity/P19\" target=\"_other\">http://www.wikidata.org/entity/P19</a></td>\n",
       "<td class=val>lieu de naissance</td></tr><tr class=even><td class=val><a href=\"http://www.wikidata.org/entity/Q3169374\" target=\"_other\">http://www.wikidata.org/entity/Q3169374</a></td>\n",
       "<td class=val>Jean-Pierre Guay</td>\n",
       "<td class=val><a href=\"http://www.wikidata.org/entity/P20\" target=\"_other\">http://www.wikidata.org/entity/P20</a></td>\n",
       "<td class=val>lieu de mort</td></tr><tr class=odd><td class=val><a href=\"http://www.wikidata.org/entity/Q3291644\" target=\"_other\">http://www.wikidata.org/entity/Q3291644</a></td>\n",
       "<td class=val>Marie-Christine Lê-Huu</td>\n",
       "<td class=val><a href=\"http://www.wikidata.org/entity/P19\" target=\"_other\">http://www.wikidata.org/entity/P19</a></td>\n",
       "<td class=val>lieu de naissance</td></tr><tr class=even><td class=val><a href=\"http://www.wikidata.org/entity/Q2958277\" target=\"_other\">http://www.wikidata.org/entity/Q2958277</a></td>\n",
       "<td class=val>Charles Baillairgé</td>\n",
       "<td class=val><a href=\"http://www.wikidata.org/entity/P20\" target=\"_other\">http://www.wikidata.org/entity/P20</a></td>\n",
       "<td class=val>lieu de mort</td></tr></table><div class=\"tinfo\">Total: 209, Shown: 20</div></div>"
      ]
     },
     "metadata": {},
     "output_type": "display_data"
    }
   ],
   "source": [
    "SELECT distinct ?writer ?writerLabel ?relation ?relationLabel\n",
    "WHERE\n",
    "{\n",
    "  {?writer wdt:P106 wd:Q36180 .} UNION { ?writer wdt:P106 wd:Q482980 . } UNION { ?writer wdt:P106 wd:Q49757 . }\n",
    "  ?writer ?rel wd:Q2145\n",
    "  SERVICE wikibase:label { bd:serviceParam wikibase:language \"[AUTO_LANGUAGE],fr,en\". }\n",
    "  ?relation wikibase:directClaim ?rel .\n",
    "}"
   ]
  },
  {
   "cell_type": "markdown",
   "metadata": {},
   "source": [
    "On trouve 209 références.\n",
    "\n",
    "### D'autres villes\n",
    "\n",
    "Refaisons l'exercice avec nos villes exemples pour comparer:"
   ]
  },
  {
   "cell_type": "code",
   "execution_count": 14,
   "metadata": {},
   "outputs": [
    {
     "data": {
      "text/html": [
       "<div class=\"krn-spql\"><table><tr class=hdr><th>writer</th>\n",
       "<th>writerLabel</th>\n",
       "<th>relation</th>\n",
       "<th>relationLabel</th>\n",
       "<th>city</th>\n",
       "<th>cityLabel</th></tr><tr class=odd><td class=val><a href=\"http://www.wikidata.org/entity/Q253513\" target=\"_other\">http://www.wikidata.org/entity/Q253513</a></td>\n",
       "<td class=val>Ally Sheedy</td>\n",
       "<td class=val><a href=\"http://www.wikidata.org/entity/P19\" target=\"_other\">http://www.wikidata.org/entity/P19</a></td>\n",
       "<td class=val>lieu de naissance</td>\n",
       "<td class=val><a href=\"http://www.wikidata.org/entity/Q60\" target=\"_other\">http://www.wikidata.org/entity/Q60</a></td>\n",
       "<td class=val>New York</td></tr><tr class=even><td class=val><a href=\"http://www.wikidata.org/entity/Q435135\" target=\"_other\">http://www.wikidata.org/entity/Q435135</a></td>\n",
       "<td class=val>Mary Rodgers</td>\n",
       "<td class=val><a href=\"http://www.wikidata.org/entity/P19\" target=\"_other\">http://www.wikidata.org/entity/P19</a></td>\n",
       "<td class=val>lieu de naissance</td>\n",
       "<td class=val><a href=\"http://www.wikidata.org/entity/Q60\" target=\"_other\">http://www.wikidata.org/entity/Q60</a></td>\n",
       "<td class=val>New York</td></tr><tr class=odd><td class=val><a href=\"http://www.wikidata.org/entity/Q120432\" target=\"_other\">http://www.wikidata.org/entity/Q120432</a></td>\n",
       "<td class=val>Jane Bowles</td>\n",
       "<td class=val><a href=\"http://www.wikidata.org/entity/P19\" target=\"_other\">http://www.wikidata.org/entity/P19</a></td>\n",
       "<td class=val>lieu de naissance</td>\n",
       "<td class=val><a href=\"http://www.wikidata.org/entity/Q60\" target=\"_other\">http://www.wikidata.org/entity/Q60</a></td>\n",
       "<td class=val>New York</td></tr><tr class=even><td class=val><a href=\"http://www.wikidata.org/entity/Q113105\" target=\"_other\">http://www.wikidata.org/entity/Q113105</a></td>\n",
       "<td class=val>James Gleick</td>\n",
       "<td class=val><a href=\"http://www.wikidata.org/entity/P19\" target=\"_other\">http://www.wikidata.org/entity/P19</a></td>\n",
       "<td class=val>lieu de naissance</td>\n",
       "<td class=val><a href=\"http://www.wikidata.org/entity/Q60\" target=\"_other\">http://www.wikidata.org/entity/Q60</a></td>\n",
       "<td class=val>New York</td></tr><tr class=odd><td class=val><a href=\"http://www.wikidata.org/entity/Q47899\" target=\"_other\">http://www.wikidata.org/entity/Q47899</a></td>\n",
       "<td class=val>Paris Hilton</td>\n",
       "<td class=val><a href=\"http://www.wikidata.org/entity/P19\" target=\"_other\">http://www.wikidata.org/entity/P19</a></td>\n",
       "<td class=val>lieu de naissance</td>\n",
       "<td class=val><a href=\"http://www.wikidata.org/entity/Q60\" target=\"_other\">http://www.wikidata.org/entity/Q60</a></td>\n",
       "<td class=val>New York</td></tr><tr class=even><td class=val><a href=\"http://www.wikidata.org/entity/Q438164\" target=\"_other\">http://www.wikidata.org/entity/Q438164</a></td>\n",
       "<td class=val>Samuel R. Delany</td>\n",
       "<td class=val><a href=\"http://www.wikidata.org/entity/P19\" target=\"_other\">http://www.wikidata.org/entity/P19</a></td>\n",
       "<td class=val>lieu de naissance</td>\n",
       "<td class=val><a href=\"http://www.wikidata.org/entity/Q60\" target=\"_other\">http://www.wikidata.org/entity/Q60</a></td>\n",
       "<td class=val>New York</td></tr><tr class=odd><td class=val><a href=\"http://www.wikidata.org/entity/Q240959\" target=\"_other\">http://www.wikidata.org/entity/Q240959</a></td>\n",
       "<td class=val>Emma Lazarus</td>\n",
       "<td class=val><a href=\"http://www.wikidata.org/entity/P19\" target=\"_other\">http://www.wikidata.org/entity/P19</a></td>\n",
       "<td class=val>lieu de naissance</td>\n",
       "<td class=val><a href=\"http://www.wikidata.org/entity/Q60\" target=\"_other\">http://www.wikidata.org/entity/Q60</a></td>\n",
       "<td class=val>New York</td></tr><tr class=even><td class=val><a href=\"http://www.wikidata.org/entity/Q79904\" target=\"_other\">http://www.wikidata.org/entity/Q79904</a></td>\n",
       "<td class=val>J. D. Salinger</td>\n",
       "<td class=val><a href=\"http://www.wikidata.org/entity/P19\" target=\"_other\">http://www.wikidata.org/entity/P19</a></td>\n",
       "<td class=val>lieu de naissance</td>\n",
       "<td class=val><a href=\"http://www.wikidata.org/entity/Q60\" target=\"_other\">http://www.wikidata.org/entity/Q60</a></td>\n",
       "<td class=val>New York</td></tr><tr class=odd><td class=val><a href=\"http://www.wikidata.org/entity/Q108283\" target=\"_other\">http://www.wikidata.org/entity/Q108283</a></td>\n",
       "<td class=val>Alan Arkin</td>\n",
       "<td class=val><a href=\"http://www.wikidata.org/entity/P19\" target=\"_other\">http://www.wikidata.org/entity/P19</a></td>\n",
       "<td class=val>lieu de naissance</td>\n",
       "<td class=val><a href=\"http://www.wikidata.org/entity/Q60\" target=\"_other\">http://www.wikidata.org/entity/Q60</a></td>\n",
       "<td class=val>New York</td></tr><tr class=even><td class=val><a href=\"http://www.wikidata.org/entity/Q465594\" target=\"_other\">http://www.wikidata.org/entity/Q465594</a></td>\n",
       "<td class=val>Joy Davidman</td>\n",
       "<td class=val><a href=\"http://www.wikidata.org/entity/P19\" target=\"_other\">http://www.wikidata.org/entity/P19</a></td>\n",
       "<td class=val>lieu de naissance</td>\n",
       "<td class=val><a href=\"http://www.wikidata.org/entity/Q60\" target=\"_other\">http://www.wikidata.org/entity/Q60</a></td>\n",
       "<td class=val>New York</td></tr><tr class=odd><td class=val><a href=\"http://www.wikidata.org/entity/Q468128\" target=\"_other\">http://www.wikidata.org/entity/Q468128</a></td>\n",
       "<td class=val>Theodore Nicholas Gill</td>\n",
       "<td class=val><a href=\"http://www.wikidata.org/entity/P19\" target=\"_other\">http://www.wikidata.org/entity/P19</a></td>\n",
       "<td class=val>lieu de naissance</td>\n",
       "<td class=val><a href=\"http://www.wikidata.org/entity/Q60\" target=\"_other\">http://www.wikidata.org/entity/Q60</a></td>\n",
       "<td class=val>New York</td></tr><tr class=even><td class=val><a href=\"http://www.wikidata.org/entity/Q149489\" target=\"_other\">http://www.wikidata.org/entity/Q149489</a></td>\n",
       "<td class=val>Jacob M. Appel</td>\n",
       "<td class=val><a href=\"http://www.wikidata.org/entity/P19\" target=\"_other\">http://www.wikidata.org/entity/P19</a></td>\n",
       "<td class=val>lieu de naissance</td>\n",
       "<td class=val><a href=\"http://www.wikidata.org/entity/Q60\" target=\"_other\">http://www.wikidata.org/entity/Q60</a></td>\n",
       "<td class=val>New York</td></tr><tr class=odd><td class=val><a href=\"http://www.wikidata.org/entity/Q236950\" target=\"_other\">http://www.wikidata.org/entity/Q236950</a></td>\n",
       "<td class=val>Erica Jong</td>\n",
       "<td class=val><a href=\"http://www.wikidata.org/entity/P19\" target=\"_other\">http://www.wikidata.org/entity/P19</a></td>\n",
       "<td class=val>lieu de naissance</td>\n",
       "<td class=val><a href=\"http://www.wikidata.org/entity/Q60\" target=\"_other\">http://www.wikidata.org/entity/Q60</a></td>\n",
       "<td class=val>New York</td></tr><tr class=even><td class=val><a href=\"http://www.wikidata.org/entity/Q380784\" target=\"_other\">http://www.wikidata.org/entity/Q380784</a></td>\n",
       "<td class=val>James Siegel</td>\n",
       "<td class=val><a href=\"http://www.wikidata.org/entity/P19\" target=\"_other\">http://www.wikidata.org/entity/P19</a></td>\n",
       "<td class=val>lieu de naissance</td>\n",
       "<td class=val><a href=\"http://www.wikidata.org/entity/Q60\" target=\"_other\">http://www.wikidata.org/entity/Q60</a></td>\n",
       "<td class=val>New York</td></tr><tr class=odd><td class=val><a href=\"http://www.wikidata.org/entity/Q155649\" target=\"_other\">http://www.wikidata.org/entity/Q155649</a></td>\n",
       "<td class=val>Richard Holbrooke</td>\n",
       "<td class=val><a href=\"http://www.wikidata.org/entity/P19\" target=\"_other\">http://www.wikidata.org/entity/P19</a></td>\n",
       "<td class=val>lieu de naissance</td>\n",
       "<td class=val><a href=\"http://www.wikidata.org/entity/Q60\" target=\"_other\">http://www.wikidata.org/entity/Q60</a></td>\n",
       "<td class=val>New York</td></tr><tr class=even><td class=val><a href=\"http://www.wikidata.org/entity/Q433134\" target=\"_other\">http://www.wikidata.org/entity/Q433134</a></td>\n",
       "<td class=val>Judith Lewis Herman</td>\n",
       "<td class=val><a href=\"http://www.wikidata.org/entity/P19\" target=\"_other\">http://www.wikidata.org/entity/P19</a></td>\n",
       "<td class=val>lieu de naissance</td>\n",
       "<td class=val><a href=\"http://www.wikidata.org/entity/Q60\" target=\"_other\">http://www.wikidata.org/entity/Q60</a></td>\n",
       "<td class=val>New York</td></tr><tr class=odd><td class=val><a href=\"http://www.wikidata.org/entity/Q234255\" target=\"_other\">http://www.wikidata.org/entity/Q234255</a></td>\n",
       "<td class=val>Cecily von Ziegesar</td>\n",
       "<td class=val><a href=\"http://www.wikidata.org/entity/P19\" target=\"_other\">http://www.wikidata.org/entity/P19</a></td>\n",
       "<td class=val>lieu de naissance</td>\n",
       "<td class=val><a href=\"http://www.wikidata.org/entity/Q60\" target=\"_other\">http://www.wikidata.org/entity/Q60</a></td>\n",
       "<td class=val>New York</td></tr><tr class=even><td class=val><a href=\"http://www.wikidata.org/entity/Q471337\" target=\"_other\">http://www.wikidata.org/entity/Q471337</a></td>\n",
       "<td class=val>Ed Lacy</td>\n",
       "<td class=val><a href=\"http://www.wikidata.org/entity/P19\" target=\"_other\">http://www.wikidata.org/entity/P19</a></td>\n",
       "<td class=val>lieu de naissance</td>\n",
       "<td class=val><a href=\"http://www.wikidata.org/entity/Q60\" target=\"_other\">http://www.wikidata.org/entity/Q60</a></td>\n",
       "<td class=val>New York</td></tr><tr class=odd><td class=val><a href=\"http://www.wikidata.org/entity/Q444125\" target=\"_other\">http://www.wikidata.org/entity/Q444125</a></td>\n",
       "<td class=val>Diana Barrymore</td>\n",
       "<td class=val><a href=\"http://www.wikidata.org/entity/P19\" target=\"_other\">http://www.wikidata.org/entity/P19</a></td>\n",
       "<td class=val>lieu de naissance</td>\n",
       "<td class=val><a href=\"http://www.wikidata.org/entity/Q60\" target=\"_other\">http://www.wikidata.org/entity/Q60</a></td>\n",
       "<td class=val>New York</td></tr><tr class=even><td class=val><a href=\"http://www.wikidata.org/entity/Q32931\" target=\"_other\">http://www.wikidata.org/entity/Q32931</a></td>\n",
       "<td class=val>Sarah Kay</td>\n",
       "<td class=val><a href=\"http://www.wikidata.org/entity/P19\" target=\"_other\">http://www.wikidata.org/entity/P19</a></td>\n",
       "<td class=val>lieu de naissance</td>\n",
       "<td class=val><a href=\"http://www.wikidata.org/entity/Q60\" target=\"_other\">http://www.wikidata.org/entity/Q60</a></td>\n",
       "<td class=val>New York</td></tr></table><div class=\"tinfo\">Total: 15740, Shown: 20</div></div>"
      ]
     },
     "metadata": {},
     "output_type": "display_data"
    }
   ],
   "source": [
    "SELECT distinct ?writer ?writerLabel ?relation ?relationLabel ?city ?cityLabel\n",
    "WHERE\n",
    "{\n",
    "  VALUES ?city { wd:Q2145 wd:Q134346 wd:Q1492 wd:Q1761 wd:Q490 wd:Q5083 wd:Q340 wd:Q90 wd:Q60 }\n",
    "  {?writer wdt:P106 wd:Q36180 .} UNION { ?writer wdt:P106 wd:Q482980 . } UNION { ?writer wdt:P106 wd:Q49757 . }\n",
    "  ?writer ?rel ?city\n",
    "  SERVICE wikibase:label { bd:serviceParam wikibase:language \"[AUTO_LANGUAGE],fr,en\". }\n",
    "  ?relation wikibase:directClaim ?rel .\n",
    "}"
   ]
  },
  {
   "cell_type": "markdown",
   "metadata": {},
   "source": [
    "Et si on veut un décompte du nombre d'auteurs ayant des relations avec les villes en question, par ville:\n",
    "\n",
    "_(cette requête prend trop de temps à l'exécuter, il n'est pas possible d'obtenir un résultat pour l'instant)_"
   ]
  },
  {
   "cell_type": "code",
   "execution_count": 3,
   "metadata": {},
   "outputs": [
    {
     "data": {
      "text/html": [
       "<div class=\"krn-spql\"><div class=\"krn-error\"><span class=\"title\">Error:</span> SPARQL error: EndPointInternalError: endpoint returned code 500 and response. <br/><br/>Response:<br/>b'SPARQL-QUERY: queryStr=SELECT ?cityLabel (count(distinct ?writer) as ?writerCount)\\nWHERE\\n{\\n  VALUES ?city { wd:Q2145 wd:Q134346 wd:Q1492 wd:Q1761 wd:Q490 wd:Q5083 wd:Q340 wd:Q90 wd:Q60 }\\n  {?writer wdt:P106 wd:Q36180 .} UNION { ?writer wdt:P106 wd:Q482980 . } UNION { ?writer wdt:P106 wd:Q49757 . }\\n  ?writer ?rel ?city\\n  SERVICE wikibase:label { bd:serviceParam wikibase:language &quot;[AUTO_LANGUAGE],fr,en&quot;. }\\n  ?relation wikibase:directClaim ?rel .\\n}\\nGROUP BY ?cityLabel\\njava.util.concurrent.TimeoutException\\n\\tat java.util.concurrent.FutureTask.get(FutureTask.java:205)\\n\\tat com.bigdata.rdf.sail.webapp.BigdataServlet.submitApiTask(BigdataServlet.java:292)\\n\\tat com.bigdata.rdf.sail.webapp.QueryServlet.doSparqlQuery(QueryServlet.java:678)\\n\\tat com.bigdata.rdf.sail.webapp.QueryServlet.doGet(QueryServlet.java:290)\\n\\tat com.bigdata.rdf.sail.webapp.RESTServlet.doGet(RESTServlet.java:240)\\n\\tat com.bigdata.rdf.sail.webapp.MultiTenancyServlet.doGet(MultiTenancyServlet.java:273)\\n\\tat javax.servlet.http.HttpServlet.service(HttpServlet.java:687)\\n\\tat javax.servlet.http.HttpServlet.service(HttpServlet.java:790)\\n\\tat org.eclipse.jetty.servlet.ServletHolder.handle(ServletHolder.java:865)\\n\\tat org.eclipse.jetty.servlet.ServletHandler$CachedChain.doFilter(ServletHandler.java:1655)\\n\\tat org.wikidata.query.rdf.blazegraph.throttling.ThrottlingFilter.doFilter(ThrottlingFilter.java:320)\\n\\tat org.eclipse.jetty.servlet.ServletHandler$CachedChain.doFilter(ServletHandler.java:1642)\\n\\tat org.wikidata.query.rdf.blazegraph.throttling.SystemOverloadFilter.doFilter(SystemOverloadFilter.java:82)\\n\\tat org.eclipse.jetty.servlet.ServletHandler$CachedChain.doFilter(ServletHandler.java:1642)\\n\\tat ch.qos.logback.classic.helpers.MDCInsertingServletFilter.doFilter(MDCInsertingServletFilter.java:49)\\n\\tat org.eclipse.jetty.servlet.ServletHandler$CachedChain.doFilter(ServletHandler.java:1642)\\n\\tat org.wikidata.query.rdf.blazegraph.filters.QueryEventSenderFilter.doFilter(QueryEventSenderFilter.java:117)\\n\\tat org.eclipse.jetty.servlet.ServletHandler$CachedChain.doFilter(ServletHandler.java:1642)\\n\\tat org.wikidata.query.rdf.blazegraph.filters.ClientIPFilter.doFilter(ClientIPFilter.java:43)\\n\\tat org.eclipse.jetty.servlet.ServletHandler$CachedChain.doFilter(ServletHandler.java:1642)\\n\\tat org.wikidata.query.rdf.blazegraph.filters.RealAgentFilter.doFilter(RealAgentFilter.java:33)\\n\\tat org.eclipse.jetty.servlet.ServletHandler$CachedChain.doFilter(ServletHandler.java:1634)\\n\\tat org.eclipse.jetty.servlet.ServletHandler.doHandle(ServletHandler.java:533)\\n\\tat org.eclipse.jetty.server.handler.ScopedHandler.handle(ScopedHandler.java:146)\\n\\tat org.eclipse.jetty.security.SecurityHandler.handle(SecurityHandler.java:548)\\n\\tat org.eclipse.jetty.server.handler.HandlerWrapper.handle(HandlerWrapper.java:132)\\n\\tat org.eclipse.jetty.server.handler.ScopedHandler.nextHandle(ScopedHandler.java:257)\\n\\tat org.eclipse.jetty.server.session.SessionHandler.doHandle(SessionHandler.java:1595)\\n\\tat org.eclipse.jetty.server.handler.ScopedHandler.nextHandle(ScopedHandler.java:255)\\n\\tat org.eclipse.jetty.server.handler.ContextHandler.doHandle(ContextHandler.java:1340)\\n\\tat org.eclipse.jetty.server.handler.ScopedHandler.nextScope(ScopedHandler.java:203)\\n\\tat org.eclipse.jetty.servlet.ServletHandler.doScope(ServletHandler.java:473)\\n\\tat org.eclipse.jetty.server.session.SessionHandler.doScope(SessionHandler.java:1564)\\n\\tat org.eclipse.jetty.server.handler.ScopedHandler.nextScope(ScopedHandler.java:201)\\n\\tat org.eclipse.jetty.server.handler.ContextHandler.doScope(ContextHandler.java:1242)\\n\\tat org.eclipse.jetty.server.handler.ScopedHandler.handle(ScopedHandler.java:144)\\n\\tat org.eclipse.jetty.server.handler.ContextHandlerCollection.handle(ContextHandlerCollection.java:220)\\n\\tat org.eclipse.jetty.server.handler.HandlerCollection.handle(HandlerCollection.java:126)\\n\\tat org.eclipse.jetty.server.handler.HandlerWrapper.handle(HandlerWrapper.java:132)\\n\\tat org.eclipse.jetty.server.Server.handle(Server.java:503)\\n\\tat org.eclipse.jetty.server.HttpChannel.handle(HttpChannel.java:364)\\n\\tat org.eclipse.jetty.server.HttpConnection.onFillable(HttpConnection.java:260)\\n\\tat org.eclipse.jetty.io.AbstractConnection$ReadCallback.succeeded(AbstractConnection.java:305)\\n\\tat org.eclipse.jetty.io.FillInterest.fillable(FillInterest.java:103)\\n\\tat org.eclipse.jetty.io.ChannelEndPoint$2.run(ChannelEndPoint.java:118)\\n\\tat org.eclipse.jetty.util.thread.strategy.EatWhatYouKill.runTask(EatWhatYouKill.java:333)\\n\\tat org.eclipse.jetty.util.thread.strategy.EatWhatYouKill.doProduce(EatWhatYouKill.java:310)\\n\\tat org.eclipse.jetty.util.thread.strategy.EatWhatYouKill.tryProduce(EatWhatYouKill.java:168)\\n\\tat org.eclipse.jetty.util.thread.strategy.EatWhatYouKill.run(EatWhatYouKill.java:126)\\n\\tat org.eclipse.jetty.util.thread.ReservedThreadExecutor$ReservedThread.run(ReservedThreadExecutor.java:366)\\n\\tat org.eclipse.jetty.util.thread.QueuedThreadPool.runJob(QueuedThreadPool.java:765)\\n\\tat org.eclipse.jetty.util.thread.QueuedThreadPool$2.run(QueuedThreadPool.java:683)\\n\\tat java.lang.Thread.run(Thread.java:748)\\n'</div></div>"
      ],
      "text/plain": [
       "Error: SPARQL error: EndPointInternalError: endpoint returned code 500 and response. \n",
       "\n",
       "Response:\n",
       "b'SPARQL-QUERY: queryStr=SELECT ?cityLabel (count(distinct ?writer) as ?writerCount)\\nWHERE\\n{\\n  VALUES ?city { wd:Q2145 wd:Q134346 wd:Q1492 wd:Q1761 wd:Q490 wd:Q5083 wd:Q340 wd:Q90 wd:Q60 }\\n  {?writer wdt:P106 wd:Q36180 .} UNION { ?writer wdt:P106 wd:Q482980 . } UNION { ?writer wdt:P106 wd:Q49757 . }\\n  ?writer ?rel ?city\\n  SERVICE wikibase:label { bd:serviceParam wikibase:language \"[AUTO_LANGUAGE],fr,en\". }\\n  ?relation wikibase:directClaim ?rel .\\n}\\nGROUP BY ?cityLabel\\njava.util.concurrent.TimeoutException\\n\\tat java.util.concurrent.FutureTask.get(FutureTask.java:205)\\n\\tat com.bigdata.rdf.sail.webapp.BigdataServlet.submitApiTask(BigdataServlet.java:292)\\n\\tat com.bigdata.rdf.sail.webapp.QueryServlet.doSparqlQuery(QueryServlet.java:678)\\n\\tat com.bigdata.rdf.sail.webapp.QueryServlet.doGet(QueryServlet.java:290)\\n\\tat com.bigdata.rdf.sail.webapp.RESTServlet.doGet(RESTServlet.java:240)\\n\\tat com.bigdata.rdf.sail.webapp.MultiTenancyServlet.doGet(MultiTenancyServlet.java:273)\\n\\tat javax.servlet.http.HttpServlet.service(HttpServlet.java:687)\\n\\tat javax.servlet.http.HttpServlet.service(HttpServlet.java:790)\\n\\tat org.eclipse.jetty.servlet.ServletHolder.handle(ServletHolder.java:865)\\n\\tat org.eclipse.jetty.servlet.ServletHandler$CachedChain.doFilter(ServletHandler.java:1655)\\n\\tat org.wikidata.query.rdf.blazegraph.throttling.ThrottlingFilter.doFilter(ThrottlingFilter.java:320)\\n\\tat org.eclipse.jetty.servlet.ServletHandler$CachedChain.doFilter(ServletHandler.java:1642)\\n\\tat org.wikidata.query.rdf.blazegraph.throttling.SystemOverloadFilter.doFilter(SystemOverloadFilter.java:82)\\n\\tat org.eclipse.jetty.servlet.ServletHandler$CachedChain.doFilter(ServletHandler.java:1642)\\n\\tat ch.qos.logback.classic.helpers.MDCInsertingServletFilter.doFilter(MDCInsertingServletFilter.java:49)\\n\\tat org.eclipse.jetty.servlet.ServletHandler$CachedChain.doFilter(ServletHandler.java:1642)\\n\\tat org.wikidata.query.rdf.blazegraph.filters.QueryEventSenderFilter.doFilter(QueryEventSenderFilter.java:117)\\n\\tat org.eclipse.jetty.servlet.ServletHandler$CachedChain.doFilter(ServletHandler.java:1642)\\n\\tat org.wikidata.query.rdf.blazegraph.filters.ClientIPFilter.doFilter(ClientIPFilter.java:43)\\n\\tat org.eclipse.jetty.servlet.ServletHandler$CachedChain.doFilter(ServletHandler.java:1642)\\n\\tat org.wikidata.query.rdf.blazegraph.filters.RealAgentFilter.doFilter(RealAgentFilter.java:33)\\n\\tat org.eclipse.jetty.servlet.ServletHandler$CachedChain.doFilter(ServletHandler.java:1634)\\n\\tat org.eclipse.jetty.servlet.ServletHandler.doHandle(ServletHandler.java:533)\\n\\tat org.eclipse.jetty.server.handler.ScopedHandler.handle(ScopedHandler.java:146)\\n\\tat org.eclipse.jetty.security.SecurityHandler.handle(SecurityHandler.java:548)\\n\\tat org.eclipse.jetty.server.handler.HandlerWrapper.handle(HandlerWrapper.java:132)\\n\\tat org.eclipse.jetty.server.handler.ScopedHandler.nextHandle(ScopedHandler.java:257)\\n\\tat org.eclipse.jetty.server.session.SessionHandler.doHandle(SessionHandler.java:1595)\\n\\tat org.eclipse.jetty.server.handler.ScopedHandler.nextHandle(ScopedHandler.java:255)\\n\\tat org.eclipse.jetty.server.handler.ContextHandler.doHandle(ContextHandler.java:1340)\\n\\tat org.eclipse.jetty.server.handler.ScopedHandler.nextScope(ScopedHandler.java:203)\\n\\tat org.eclipse.jetty.servlet.ServletHandler.doScope(ServletHandler.java:473)\\n\\tat org.eclipse.jetty.server.session.SessionHandler.doScope(SessionHandler.java:1564)\\n\\tat org.eclipse.jetty.server.handler.ScopedHandler.nextScope(ScopedHandler.java:201)\\n\\tat org.eclipse.jetty.server.handler.ContextHandler.doScope(ContextHandler.java:1242)\\n\\tat org.eclipse.jetty.server.handler.ScopedHandler.handle(ScopedHandler.java:144)\\n\\tat org.eclipse.jetty.server.handler.ContextHandlerCollection.handle(ContextHandlerCollection.java:220)\\n\\tat org.eclipse.jetty.server.handler.HandlerCollection.handle(HandlerCollection.java:126)\\n\\tat org.eclipse.jetty.server.handler.HandlerWrapper.handle(HandlerWrapper.java:132)\\n\\tat org.eclipse.jetty.server.Server.handle(Server.java:503)\\n\\tat org.eclipse.jetty.server.HttpChannel.handle(HttpChannel.java:364)\\n\\tat org.eclipse.jetty.server.HttpConnection.onFillable(HttpConnection.java:260)\\n\\tat org.eclipse.jetty.io.AbstractConnection$ReadCallback.succeeded(AbstractConnection.java:305)\\n\\tat org.eclipse.jetty.io.FillInterest.fillable(FillInterest.java:103)\\n\\tat org.eclipse.jetty.io.ChannelEndPoint$2.run(ChannelEndPoint.java:118)\\n\\tat org.eclipse.jetty.util.thread.strategy.EatWhatYouKill.runTask(EatWhatYouKill.java:333)\\n\\tat org.eclipse.jetty.util.thread.strategy.EatWhatYouKill.doProduce(EatWhatYouKill.java:310)\\n\\tat org.eclipse.jetty.util.thread.strategy.EatWhatYouKill.tryProduce(EatWhatYouKill.java:168)\\n\\tat org.eclipse.jetty.util.thread.strategy.EatWhatYouKill.run(EatWhatYouKill.java:126)\\n\\tat org.eclipse.jetty.util.thread.ReservedThreadExecutor$ReservedThread.run(ReservedThreadExecutor.java:366)\\n\\tat org.eclipse.jetty.util.thread.QueuedThreadPool.runJob(QueuedThreadPool.java:765)\\n\\tat org.eclipse.jetty.util.thread.QueuedThreadPool$2.run(QueuedThreadPool.java:683)\\n\\tat java.lang.Thread.run(Thread.java:748)\\n'"
      ]
     },
     "metadata": {},
     "output_type": "display_data"
    }
   ],
   "source": [
    "SELECT ?cityLabel (count(distinct ?writer) as ?writerCount)\n",
    "WHERE\n",
    "{\n",
    "  VALUES ?city { wd:Q2145 wd:Q134346 wd:Q1492 wd:Q1761 wd:Q490 wd:Q5083 wd:Q340 wd:Q90 wd:Q60 }\n",
    "  {?writer wdt:P106 wd:Q36180 .} UNION { ?writer wdt:P106 wd:Q482980 . } UNION { ?writer wdt:P106 wd:Q49757 . }\n",
    "  ?writer ?rel ?city\n",
    "  SERVICE wikibase:label { bd:serviceParam wikibase:language \"[AUTO_LANGUAGE],fr,en\". }\n",
    "  ?relation wikibase:directClaim ?rel .\n",
    "}\n",
    "GROUP BY ?cityLabel"
   ]
  },
  {
   "cell_type": "markdown",
   "metadata": {},
   "source": [
    "### Types de relations (toutes villes)\n",
    "\n",
    "Si on veut connaître les types de relations les plus fréquents entre les auteurs et les villes (autant pour Québec que pour les autres villes de notre échantillon)."
   ]
  },
  {
   "cell_type": "code",
   "execution_count": 18,
   "metadata": {},
   "outputs": [
    {
     "data": {
      "text/html": [
       "<div class=\"krn-spql\"><table><tr class=hdr><th>relation</th>\n",
       "<th>writerCount</th></tr><tr class=odd><td class=val><a href=\"http://www.wikidata.org/entity/P69\" target=\"_other\">http://www.wikidata.org/entity/P69</a></td>\n",
       "<td class=val>2</td></tr><tr class=even><td class=val><a href=\"http://www.wikidata.org/entity/P19\" target=\"_other\">http://www.wikidata.org/entity/P19</a></td>\n",
       "<td class=val>7322</td></tr><tr class=odd><td class=val><a href=\"http://www.wikidata.org/entity/P108\" target=\"_other\">http://www.wikidata.org/entity/P108</a></td>\n",
       "<td class=val>2</td></tr><tr class=even><td class=val><a href=\"http://www.wikidata.org/entity/P119\" target=\"_other\">http://www.wikidata.org/entity/P119</a></td>\n",
       "<td class=val>16</td></tr><tr class=odd><td class=val><a href=\"http://www.wikidata.org/entity/P101\" target=\"_other\">http://www.wikidata.org/entity/P101</a></td>\n",
       "<td class=val>1</td></tr><tr class=even><td class=val><a href=\"http://www.wikidata.org/entity/P27\" target=\"_other\">http://www.wikidata.org/entity/P27</a></td>\n",
       "<td class=val>1</td></tr><tr class=odd><td class=val><a href=\"http://www.wikidata.org/entity/P551\" target=\"_other\">http://www.wikidata.org/entity/P551</a></td>\n",
       "<td class=val>711</td></tr><tr class=even><td class=val><a href=\"http://www.wikidata.org/entity/P276\" target=\"_other\">http://www.wikidata.org/entity/P276</a></td>\n",
       "<td class=val>5</td></tr><tr class=odd><td class=val><a href=\"http://www.wikidata.org/entity/P740\" target=\"_other\">http://www.wikidata.org/entity/P740</a></td>\n",
       "<td class=val>3</td></tr><tr class=even><td class=val><a href=\"http://www.wikidata.org/entity/P937\" target=\"_other\">http://www.wikidata.org/entity/P937</a></td>\n",
       "<td class=val>1149</td></tr><tr class=odd><td class=val><a href=\"http://www.wikidata.org/entity/P20\" target=\"_other\">http://www.wikidata.org/entity/P20</a></td>\n",
       "<td class=val>6472</td></tr></table><div class=\"tinfo\">Total: 11, Shown: 11</div></div>"
      ]
     },
     "metadata": {},
     "output_type": "display_data"
    }
   ],
   "source": [
    "SELECT ?relation (count(distinct ?writer) as ?writerCount)\n",
    "WHERE\n",
    "{\n",
    "  VALUES ?city { wd:Q2145 wd:Q134346 wd:Q1492 wd:Q1761 wd:Q490 wd:Q5083 wd:Q340 wd:Q90 wd:Q60 }\n",
    "  {?writer wdt:P106 wd:Q36180 .} UNION { ?writer wdt:P106 wd:Q482980 . } UNION { ?writer wdt:P106 wd:Q49757 . }\n",
    "  ?writer ?rel ?city\n",
    "  SERVICE wikibase:label { bd:serviceParam wikibase:language \"[AUTO_LANGUAGE],fr,en\". }\n",
    "  ?relation wikibase:directClaim ?rel .\n",
    "}\n",
    "GROUP BY ?relation\n"
   ]
  },
  {
   "cell_type": "markdown",
   "metadata": {},
   "source": [
    "Les relations les plus fréquentes sont donc le lieu de naissance (P19), de décès (P20), de résidence (P551) et de travail (P937)."
   ]
  },
  {
   "cell_type": "markdown",
   "metadata": {},
   "source": [
    "La ville de scolarité semble très peu documentée, mais on peut émettre l'hypothèse que si on passe par l'institution d'enseignement, on aura plus de résultats. Par exemple, pour Québec:\n"
   ]
  },
  {
   "cell_type": "code",
   "execution_count": 22,
   "metadata": {},
   "outputs": [
    {
     "data": {
      "text/html": [
       "<div class=\"krn-spql\"><table><tr class=hdr><th>writer</th>\n",
       "<th>writerLabel</th>\n",
       "<th>school</th>\n",
       "<th>schoolLabel</th></tr><tr class=odd><td class=val><a href=\"http://www.wikidata.org/entity/Q2851659\" target=\"_other\">http://www.wikidata.org/entity/Q2851659</a></td>\n",
       "<td class=val>Annie Groovie</td>\n",
       "<td class=val><a href=\"http://www.wikidata.org/entity/Q1067935\" target=\"_other\">http://www.wikidata.org/entity/Q1067935</a></td>\n",
       "<td class=val>Université Laval</td></tr><tr class=even><td class=val><a href=\"http://www.wikidata.org/entity/Q298358\" target=\"_other\">http://www.wikidata.org/entity/Q298358</a></td>\n",
       "<td class=val>Marie-Claire Blais</td>\n",
       "<td class=val><a href=\"http://www.wikidata.org/entity/Q1067935\" target=\"_other\">http://www.wikidata.org/entity/Q1067935</a></td>\n",
       "<td class=val>Université Laval</td></tr><tr class=odd><td class=val><a href=\"http://www.wikidata.org/entity/Q3380487\" target=\"_other\">http://www.wikidata.org/entity/Q3380487</a></td>\n",
       "<td class=val>Philippe Panneton</td>\n",
       "<td class=val><a href=\"http://www.wikidata.org/entity/Q1067935\" target=\"_other\">http://www.wikidata.org/entity/Q1067935</a></td>\n",
       "<td class=val>Université Laval</td></tr><tr class=even><td class=val><a href=\"http://www.wikidata.org/entity/Q3291628\" target=\"_other\">http://www.wikidata.org/entity/Q3291628</a></td>\n",
       "<td class=val>Marie-Christine Bernard</td>\n",
       "<td class=val><a href=\"http://www.wikidata.org/entity/Q1067935\" target=\"_other\">http://www.wikidata.org/entity/Q1067935</a></td>\n",
       "<td class=val>Université Laval</td></tr><tr class=odd><td class=val><a href=\"http://www.wikidata.org/entity/Q3496855\" target=\"_other\">http://www.wikidata.org/entity/Q3496855</a></td>\n",
       "<td class=val>Stanley Péan</td>\n",
       "<td class=val><a href=\"http://www.wikidata.org/entity/Q1067935\" target=\"_other\">http://www.wikidata.org/entity/Q1067935</a></td>\n",
       "<td class=val>Université Laval</td></tr><tr class=even><td class=val><a href=\"http://www.wikidata.org/entity/Q16663531\" target=\"_other\">http://www.wikidata.org/entity/Q16663531</a></td>\n",
       "<td class=val>Martin Blais</td>\n",
       "<td class=val><a href=\"http://www.wikidata.org/entity/Q1067935\" target=\"_other\">http://www.wikidata.org/entity/Q1067935</a></td>\n",
       "<td class=val>Université Laval</td></tr><tr class=odd><td class=val><a href=\"http://www.wikidata.org/entity/Q3301025\" target=\"_other\">http://www.wikidata.org/entity/Q3301025</a></td>\n",
       "<td class=val>Maurice Lebel</td>\n",
       "<td class=val><a href=\"http://www.wikidata.org/entity/Q1067935\" target=\"_other\">http://www.wikidata.org/entity/Q1067935</a></td>\n",
       "<td class=val>Université Laval</td></tr><tr class=even><td class=val><a href=\"http://www.wikidata.org/entity/Q1468786\" target=\"_other\">http://www.wikidata.org/entity/Q1468786</a></td>\n",
       "<td class=val>Nicolas Dickner</td>\n",
       "<td class=val><a href=\"http://www.wikidata.org/entity/Q1067935\" target=\"_other\">http://www.wikidata.org/entity/Q1067935</a></td>\n",
       "<td class=val>Université Laval</td></tr><tr class=odd><td class=val><a href=\"http://www.wikidata.org/entity/Q57084146\" target=\"_other\">http://www.wikidata.org/entity/Q57084146</a></td>\n",
       "<td class=val>Jacques Mathieu</td>\n",
       "<td class=val><a href=\"http://www.wikidata.org/entity/Q1067935\" target=\"_other\">http://www.wikidata.org/entity/Q1067935</a></td>\n",
       "<td class=val>Université Laval</td></tr><tr class=even><td class=val><a href=\"http://www.wikidata.org/entity/Q1150878\" target=\"_other\">http://www.wikidata.org/entity/Q1150878</a></td>\n",
       "<td class=val>Noël Simard</td>\n",
       "<td class=val><a href=\"http://www.wikidata.org/entity/Q1067935\" target=\"_other\">http://www.wikidata.org/entity/Q1067935</a></td>\n",
       "<td class=val>Université Laval</td></tr><tr class=odd><td class=val><a href=\"http://www.wikidata.org/entity/Q3165792\" target=\"_other\">http://www.wikidata.org/entity/Q3165792</a></td>\n",
       "<td class=val>Jean-François Nadeau</td>\n",
       "<td class=val><a href=\"http://www.wikidata.org/entity/Q1067935\" target=\"_other\">http://www.wikidata.org/entity/Q1067935</a></td>\n",
       "<td class=val>Université Laval</td></tr><tr class=even><td class=val><a href=\"http://www.wikidata.org/entity/Q3260781\" target=\"_other\">http://www.wikidata.org/entity/Q3260781</a></td>\n",
       "<td class=val>Louis-Philippe Audet</td>\n",
       "<td class=val><a href=\"http://www.wikidata.org/entity/Q1067935\" target=\"_other\">http://www.wikidata.org/entity/Q1067935</a></td>\n",
       "<td class=val>Université Laval</td></tr><tr class=odd><td class=val><a href=\"http://www.wikidata.org/entity/Q3126438\" target=\"_other\">http://www.wikidata.org/entity/Q3126438</a></td>\n",
       "<td class=val>Hamidou Dia</td>\n",
       "<td class=val><a href=\"http://www.wikidata.org/entity/Q1067935\" target=\"_other\">http://www.wikidata.org/entity/Q1067935</a></td>\n",
       "<td class=val>Université Laval</td></tr><tr class=even><td class=val><a href=\"http://www.wikidata.org/entity/Q58043349\" target=\"_other\">http://www.wikidata.org/entity/Q58043349</a></td>\n",
       "<td class=val>Thérèse Laferrière</td>\n",
       "<td class=val><a href=\"http://www.wikidata.org/entity/Q1067935\" target=\"_other\">http://www.wikidata.org/entity/Q1067935</a></td>\n",
       "<td class=val>Université Laval</td></tr><tr class=odd><td class=val><a href=\"http://www.wikidata.org/entity/Q3375589\" target=\"_other\">http://www.wikidata.org/entity/Q3375589</a></td>\n",
       "<td class=val>Perrine Leblanc</td>\n",
       "<td class=val><a href=\"http://www.wikidata.org/entity/Q1067935\" target=\"_other\">http://www.wikidata.org/entity/Q1067935</a></td>\n",
       "<td class=val>Université Laval</td></tr><tr class=even><td class=val><a href=\"http://www.wikidata.org/entity/Q3262812\" target=\"_other\">http://www.wikidata.org/entity/Q3262812</a></td>\n",
       "<td class=val>Louis O'Neill</td>\n",
       "<td class=val><a href=\"http://www.wikidata.org/entity/Q1067935\" target=\"_other\">http://www.wikidata.org/entity/Q1067935</a></td>\n",
       "<td class=val>Université Laval</td></tr><tr class=odd><td class=val><a href=\"http://www.wikidata.org/entity/Q2872028\" target=\"_other\">http://www.wikidata.org/entity/Q2872028</a></td>\n",
       "<td class=val>Aurélien Boivin</td>\n",
       "<td class=val><a href=\"http://www.wikidata.org/entity/Q1067935\" target=\"_other\">http://www.wikidata.org/entity/Q1067935</a></td>\n",
       "<td class=val>Université Laval</td></tr><tr class=even><td class=val><a href=\"http://www.wikidata.org/entity/Q3426988\" target=\"_other\">http://www.wikidata.org/entity/Q3426988</a></td>\n",
       "<td class=val>René Vézina</td>\n",
       "<td class=val><a href=\"http://www.wikidata.org/entity/Q1067935\" target=\"_other\">http://www.wikidata.org/entity/Q1067935</a></td>\n",
       "<td class=val>Université Laval</td></tr><tr class=odd><td class=val><a href=\"http://www.wikidata.org/entity/Q56857544\" target=\"_other\">http://www.wikidata.org/entity/Q56857544</a></td>\n",
       "<td class=val>Richard Leclerc</td>\n",
       "<td class=val><a href=\"http://www.wikidata.org/entity/Q1067935\" target=\"_other\">http://www.wikidata.org/entity/Q1067935</a></td>\n",
       "<td class=val>Université Laval</td></tr><tr class=even><td class=val><a href=\"http://www.wikidata.org/entity/Q2870697\" target=\"_other\">http://www.wikidata.org/entity/Q2870697</a></td>\n",
       "<td class=val>Aude</td>\n",
       "<td class=val><a href=\"http://www.wikidata.org/entity/Q1067935\" target=\"_other\">http://www.wikidata.org/entity/Q1067935</a></td>\n",
       "<td class=val>Université Laval</td></tr></table><div class=\"tinfo\">Total: 186, Shown: 20</div></div>"
      ]
     },
     "metadata": {},
     "output_type": "display_data"
    }
   ],
   "source": [
    "SELECT distinct ?writer ?writerLabel ?school ?schoolLabel\n",
    "WHERE\n",
    "{\n",
    "  {?writer wdt:P106 wd:Q36180 .} UNION { ?writer wdt:P106 wd:Q482980 . } UNION { ?writer wdt:P106 wd:Q49757 . }\n",
    "  ?writer wdt:P69 ?school .\n",
    "  ?school (wdt:P159*/wdt:P131*) wd:Q2145\n",
    "  SERVICE wikibase:label { bd:serviceParam wikibase:language \"[AUTO_LANGUAGE],fr,en\". }\n",
    "}\n"
   ]
  },
  {
   "cell_type": "markdown",
   "metadata": {},
   "source": [
    "## Exploration sur les livres\n",
    "\n",
    "### De Québec\n",
    "\n",
    "On veut voir les oeuvres écrites et les éditions (en utilisant donc le modèle à deux niveaux proposé par le projet Wikidata Livres) qui ont des liens avec Québec. D'abord pour les oeuvres:"
   ]
  },
  {
   "cell_type": "code",
   "execution_count": 10,
   "metadata": {},
   "outputs": [
    {
     "data": {
      "text/html": [
       "<div class=\"krn-spql\"><div class=\"krn-error\"><span class=\"title\">Error:</span> SPARQL error: EndPointInternalError: endpoint returned code 500 and response. <br/><br/>Response:<br/>b'SPARQL-QUERY: queryStr=SELECT distinct ?work ?workLabel\\nWHERE\\n{\\n    ?work (wdt:P31/wdt:P279*) wd:Q47461344 .\\n    ?work ?relation wd:Q2145 .\\n    SERVICE wikibase:label { bd:serviceParam wikibase:language &quot;[AUTO_LANGUAGE],fr,en&quot;. }\\n}\\njava.util.concurrent.TimeoutException\\n\\tat java.util.concurrent.FutureTask.get(FutureTask.java:205)\\n\\tat com.bigdata.rdf.sail.webapp.BigdataServlet.submitApiTask(BigdataServlet.java:292)\\n\\tat com.bigdata.rdf.sail.webapp.QueryServlet.doSparqlQuery(QueryServlet.java:678)\\n\\tat com.bigdata.rdf.sail.webapp.QueryServlet.doGet(QueryServlet.java:290)\\n\\tat com.bigdata.rdf.sail.webapp.RESTServlet.doGet(RESTServlet.java:240)\\n\\tat com.bigdata.rdf.sail.webapp.MultiTenancyServlet.doGet(MultiTenancyServlet.java:273)\\n\\tat javax.servlet.http.HttpServlet.service(HttpServlet.java:687)\\n\\tat javax.servlet.http.HttpServlet.service(HttpServlet.java:790)\\n\\tat org.eclipse.jetty.servlet.ServletHolder.handle(ServletHolder.java:865)\\n\\tat org.eclipse.jetty.servlet.ServletHandler$CachedChain.doFilter(ServletHandler.java:1655)\\n\\tat org.wikidata.query.rdf.blazegraph.throttling.ThrottlingFilter.doFilter(ThrottlingFilter.java:320)\\n\\tat org.eclipse.jetty.servlet.ServletHandler$CachedChain.doFilter(ServletHandler.java:1642)\\n\\tat org.wikidata.query.rdf.blazegraph.throttling.SystemOverloadFilter.doFilter(SystemOverloadFilter.java:82)\\n\\tat org.eclipse.jetty.servlet.ServletHandler$CachedChain.doFilter(ServletHandler.java:1642)\\n\\tat ch.qos.logback.classic.helpers.MDCInsertingServletFilter.doFilter(MDCInsertingServletFilter.java:49)\\n\\tat org.eclipse.jetty.servlet.ServletHandler$CachedChain.doFilter(ServletHandler.java:1642)\\n\\tat org.wikidata.query.rdf.blazegraph.filters.QueryEventSenderFilter.doFilter(QueryEventSenderFilter.java:117)\\n\\tat org.eclipse.jetty.servlet.ServletHandler$CachedChain.doFilter(ServletHandler.java:1642)\\n\\tat org.wikidata.query.rdf.blazegraph.filters.ClientIPFilter.doFilter(ClientIPFilter.java:43)\\n\\tat org.eclipse.jetty.servlet.ServletHandler$CachedChain.doFilter(ServletHandler.java:1642)\\n\\tat org.wikidata.query.rdf.blazegraph.filters.RealAgentFilter.doFilter(RealAgentFilter.java:33)\\n\\tat org.eclipse.jetty.servlet.ServletHandler$CachedChain.doFilter(ServletHandler.java:1634)\\n\\tat org.eclipse.jetty.servlet.ServletHandler.doHandle(ServletHandler.java:533)\\n\\tat org.eclipse.jetty.server.handler.ScopedHandler.handle(ScopedHandler.java:146)\\n\\tat org.eclipse.jetty.security.SecurityHandler.handle(SecurityHandler.java:548)\\n\\tat org.eclipse.jetty.server.handler.HandlerWrapper.handle(HandlerWrapper.java:132)\\n\\tat org.eclipse.jetty.server.handler.ScopedHandler.nextHandle(ScopedHandler.java:257)\\n\\tat org.eclipse.jetty.server.session.SessionHandler.doHandle(SessionHandler.java:1595)\\n\\tat org.eclipse.jetty.server.handler.ScopedHandler.nextHandle(ScopedHandler.java:255)\\n\\tat org.eclipse.jetty.server.handler.ContextHandler.doHandle(ContextHandler.java:1340)\\n\\tat org.eclipse.jetty.server.handler.ScopedHandler.nextScope(ScopedHandler.java:203)\\n\\tat org.eclipse.jetty.servlet.ServletHandler.doScope(ServletHandler.java:473)\\n\\tat org.eclipse.jetty.server.session.SessionHandler.doScope(SessionHandler.java:1564)\\n\\tat org.eclipse.jetty.server.handler.ScopedHandler.nextScope(ScopedHandler.java:201)\\n\\tat org.eclipse.jetty.server.handler.ContextHandler.doScope(ContextHandler.java:1242)\\n\\tat org.eclipse.jetty.server.handler.ScopedHandler.handle(ScopedHandler.java:144)\\n\\tat org.eclipse.jetty.server.handler.ContextHandlerCollection.handle(ContextHandlerCollection.java:220)\\n\\tat org.eclipse.jetty.server.handler.HandlerCollection.handle(HandlerCollection.java:126)\\n\\tat org.eclipse.jetty.server.handler.HandlerWrapper.handle(HandlerWrapper.java:132)\\n\\tat org.eclipse.jetty.server.Server.handle(Server.java:503)\\n\\tat org.eclipse.jetty.server.HttpChannel.handle(HttpChannel.java:364)\\n\\tat org.eclipse.jetty.server.HttpConnection.onFillable(HttpConnection.java:260)\\n\\tat org.eclipse.jetty.io.AbstractConnection$ReadCallback.succeeded(AbstractConnection.java:305)\\n\\tat org.eclipse.jetty.io.FillInterest.fillable(FillInterest.java:103)\\n\\tat org.eclipse.jetty.io.ChannelEndPoint$2.run(ChannelEndPoint.java:118)\\n\\tat org.eclipse.jetty.util.thread.strategy.EatWhatYouKill.runTask(EatWhatYouKill.java:333)\\n\\tat org.eclipse.jetty.util.thread.strategy.EatWhatYouKill.doProduce(EatWhatYouKill.java:310)\\n\\tat org.eclipse.jetty.util.thread.strategy.EatWhatYouKill.tryProduce(EatWhatYouKill.java:168)\\n\\tat org.eclipse.jetty.util.thread.strategy.EatWhatYouKill.run(EatWhatYouKill.java:126)\\n\\tat org.eclipse.jetty.util.thread.ReservedThreadExecutor$ReservedThread.run(ReservedThreadExecutor.java:366)\\n\\tat org.eclipse.jetty.util.thread.QueuedThreadPool.runJob(QueuedThreadPool.java:765)\\n\\tat org.eclipse.jetty.util.thread.QueuedThreadPool$2.run(QueuedThreadPool.java:683)\\n\\tat java.lang.Thread.run(Thread.java:748)\\n'</div></div>"
      ],
      "text/plain": [
       "Error: SPARQL error: EndPointInternalError: endpoint returned code 500 and response. \n",
       "\n",
       "Response:\n",
       "b'SPARQL-QUERY: queryStr=SELECT distinct ?work ?workLabel\\nWHERE\\n{\\n    ?work (wdt:P31/wdt:P279*) wd:Q47461344 .\\n    ?work ?relation wd:Q2145 .\\n    SERVICE wikibase:label { bd:serviceParam wikibase:language \"[AUTO_LANGUAGE],fr,en\". }\\n}\\njava.util.concurrent.TimeoutException\\n\\tat java.util.concurrent.FutureTask.get(FutureTask.java:205)\\n\\tat com.bigdata.rdf.sail.webapp.BigdataServlet.submitApiTask(BigdataServlet.java:292)\\n\\tat com.bigdata.rdf.sail.webapp.QueryServlet.doSparqlQuery(QueryServlet.java:678)\\n\\tat com.bigdata.rdf.sail.webapp.QueryServlet.doGet(QueryServlet.java:290)\\n\\tat com.bigdata.rdf.sail.webapp.RESTServlet.doGet(RESTServlet.java:240)\\n\\tat com.bigdata.rdf.sail.webapp.MultiTenancyServlet.doGet(MultiTenancyServlet.java:273)\\n\\tat javax.servlet.http.HttpServlet.service(HttpServlet.java:687)\\n\\tat javax.servlet.http.HttpServlet.service(HttpServlet.java:790)\\n\\tat org.eclipse.jetty.servlet.ServletHolder.handle(ServletHolder.java:865)\\n\\tat org.eclipse.jetty.servlet.ServletHandler$CachedChain.doFilter(ServletHandler.java:1655)\\n\\tat org.wikidata.query.rdf.blazegraph.throttling.ThrottlingFilter.doFilter(ThrottlingFilter.java:320)\\n\\tat org.eclipse.jetty.servlet.ServletHandler$CachedChain.doFilter(ServletHandler.java:1642)\\n\\tat org.wikidata.query.rdf.blazegraph.throttling.SystemOverloadFilter.doFilter(SystemOverloadFilter.java:82)\\n\\tat org.eclipse.jetty.servlet.ServletHandler$CachedChain.doFilter(ServletHandler.java:1642)\\n\\tat ch.qos.logback.classic.helpers.MDCInsertingServletFilter.doFilter(MDCInsertingServletFilter.java:49)\\n\\tat org.eclipse.jetty.servlet.ServletHandler$CachedChain.doFilter(ServletHandler.java:1642)\\n\\tat org.wikidata.query.rdf.blazegraph.filters.QueryEventSenderFilter.doFilter(QueryEventSenderFilter.java:117)\\n\\tat org.eclipse.jetty.servlet.ServletHandler$CachedChain.doFilter(ServletHandler.java:1642)\\n\\tat org.wikidata.query.rdf.blazegraph.filters.ClientIPFilter.doFilter(ClientIPFilter.java:43)\\n\\tat org.eclipse.jetty.servlet.ServletHandler$CachedChain.doFilter(ServletHandler.java:1642)\\n\\tat org.wikidata.query.rdf.blazegraph.filters.RealAgentFilter.doFilter(RealAgentFilter.java:33)\\n\\tat org.eclipse.jetty.servlet.ServletHandler$CachedChain.doFilter(ServletHandler.java:1634)\\n\\tat org.eclipse.jetty.servlet.ServletHandler.doHandle(ServletHandler.java:533)\\n\\tat org.eclipse.jetty.server.handler.ScopedHandler.handle(ScopedHandler.java:146)\\n\\tat org.eclipse.jetty.security.SecurityHandler.handle(SecurityHandler.java:548)\\n\\tat org.eclipse.jetty.server.handler.HandlerWrapper.handle(HandlerWrapper.java:132)\\n\\tat org.eclipse.jetty.server.handler.ScopedHandler.nextHandle(ScopedHandler.java:257)\\n\\tat org.eclipse.jetty.server.session.SessionHandler.doHandle(SessionHandler.java:1595)\\n\\tat org.eclipse.jetty.server.handler.ScopedHandler.nextHandle(ScopedHandler.java:255)\\n\\tat org.eclipse.jetty.server.handler.ContextHandler.doHandle(ContextHandler.java:1340)\\n\\tat org.eclipse.jetty.server.handler.ScopedHandler.nextScope(ScopedHandler.java:203)\\n\\tat org.eclipse.jetty.servlet.ServletHandler.doScope(ServletHandler.java:473)\\n\\tat org.eclipse.jetty.server.session.SessionHandler.doScope(SessionHandler.java:1564)\\n\\tat org.eclipse.jetty.server.handler.ScopedHandler.nextScope(ScopedHandler.java:201)\\n\\tat org.eclipse.jetty.server.handler.ContextHandler.doScope(ContextHandler.java:1242)\\n\\tat org.eclipse.jetty.server.handler.ScopedHandler.handle(ScopedHandler.java:144)\\n\\tat org.eclipse.jetty.server.handler.ContextHandlerCollection.handle(ContextHandlerCollection.java:220)\\n\\tat org.eclipse.jetty.server.handler.HandlerCollection.handle(HandlerCollection.java:126)\\n\\tat org.eclipse.jetty.server.handler.HandlerWrapper.handle(HandlerWrapper.java:132)\\n\\tat org.eclipse.jetty.server.Server.handle(Server.java:503)\\n\\tat org.eclipse.jetty.server.HttpChannel.handle(HttpChannel.java:364)\\n\\tat org.eclipse.jetty.server.HttpConnection.onFillable(HttpConnection.java:260)\\n\\tat org.eclipse.jetty.io.AbstractConnection$ReadCallback.succeeded(AbstractConnection.java:305)\\n\\tat org.eclipse.jetty.io.FillInterest.fillable(FillInterest.java:103)\\n\\tat org.eclipse.jetty.io.ChannelEndPoint$2.run(ChannelEndPoint.java:118)\\n\\tat org.eclipse.jetty.util.thread.strategy.EatWhatYouKill.runTask(EatWhatYouKill.java:333)\\n\\tat org.eclipse.jetty.util.thread.strategy.EatWhatYouKill.doProduce(EatWhatYouKill.java:310)\\n\\tat org.eclipse.jetty.util.thread.strategy.EatWhatYouKill.tryProduce(EatWhatYouKill.java:168)\\n\\tat org.eclipse.jetty.util.thread.strategy.EatWhatYouKill.run(EatWhatYouKill.java:126)\\n\\tat org.eclipse.jetty.util.thread.ReservedThreadExecutor$ReservedThread.run(ReservedThreadExecutor.java:366)\\n\\tat org.eclipse.jetty.util.thread.QueuedThreadPool.runJob(QueuedThreadPool.java:765)\\n\\tat org.eclipse.jetty.util.thread.QueuedThreadPool$2.run(QueuedThreadPool.java:683)\\n\\tat java.lang.Thread.run(Thread.java:748)\\n'"
      ]
     },
     "metadata": {},
     "output_type": "display_data"
    }
   ],
   "source": [
    "SELECT distinct ?work ?workLabel\n",
    "WHERE\n",
    "{\n",
    "    ?work (wdt:P31/wdt:P279*) wd:Q47461344 .\n",
    "    ?work ?relation wd:Q2145 .\n",
    "    SERVICE wikibase:label { bd:serviceParam wikibase:language \"[AUTO_LANGUAGE],fr,en\". }\n",
    "}"
   ]
  },
  {
   "cell_type": "markdown",
   "metadata": {},
   "source": [
    "L'exécution de la requête est trop longue. C'est la même chose si on limite à certains sous-titres d'oeuvres écrites. On va plutôt utiliser une requête sur des relations spécifiques liées à l'emplacement, en cherchant les oeuvres dont le sujet principal (P921), l'action (P840), ou ce qui est décrit (P180) est Québec:"
   ]
  },
  {
   "cell_type": "code",
   "execution_count": 17,
   "metadata": {},
   "outputs": [
    {
     "data": {
      "text/html": [
       "<div class=\"krn-spql\"><table><tr class=hdr><th>work</th>\n",
       "<th>workLabel</th></tr><tr class=odd><td class=val><a href=\"http://www.wikidata.org/entity/Q886446\" target=\"_other\">http://www.wikidata.org/entity/Q886446</a></td>\n",
       "<td class=val>Spider Bones</td></tr><tr class=even><td class=val><a href=\"http://www.wikidata.org/entity/Q63648939\" target=\"_other\">http://www.wikidata.org/entity/Q63648939</a></td>\n",
       "<td class=val>Joseph-Ernest Grégoire, quatre années de vie politique</td></tr><tr class=odd><td class=val><a href=\"http://www.wikidata.org/entity/Q24439187\" target=\"_other\">http://www.wikidata.org/entity/Q24439187</a></td>\n",
       "<td class=val>Q24439187</td></tr></table><div class=\"tinfo\">Total: 3, Shown: 3</div></div>"
      ]
     },
     "metadata": {},
     "output_type": "display_data"
    }
   ],
   "source": [
    "SELECT distinct ?work ?workLabel\n",
    "WHERE\n",
    "{\n",
    "    ?work (wdt:P31/wdt:P279*) wd:Q47461344 .\n",
    "    ?work (wdt:P921|wdt:P840|wdt:P180) wd:Q2145 .\n",
    "    SERVICE wikibase:label { bd:serviceParam wikibase:language \"[AUTO_LANGUAGE],fr,en\". }\n",
    "}"
   ]
  },
  {
   "cell_type": "markdown",
   "metadata": {},
   "source": [
    "On peut également reprendre la requête originale, trop longue à exécuter, mais en se limitant aux oeuvres littéraires:"
   ]
  },
  {
   "cell_type": "code",
   "execution_count": 14,
   "metadata": {},
   "outputs": [
    {
     "data": {
      "text/html": [
       "<div class=\"krn-spql\"><table><tr class=hdr><th>work</th>\n",
       "<th>workLabel</th>\n",
       "<th>relation</th>\n",
       "<th>relationLabel</th></tr><tr class=odd><td class=val><a href=\"http://www.wikidata.org/entity/Q51513428\" target=\"_other\">http://www.wikidata.org/entity/Q51513428</a></td>\n",
       "<td class=val>Les oiseaux de la province de Québec</td>\n",
       "<td class=val><a href=\"http://www.wikidata.org/entity/P291\" target=\"_other\">http://www.wikidata.org/entity/P291</a></td>\n",
       "<td class=val>lieu de publication</td></tr><tr class=even><td class=val><a href=\"http://www.wikidata.org/entity/Q63648939\" target=\"_other\">http://www.wikidata.org/entity/Q63648939</a></td>\n",
       "<td class=val>Joseph-Ernest Grégoire, quatre années de vie politique</td>\n",
       "<td class=val><a href=\"http://www.wikidata.org/entity/P921\" target=\"_other\">http://www.wikidata.org/entity/P921</a></td>\n",
       "<td class=val>sujet ou thème principal</td></tr><tr class=odd><td class=val><a href=\"http://www.wikidata.org/entity/Q51468513\" target=\"_other\">http://www.wikidata.org/entity/Q51468513</a></td>\n",
       "<td class=val>L'élevage du cheval en Canada</td>\n",
       "<td class=val><a href=\"http://www.wikidata.org/entity/P291\" target=\"_other\">http://www.wikidata.org/entity/P291</a></td>\n",
       "<td class=val>lieu de publication</td></tr><tr class=even><td class=val><a href=\"http://www.wikidata.org/entity/Q30310263\" target=\"_other\">http://www.wikidata.org/entity/Q30310263</a></td>\n",
       "<td class=val>Les Révélations du crime ou Cambray et ses complices</td>\n",
       "<td class=val><a href=\"http://www.wikidata.org/entity/P291\" target=\"_other\">http://www.wikidata.org/entity/P291</a></td>\n",
       "<td class=val>lieu de publication</td></tr><tr class=odd><td class=val><a href=\"http://www.wikidata.org/entity/Q51443292\" target=\"_other\">http://www.wikidata.org/entity/Q51443292</a></td>\n",
       "<td class=val>Les arbres de commerce de la province de Québec</td>\n",
       "<td class=val><a href=\"http://www.wikidata.org/entity/P291\" target=\"_other\">http://www.wikidata.org/entity/P291</a></td>\n",
       "<td class=val>lieu de publication</td></tr><tr class=even><td class=val><a href=\"http://www.wikidata.org/entity/Q51515313\" target=\"_other\">http://www.wikidata.org/entity/Q51515313</a></td>\n",
       "<td class=val>Ornithologie du Canada d'après la nomenclature de Baird</td>\n",
       "<td class=val><a href=\"http://www.wikidata.org/entity/P291\" target=\"_other\">http://www.wikidata.org/entity/P291</a></td>\n",
       "<td class=val>lieu de publication</td></tr><tr class=odd><td class=val><a href=\"http://www.wikidata.org/entity/Q22811578\" target=\"_other\">http://www.wikidata.org/entity/Q22811578</a></td>\n",
       "<td class=val>Édits, ordonnances royaux, déclarations et arrêts du Conseil d'État du Roi concernant le Canada</td>\n",
       "<td class=val><a href=\"http://www.wikidata.org/entity/P291\" target=\"_other\">http://www.wikidata.org/entity/P291</a></td>\n",
       "<td class=val>lieu de publication</td></tr></table><div class=\"tinfo\">Total: 7, Shown: 7</div></div>"
      ]
     },
     "metadata": {},
     "output_type": "display_data"
    }
   ],
   "source": [
    "SELECT distinct ?work ?workLabel ?relation ?relationLabel\n",
    "WHERE\n",
    "{\n",
    "    ?work (wdt:P31/wdt:P279*) wd:Q7725634 .\n",
    "    ?work ?rel wd:Q2145 .\n",
    "    SERVICE wikibase:label { bd:serviceParam wikibase:language \"[AUTO_LANGUAGE],fr,en\". }\n",
    "    ?relation wikibase:directClaim ?rel .\n",
    "}"
   ]
  },
  {
   "cell_type": "markdown",
   "metadata": {},
   "source": [
    "Ensuite pour les éditions, on cherche toutes celles ayant un lien avec Québec, peu importe le lien:"
   ]
  },
  {
   "cell_type": "code",
   "execution_count": 15,
   "metadata": {},
   "outputs": [
    {
     "data": {
      "text/html": [
       "<div class=\"krn-spql\"><table><tr class=hdr><th>edition</th>\n",
       "<th>editionLabel</th>\n",
       "<th>relation</th>\n",
       "<th>relationLabel</th></tr><tr class=odd><td class=val><a href=\"http://www.wikidata.org/entity/Q51515316\" target=\"_other\">http://www.wikidata.org/entity/Q51515316</a></td>\n",
       "<td class=val>Ornithologie du Canada quelques groupes d'après la nomenclature du Smithsonian Institution, de Washington</td>\n",
       "<td class=val><a href=\"http://www.wikidata.org/entity/P291\" target=\"_other\">http://www.wikidata.org/entity/P291</a></td>\n",
       "<td class=val>lieu de publication</td></tr><tr class=even><td class=val><a href=\"http://www.wikidata.org/entity/Q63314977\" target=\"_other\">http://www.wikidata.org/entity/Q63314977</a></td>\n",
       "<td class=val>Siege of Quebec … 1775. The Centenary Fête of the Literary and Historical Society, … 29th December, 1875 (1876 edition)</td>\n",
       "<td class=val><a href=\"http://www.wikidata.org/entity/P291\" target=\"_other\">http://www.wikidata.org/entity/P291</a></td>\n",
       "<td class=val>lieu de publication</td></tr><tr class=odd><td class=val><a href=\"http://www.wikidata.org/entity/Q51517160\" target=\"_other\">http://www.wikidata.org/entity/Q51517160</a></td>\n",
       "<td class=val>Les pêcheries du Canada</td>\n",
       "<td class=val><a href=\"http://www.wikidata.org/entity/P291\" target=\"_other\">http://www.wikidata.org/entity/P291</a></td>\n",
       "<td class=val>lieu de publication</td></tr><tr class=even><td class=val><a href=\"http://www.wikidata.org/entity/Q51513428\" target=\"_other\">http://www.wikidata.org/entity/Q51513428</a></td>\n",
       "<td class=val>Les oiseaux de la province de Québec</td>\n",
       "<td class=val><a href=\"http://www.wikidata.org/entity/P291\" target=\"_other\">http://www.wikidata.org/entity/P291</a></td>\n",
       "<td class=val>lieu de publication</td></tr><tr class=odd><td class=val><a href=\"http://www.wikidata.org/entity/Q98073693\" target=\"_other\">http://www.wikidata.org/entity/Q98073693</a></td>\n",
       "<td class=val>Le Palais Montcalm : 75 ans d'émotions</td>\n",
       "<td class=val><a href=\"http://www.wikidata.org/entity/P291\" target=\"_other\">http://www.wikidata.org/entity/P291</a></td>\n",
       "<td class=val>lieu de publication</td></tr><tr class=even><td class=val><a href=\"http://www.wikidata.org/entity/Q77009625\" target=\"_other\">http://www.wikidata.org/entity/Q77009625</a></td>\n",
       "<td class=val>Dictionnaire des artistes de langue française en Amérique du Nord</td>\n",
       "<td class=val><a href=\"http://www.wikidata.org/entity/P291\" target=\"_other\">http://www.wikidata.org/entity/P291</a></td>\n",
       "<td class=val>lieu de publication</td></tr><tr class=odd><td class=val><a href=\"http://www.wikidata.org/entity/Q51468513\" target=\"_other\">http://www.wikidata.org/entity/Q51468513</a></td>\n",
       "<td class=val>L'élevage du cheval en Canada</td>\n",
       "<td class=val><a href=\"http://www.wikidata.org/entity/P291\" target=\"_other\">http://www.wikidata.org/entity/P291</a></td>\n",
       "<td class=val>lieu de publication</td></tr><tr class=even><td class=val><a href=\"http://www.wikidata.org/entity/Q26205278\" target=\"_other\">http://www.wikidata.org/entity/Q26205278</a></td>\n",
       "<td class=val>Nouveau Chemin de la croix</td>\n",
       "<td class=val><a href=\"http://www.wikidata.org/entity/P291\" target=\"_other\">http://www.wikidata.org/entity/P291</a></td>\n",
       "<td class=val>lieu de publication</td></tr><tr class=odd><td class=val><a href=\"http://www.wikidata.org/entity/Q48520639\" target=\"_other\">http://www.wikidata.org/entity/Q48520639</a></td>\n",
       "<td class=val>Le Saguenay et le bassin du Lac St-Jean</td>\n",
       "<td class=val><a href=\"http://www.wikidata.org/entity/P291\" target=\"_other\">http://www.wikidata.org/entity/P291</a></td>\n",
       "<td class=val>lieu de publication</td></tr><tr class=even><td class=val><a href=\"http://www.wikidata.org/entity/Q61864645\" target=\"_other\">http://www.wikidata.org/entity/Q61864645</a></td>\n",
       "<td class=val>Mount Hermon Cemetery : rules and regulations.</td>\n",
       "<td class=val><a href=\"http://www.wikidata.org/entity/P291\" target=\"_other\">http://www.wikidata.org/entity/P291</a></td>\n",
       "<td class=val>lieu de publication</td></tr><tr class=odd><td class=val><a href=\"http://www.wikidata.org/entity/Q92078844\" target=\"_other\">http://www.wikidata.org/entity/Q92078844</a></td>\n",
       "<td class=val>Quelques notes sur Antoine de Lamothe de Cadillac</td>\n",
       "<td class=val><a href=\"http://www.wikidata.org/entity/P291\" target=\"_other\">http://www.wikidata.org/entity/P291</a></td>\n",
       "<td class=val>lieu de publication</td></tr><tr class=even><td class=val><a href=\"http://www.wikidata.org/entity/Q52685087\" target=\"_other\">http://www.wikidata.org/entity/Q52685087</a></td>\n",
       "<td class=val>Québec en 1900</td>\n",
       "<td class=val><a href=\"http://www.wikidata.org/entity/P291\" target=\"_other\">http://www.wikidata.org/entity/P291</a></td>\n",
       "<td class=val>lieu de publication</td></tr><tr class=odd><td class=val><a href=\"http://www.wikidata.org/entity/Q101405264\" target=\"_other\">http://www.wikidata.org/entity/Q101405264</a></td>\n",
       "<td class=val>Chansons populaires du Canada</td>\n",
       "<td class=val><a href=\"http://www.wikidata.org/entity/P291\" target=\"_other\">http://www.wikidata.org/entity/P291</a></td>\n",
       "<td class=val>lieu de publication</td></tr><tr class=even><td class=val><a href=\"http://www.wikidata.org/entity/Q51418606\" target=\"_other\">http://www.wikidata.org/entity/Q51418606</a></td>\n",
       "<td class=val>Ornithologie du Canada. D'après la nomenclature de Baird.</td>\n",
       "<td class=val><a href=\"http://www.wikidata.org/entity/P291\" target=\"_other\">http://www.wikidata.org/entity/P291</a></td>\n",
       "<td class=val>lieu de publication</td></tr><tr class=odd><td class=val><a href=\"http://www.wikidata.org/entity/Q101406016\" target=\"_other\">http://www.wikidata.org/entity/Q101406016</a></td>\n",
       "<td class=val>Mena’sen</td>\n",
       "<td class=val><a href=\"http://www.wikidata.org/entity/P291\" target=\"_other\">http://www.wikidata.org/entity/P291</a></td>\n",
       "<td class=val>lieu de publication</td></tr><tr class=even><td class=val><a href=\"http://www.wikidata.org/entity/Q101406410\" target=\"_other\">http://www.wikidata.org/entity/Q101406410</a></td>\n",
       "<td class=val>Au grand lac Victoria</td>\n",
       "<td class=val><a href=\"http://www.wikidata.org/entity/P291\" target=\"_other\">http://www.wikidata.org/entity/P291</a></td>\n",
       "<td class=val>lieu de publication</td></tr><tr class=odd><td class=val><a href=\"http://www.wikidata.org/entity/Q50828733\" target=\"_other\">http://www.wikidata.org/entity/Q50828733</a></td>\n",
       "<td class=val>Trois contes sauvages</td>\n",
       "<td class=val><a href=\"http://www.wikidata.org/entity/P291\" target=\"_other\">http://www.wikidata.org/entity/P291</a></td>\n",
       "<td class=val>lieu de publication</td></tr><tr class=even><td class=val><a href=\"http://www.wikidata.org/entity/Q20679705\" target=\"_other\">http://www.wikidata.org/entity/Q20679705</a></td>\n",
       "<td class=val>Le pèlerin de Sainte Anne, Tome I</td>\n",
       "<td class=val><a href=\"http://www.wikidata.org/entity/P291\" target=\"_other\">http://www.wikidata.org/entity/P291</a></td>\n",
       "<td class=val>lieu de publication</td></tr><tr class=odd><td class=val><a href=\"http://www.wikidata.org/entity/Q78880939\" target=\"_other\">http://www.wikidata.org/entity/Q78880939</a></td>\n",
       "<td class=val>Les jésuites et l'esclavage</td>\n",
       "<td class=val><a href=\"http://www.wikidata.org/entity/P291\" target=\"_other\">http://www.wikidata.org/entity/P291</a></td>\n",
       "<td class=val>lieu de publication</td></tr><tr class=even><td class=val><a href=\"http://www.wikidata.org/entity/Q63615887\" target=\"_other\">http://www.wikidata.org/entity/Q63615887</a></td>\n",
       "<td class=val>Dialogue avec l'histoire : les collections de la Bibliothèque de l'Université Laval</td>\n",
       "<td class=val><a href=\"http://www.wikidata.org/entity/P291\" target=\"_other\">http://www.wikidata.org/entity/P291</a></td>\n",
       "<td class=val>lieu de publication</td></tr></table><div class=\"tinfo\">Total: 33, Shown: 20</div></div>"
      ]
     },
     "metadata": {},
     "output_type": "display_data"
    }
   ],
   "source": [
    "SELECT distinct ?edition ?editionLabel ?relation ?relationLabel\n",
    "WHERE\n",
    "{\n",
    "    ?edition (wdt:P31/wdt:P279*) wd:Q3331189 .\n",
    "    ?edition ?rel wd:Q2145 .\n",
    "    SERVICE wikibase:label { bd:serviceParam wikibase:language \"[AUTO_LANGUAGE],fr,en\". }\n",
    "    ?relation wikibase:directClaim ?rel .\n",
    "}"
   ]
  },
  {
   "cell_type": "markdown",
   "metadata": {},
   "source": [
    "On note que certains éléments reviennent dans les deux listes précédentes: ils ont été documentés à la fois comme livre et comme édition.\n",
    "\n",
    "Même si cela ne respecte pas les conventions proposées par le projet Wikidata Livres, on veut voir si des entités sont classées comme livres (et pas oeuvre écrite ni édition) et sont liées à Québec:"
   ]
  },
  {
   "cell_type": "code",
   "execution_count": 16,
   "metadata": {},
   "outputs": [
    {
     "data": {
      "text/html": [
       "<div class=\"krn-spql\"><table><tr class=hdr><th>book</th>\n",
       "<th>bookLabel</th></tr><tr class=odd><td class=val><a href=\"http://www.wikidata.org/entity/Q98073693\" target=\"_other\">http://www.wikidata.org/entity/Q98073693</a></td>\n",
       "<td class=val>Le Palais Montcalm : 75 ans d'émotions</td></tr><tr class=even><td class=val><a href=\"http://www.wikidata.org/entity/Q51512145\" target=\"_other\">http://www.wikidata.org/entity/Q51512145</a></td>\n",
       "<td class=val>Nouveau manuel complet d'industrie laitière pour la province de Québec</td></tr><tr class=odd><td class=val><a href=\"http://www.wikidata.org/entity/Q61864645\" target=\"_other\">http://www.wikidata.org/entity/Q61864645</a></td>\n",
       "<td class=val>Mount Hermon Cemetery : rules and regulations.</td></tr><tr class=even><td class=val><a href=\"http://www.wikidata.org/entity/Q51513444\" target=\"_other\">http://www.wikidata.org/entity/Q51513444</a></td>\n",
       "<td class=val>Les oisseaux insectivores</td></tr></table><div class=\"tinfo\">Total: 4, Shown: 4</div></div>"
      ]
     },
     "metadata": {},
     "output_type": "display_data"
    }
   ],
   "source": [
    "SELECT distinct ?book ?bookLabel\n",
    "WHERE\n",
    "{\n",
    "    ?book (wdt:P31/wdt:P279*) wd:Q571 .\n",
    "    ?book ?relation wd:Q2145 .\n",
    "    SERVICE wikibase:label { bd:serviceParam wikibase:language \"[AUTO_LANGUAGE],fr,en\". }\n",
    "}"
   ]
  },
  {
   "cell_type": "markdown",
   "metadata": {},
   "source": [
    "### D'autres villes\n",
    "\n",
    "Pour continuer à avoir des points de repère, on voudra comparer le nombre d'oeuvres *publiées* à Québec, comparées à celles publiées dans les autres villes de notre échantillon. Première requête pour voir quelques exemples (en se limitant aux oeuvres littéraires, et en segmentant les villes en deux groupes, pour les raisons de performance déjà évoquées):"
   ]
  },
  {
   "cell_type": "code",
   "execution_count": 21,
   "metadata": {},
   "outputs": [
    {
     "data": {
      "text/html": [
       "<div class=\"krn-spql\"><table><tr class=hdr><th>cityLabel</th>\n",
       "<th>workCount</th></tr><tr class=odd><td class=val>Dublin</td>\n",
       "<td class=val>25</td></tr><tr class=even><td class=val>Barcelone</td>\n",
       "<td class=val>61</td></tr><tr class=odd><td class=val>Angoulême</td>\n",
       "<td class=val>1</td></tr><tr class=even><td class=val>Québec</td>\n",
       "<td class=val>6</td></tr></table><div class=\"tinfo\">Total: 4, Shown: 4</div></div>"
      ]
     },
     "metadata": {},
     "output_type": "display_data"
    }
   ],
   "source": [
    "SELECT ?cityLabel (count(distinct ?work) as ?workCount)\n",
    "WHERE\n",
    "{\n",
    "    VALUES ?city { wd:Q2145 wd:Q134346 wd:Q1492 wd:Q1761 }\n",
    "    ?work (wdt:P31/wdt:P279*) wd:Q7725634 .\n",
    "    ?work wdt:P291 ?city .\n",
    "    SERVICE wikibase:label { bd:serviceParam wikibase:language \"[AUTO_LANGUAGE],fr,en\". }\n",
    "}\n",
    "GROUP BY ?cityLabel"
   ]
  },
  {
   "cell_type": "code",
   "execution_count": 22,
   "metadata": {},
   "outputs": [
    {
     "data": {
      "text/html": [
       "<div class=\"krn-spql\"><table><tr class=hdr><th>cityLabel</th>\n",
       "<th>workCount</th></tr><tr class=odd><td class=val>Paris</td>\n",
       "<td class=val>733</td></tr><tr class=even><td class=val>New York</td>\n",
       "<td class=val>201</td></tr><tr class=odd><td class=val>Milan</td>\n",
       "<td class=val>34</td></tr><tr class=even><td class=val>Seattle</td>\n",
       "<td class=val>2</td></tr><tr class=odd><td class=val>Montréal</td>\n",
       "<td class=val>7</td></tr></table><div class=\"tinfo\">Total: 5, Shown: 5</div></div>"
      ]
     },
     "metadata": {},
     "output_type": "display_data"
    }
   ],
   "source": [
    "SELECT ?cityLabel (count(distinct ?work) as ?workCount)\n",
    "WHERE\n",
    "{\n",
    "    VALUES ?city { wd:Q490 wd:Q5083 wd:Q340 wd:Q90 wd:Q60 }\n",
    "    ?work (wdt:P31/wdt:P279*) wd:Q7725634 .\n",
    "    ?work wdt:P291 ?city .\n",
    "    SERVICE wikibase:label { bd:serviceParam wikibase:language \"[AUTO_LANGUAGE],fr,en\". }\n",
    "}\n",
    "GROUP BY ?cityLabel"
   ]
  },
  {
   "cell_type": "markdown",
   "metadata": {},
   "source": [
    "Et si on refait le même exercice sur la base des éditions:"
   ]
  },
  {
   "cell_type": "code",
   "execution_count": 23,
   "metadata": {},
   "outputs": [
    {
     "data": {
      "text/html": [
       "<div class=\"krn-spql\"><table><tr class=hdr><th>cityLabel</th>\n",
       "<th>editionCount</th></tr><tr class=odd><td class=val>New York</td>\n",
       "<td class=val>1085</td></tr><tr class=even><td class=val>Paris</td>\n",
       "<td class=val>2133</td></tr><tr class=odd><td class=val>Milan</td>\n",
       "<td class=val>126</td></tr><tr class=even><td class=val>Montréal</td>\n",
       "<td class=val>85</td></tr><tr class=odd><td class=val>Seattle</td>\n",
       "<td class=val>42</td></tr><tr class=even><td class=val>Dublin</td>\n",
       "<td class=val>46</td></tr><tr class=odd><td class=val>Barcelone</td>\n",
       "<td class=val>152</td></tr><tr class=even><td class=val>Québec</td>\n",
       "<td class=val>33</td></tr></table><div class=\"tinfo\">Total: 8, Shown: 8</div></div>"
      ]
     },
     "metadata": {},
     "output_type": "display_data"
    }
   ],
   "source": [
    "SELECT ?cityLabel (count(distinct ?edition) as ?editionCount)\n",
    "WHERE\n",
    "{\n",
    "    VALUES ?city { wd:Q2145 wd:Q134346 wd:Q1492 wd:Q1761 wd:Q490 wd:Q5083 wd:Q340 wd:Q90 wd:Q60 }\n",
    "    ?edition (wdt:P31/wdt:P279*) wd:Q3331189 .\n",
    "    ?edition wdt:P291 ?city .\n",
    "    SERVICE wikibase:label { bd:serviceParam wikibase:language \"[AUTO_LANGUAGE],fr,en\". }\n",
    "}\n",
    "GROUP BY ?cityLabel"
   ]
  },
  {
   "cell_type": "markdown",
   "metadata": {},
   "source": [
    "Pour compléter le portrait, nous pouvons faire le décompte des oeuvres qui traitent, ou dont l'action se déroule, dans les villes concernées."
   ]
  },
  {
   "cell_type": "code",
   "execution_count": 25,
   "metadata": {},
   "outputs": [
    {
     "data": {
      "text/html": [
       "<div class=\"krn-spql\"><table><tr class=hdr><th>cityLabel</th>\n",
       "<th>workCount</th></tr><tr class=odd><td class=val>Québec</td>\n",
       "<td class=val>1</td></tr><tr class=even><td class=val>Dublin</td>\n",
       "<td class=val>36</td></tr><tr class=odd><td class=val>Barcelone</td>\n",
       "<td class=val>27</td></tr></table><div class=\"tinfo\">Total: 3, Shown: 3</div></div>"
      ]
     },
     "metadata": {},
     "output_type": "display_data"
    }
   ],
   "source": [
    "SELECT ?cityLabel (count(distinct ?work) as ?workCount)\n",
    "WHERE\n",
    "{\n",
    "    VALUES ?city { wd:Q2145 wd:Q134346 wd:Q1492 wd:Q1761 }\n",
    "    ?work (wdt:P921|wdt:P840|wdt:P180) ?city .\n",
    "    ?work (wdt:P31/wdt:P279*) wd:Q7725634 .\n",
    "    SERVICE wikibase:label { bd:serviceParam wikibase:language \"[AUTO_LANGUAGE],fr,en\". }\n",
    "}\n",
    "GROUP BY ?cityLabel"
   ]
  },
  {
   "cell_type": "code",
   "execution_count": 24,
   "metadata": {},
   "outputs": [
    {
     "data": {
      "text/html": [
       "<div class=\"krn-spql\"><table><tr class=hdr><th>cityLabel</th>\n",
       "<th>workCount</th></tr><tr class=odd><td class=val>Paris</td>\n",
       "<td class=val>262</td></tr><tr class=even><td class=val>New York</td>\n",
       "<td class=val>393</td></tr><tr class=odd><td class=val>Montréal</td>\n",
       "<td class=val>5</td></tr><tr class=even><td class=val>Milan</td>\n",
       "<td class=val>41</td></tr><tr class=odd><td class=val>Seattle</td>\n",
       "<td class=val>11</td></tr></table><div class=\"tinfo\">Total: 5, Shown: 5</div></div>"
      ]
     },
     "metadata": {},
     "output_type": "display_data"
    }
   ],
   "source": [
    "SELECT ?cityLabel (count(distinct ?work) as ?workCount)\n",
    "WHERE\n",
    "{\n",
    "    VALUES ?city { wd:Q490 wd:Q5083 wd:Q340 wd:Q90 wd:Q60 }\n",
    "    ?work (wdt:P921|wdt:P840|wdt:P180) ?city .\n",
    "    ?work (wdt:P31/wdt:P279*) wd:Q7725634 .\n",
    "    SERVICE wikibase:label { bd:serviceParam wikibase:language \"[AUTO_LANGUAGE],fr,en\". }\n",
    "}\n",
    "GROUP BY ?cityLabel"
   ]
  },
  {
   "cell_type": "markdown",
   "metadata": {},
   "source": [
    "Et enfin, même question, pour les éditions."
   ]
  },
  {
   "cell_type": "code",
   "execution_count": 26,
   "metadata": {},
   "outputs": [
    {
     "data": {
      "text/html": [
       "<div class=\"krn-spql\"><table><tr class=hdr><th>cityLabel</th>\n",
       "<th>editionCount</th></tr><tr class=odd><td class=val>New York</td>\n",
       "<td class=val>5</td></tr><tr class=even><td class=val>Paris</td>\n",
       "<td class=val>50</td></tr><tr class=odd><td class=val>Montréal</td>\n",
       "<td class=val>1</td></tr><tr class=even><td class=val>Dublin</td>\n",
       "<td class=val>3</td></tr><tr class=odd><td class=val>Barcelone</td>\n",
       "<td class=val>1</td></tr></table><div class=\"tinfo\">Total: 5, Shown: 5</div></div>"
      ]
     },
     "metadata": {},
     "output_type": "display_data"
    }
   ],
   "source": [
    "SELECT ?cityLabel (count(distinct ?edition) as ?editionCount)\n",
    "WHERE\n",
    "{\n",
    "    VALUES ?city { wd:Q2145 wd:Q134346 wd:Q1492 wd:Q1761 wd:Q490 wd:Q5083 wd:Q340 wd:Q90 wd:Q60 }\n",
    "    ?edition (wdt:P921|wdt:P840|wdt:P180) ?city .\n",
    "    ?edition (wdt:P31/wdt:P279*) wd:Q3331189 .\n",
    "    SERVICE wikibase:label { bd:serviceParam wikibase:language \"[AUTO_LANGUAGE],fr,en\". }\n",
    "}\n",
    "GROUP BY ?cityLabel"
   ]
  },
  {
   "cell_type": "markdown",
   "metadata": {},
   "source": [
    "## Vrac / à explorer\n",
    "\n",
    "Je vois Nicolas Dickner dans les auteurs qui ont étudié à Québec, à l'Université Laval. Sa fiche contient des oeuvres notables, Tarmac et Nikolski. Les deux fiches portent sur les oeuvres et ne contiennent pas de référence aux éditions (et donc pas aux ISBN). Aucune fiche ne fait de lien avec les Éditions Alto."
   ]
  },
  {
   "cell_type": "markdown",
   "metadata": {},
   "source": [
    "## Autres notes / réflexions"
   ]
  },
  {
   "cell_type": "markdown",
   "metadata": {},
   "source": [
    "### Les sous-classes des oeuvres écrites\n",
    "\n",
    "La classe des oeuvres écrites (Q47461344) comporte un très grand nombre (plus de 70 000) de sous-classes, ce qui rend la plupart des requêtes concernant des entités de cette classe ou de ses sous-classes impraticables (elles génèrent des dépassement du délai d'exécution permis). La stratégie que nous utiliserons sera de s'intéresser seulement à certaines sous-classes de premier niveau, soit:"
   ]
  },
  {
   "cell_type": "code",
   "execution_count": 8,
   "metadata": {},
   "outputs": [
    {
     "data": {
      "text/html": [
       "<div class=\"krn-spql\"><table><tr class=hdr><th>subclass</th>\n",
       "<th>subclassLabel</th></tr><tr class=odd><td class=val><a href=\"http://www.wikidata.org/entity/Q191067\" target=\"_other\">http://www.wikidata.org/entity/Q191067</a></td>\n",
       "<td class=val>article</td></tr><tr class=even><td class=val><a href=\"http://www.wikidata.org/entity/Q234460\" target=\"_other\">http://www.wikidata.org/entity/Q234460</a></td>\n",
       "<td class=val>texte</td></tr><tr class=odd><td class=val><a href=\"http://www.wikidata.org/entity/Q277759\" target=\"_other\">http://www.wikidata.org/entity/Q277759</a></td>\n",
       "<td class=val>série de livres</td></tr><tr class=even><td class=val><a href=\"http://www.wikidata.org/entity/Q1433985\" target=\"_other\">http://www.wikidata.org/entity/Q1433985</a></td>\n",
       "<td class=val>broadside</td></tr><tr class=odd><td class=val><a href=\"http://www.wikidata.org/entity/Q1385450\" target=\"_other\">http://www.wikidata.org/entity/Q1385450</a></td>\n",
       "<td class=val>thèse ou écrit académique</td></tr><tr class=even><td class=val><a href=\"http://www.wikidata.org/entity/Q1501855\" target=\"_other\">http://www.wikidata.org/entity/Q1501855</a></td>\n",
       "<td class=val>programme électoral</td></tr><tr class=odd><td class=val><a href=\"http://www.wikidata.org/entity/Q3092752\" target=\"_other\">http://www.wikidata.org/entity/Q3092752</a></td>\n",
       "<td class=val>Apocryphe</td></tr><tr class=even><td class=val><a href=\"http://www.wikidata.org/entity/Q3030630\" target=\"_other\">http://www.wikidata.org/entity/Q3030630</a></td>\n",
       "<td class=val>dissertation</td></tr><tr class=odd><td class=val><a href=\"http://www.wikidata.org/entity/Q3099732\" target=\"_other\">http://www.wikidata.org/entity/Q3099732</a></td>\n",
       "<td class=val>rapport technique</td></tr><tr class=even><td class=val><a href=\"http://www.wikidata.org/entity/Q7725634\" target=\"_other\">http://www.wikidata.org/entity/Q7725634</a></td>\n",
       "<td class=val>œuvre littéraire</td></tr><tr class=odd><td class=val><a href=\"http://www.wikidata.org/entity/Q1376568\" target=\"_other\">http://www.wikidata.org/entity/Q1376568</a></td>\n",
       "<td class=val>appendix</td></tr><tr class=even><td class=val><a href=\"http://www.wikidata.org/entity/Q1640824\" target=\"_other\">http://www.wikidata.org/entity/Q1640824</a></td>\n",
       "<td class=val>inscription lapidaire</td></tr><tr class=odd><td class=val><a href=\"http://www.wikidata.org/entity/Q2352616\" target=\"_other\">http://www.wikidata.org/entity/Q2352616</a></td>\n",
       "<td class=val>catalogue</td></tr><tr class=even><td class=val><a href=\"http://www.wikidata.org/entity/Q15087423\" target=\"_other\">http://www.wikidata.org/entity/Q15087423</a></td>\n",
       "<td class=val>norme ISO</td></tr><tr class=odd><td class=val><a href=\"http://www.wikidata.org/entity/Q94709889\" target=\"_other\">http://www.wikidata.org/entity/Q94709889</a></td>\n",
       "<td class=val>Catholic church records</td></tr><tr class=even><td class=val><a href=\"http://www.wikidata.org/entity/Q3749265\" target=\"_other\">http://www.wikidata.org/entity/Q3749265</a></td>\n",
       "<td class=val>fragment</td></tr><tr class=odd><td class=val><a href=\"http://www.wikidata.org/entity/Q16324495\" target=\"_other\">http://www.wikidata.org/entity/Q16324495</a></td>\n",
       "<td class=val>Compilation</td></tr><tr class=even><td class=val><a href=\"http://www.wikidata.org/entity/Q12106333\" target=\"_other\">http://www.wikidata.org/entity/Q12106333</a></td>\n",
       "<td class=val>recueil de poèmes</td></tr><tr class=odd><td class=val><a href=\"http://www.wikidata.org/entity/Q1440451\" target=\"_other\">http://www.wikidata.org/entity/Q1440451</a></td>\n",
       "<td class=val>fragment collection</td></tr><tr class=even><td class=val><a href=\"http://www.wikidata.org/entity/Q1440453\" target=\"_other\">http://www.wikidata.org/entity/Q1440453</a></td>\n",
       "<td class=val>fragment</td></tr></table><div class=\"tinfo\">Total: 39, Shown: 20</div></div>"
      ]
     },
     "metadata": {},
     "output_type": "display_data"
    }
   ],
   "source": [
    "SELECT distinct ?subclass ?subclassLabel\n",
    "WHERE\n",
    "{\n",
    "    ?subclass wdt:P279 wd:Q47461344 .\n",
    "    SERVICE wikibase:label { bd:serviceParam wikibase:language \"[AUTO_LANGUAGE],fr,en\". }\n",
    "}"
   ]
  },
  {
   "cell_type": "markdown",
   "metadata": {},
   "source": [
    "Nous avons retenu les sous-classes suivantes, liées d'une certaine façon au monde du livre:\n",
    "\n",
    "* série de livres  wd:Q277759\n",
    "* thèse ou écrit académique wd:Q1385450\n",
    "* apocryphe wd:Q3092752\n",
    "* dissertation wd:Q3030630\n",
    "* rapport technique wd:Q3099732\n",
    "* catalogue wd:Q2352616\n",
    "* compilation wd:Q16324495\n",
    "* recueil de poèmes wd:Q12106333\n",
    "* fragment wd:Q1440453 («twittérature»)\n",
    "* œuvre littéraire wd:Q7725634\n",
    "* œuvre scientifique (Q11826511)\n",
    "* œuvre collective (Q3594128\n",
    "* manga (Q8274)\n",
    "* bande dessinée (Q1004)\n",
    "* dictionnaire (Q23622)\n",
    "* ouvrage de référence (Q13136)\n",
    "* œuvre académique (Q55915575)\n",
    "* front and back matter of a book(Q61782498)\n",
    "* Guide d'achat du vin (Q63994109)\n",
    "\n",
    "Tout ça semble un peu arbitraire ou étrange (pourquoi les guides d'achat de vin sont une sous-classe directe des oeuvres écrites, mais pas les autres guides d'achat? manga est à la fois une sous-classe d'oeuvre écrite et de bande dessinée, est-ce nécessaire de le conserver dans notre sélection?).\n",
    "\n",
    "On pourrait donc utiliser `VALUES ?workType { wd:Q277759 wd:Q1385450 wd:Q3092752 wd:Q3030630 wd:Q3099732 wd:Q2352616 wd:Q16324495 wd:Q12106333 wd:Q1440453 wd:Q7725634 wd:Q11826511 wd:Q3594128 wd:Q8274 wd:Q1004 wd:Q23622 wd:Q13136 wd:Q55915575 wd:Q61782498 wd:Q63994109 }` dans nos requêtes.\n",
    "\n",
    "Toutefois, après quelques essais, ça ne règle pas vraiment le problème du temps d'exécution."
   ]
  }
 ],
 "metadata": {
  "kernelspec": {
   "display_name": "SPARQL",
   "language": "sparql",
   "name": "sparql"
  },
  "language_info": {
   "codemirror_mode": {
    "name": "sparql"
   },
   "mimetype": "application/sparql-query",
   "name": "sparql",
   "pygments_lexer": "sparql-nb"
  }
 },
 "nbformat": 4,
 "nbformat_minor": 2
}
